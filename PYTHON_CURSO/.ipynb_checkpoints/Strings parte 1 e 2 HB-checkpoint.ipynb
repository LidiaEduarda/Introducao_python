{
 "cells": [
  {
   "cell_type": "markdown",
   "id": "56e72180-cc95-4915-b22b-1730772ba955",
   "metadata": {},
   "source": [
    "# 3. Slicing (fatiamento) em strings"
   ]
  },
  {
   "cell_type": "code",
   "execution_count": 21,
   "id": "fe2b4e8b-7e62-4e44-84a6-fe6984abc2cc",
   "metadata": {},
   "outputs": [],
   "source": [
    "# Redefinindo a string s\n",
    "s = \"Jupyter Notebook\""
   ]
  },
  {
   "cell_type": "code",
   "execution_count": 22,
   "id": "96646483-9977-486a-b1f1-a59acc5beb78",
   "metadata": {},
   "outputs": [
    {
     "data": {
      "text/plain": [
       "'Jupyter'"
      ]
     },
     "execution_count": 22,
     "metadata": {},
     "output_type": "execute_result"
    }
   ],
   "source": [
    "# Retornando apenas a palavra Jupyter - 1a opção\n",
    "s[0:7] # Estamos acessando o string s a partir do índice 0 até o índice 6"
   ]
  },
  {
   "cell_type": "code",
   "execution_count": 25,
   "id": "e2268652-d0ed-41da-9c86-2546e206b993",
   "metadata": {},
   "outputs": [
    {
     "data": {
      "text/plain": [
       "'Jupyter'"
      ]
     },
     "execution_count": 25,
     "metadata": {},
     "output_type": "execute_result"
    }
   ],
   "source": [
    "# Retornando apenas a palavra Jupyter - 2a opção\n",
    "s[-16:-9] # Estamos acessando o string s a partir do índice -16 até o índice -10"
   ]
  },
  {
   "cell_type": "code",
   "execution_count": 28,
   "id": "547e088c-b505-4027-a7a9-835887276eeb",
   "metadata": {},
   "outputs": [
    {
     "data": {
      "text/plain": [
       "'Jupyter'"
      ]
     },
     "execution_count": 28,
     "metadata": {},
     "output_type": "execute_result"
    }
   ],
   "source": [
    "# Retornando apenas a palavra Jupyter - 3a opção\n",
    "s[:7] # Estamos acessando o string s a partir do início até o índice 6"
   ]
  },
  {
   "cell_type": "code",
   "execution_count": 29,
   "id": "4396918f-e94c-4629-9a78-5d70a6963b1e",
   "metadata": {},
   "outputs": [
    {
     "data": {
      "text/plain": [
       "'Jupyter'"
      ]
     },
     "execution_count": 29,
     "metadata": {},
     "output_type": "execute_result"
    }
   ],
   "source": [
    "# Retornando apenas a palavra Jupyter - 4a opção\n",
    "s[:-9] # Estamos acessando o string s a partir do início até o índice -10"
   ]
  },
  {
   "cell_type": "code",
   "execution_count": 30,
   "id": "20caac95-3011-410e-8c18-65f1fd0e304c",
   "metadata": {},
   "outputs": [
    {
     "data": {
      "text/plain": [
       "'Notebook'"
      ]
     },
     "execution_count": 30,
     "metadata": {},
     "output_type": "execute_result"
    }
   ],
   "source": [
    "# Retornando apenas a palavra Notebook - 1a opção\n",
    "s[8:16] # Estamos acessando o string s a partir do índice 8 até o índice 15"
   ]
  },
  {
   "cell_type": "code",
   "execution_count": 31,
   "id": "db5b5f8b-f44f-42fd-a33d-eb89e24e08bd",
   "metadata": {},
   "outputs": [
    {
     "data": {
      "text/plain": [
       "'Notebook'"
      ]
     },
     "execution_count": 31,
     "metadata": {},
     "output_type": "execute_result"
    }
   ],
   "source": [
    "# Retornando apenas a palavra Notebook - 2a opção\n",
    "s[-8:] # Estamos acessando o string s a partir do índice -16 até o índice -9"
   ]
  },
  {
   "cell_type": "code",
   "execution_count": 32,
   "id": "f9562f76-0c22-4804-815c-3856a94db8c1",
   "metadata": {},
   "outputs": [
    {
     "data": {
      "text/plain": [
       "'Notebook'"
      ]
     },
     "execution_count": 32,
     "metadata": {},
     "output_type": "execute_result"
    }
   ],
   "source": [
    "# Retornando apenas a palavra Notebook - 3a opção\n",
    "s[8:] # Estamos acessando o string s a partir do início até o índice 6"
   ]
  },
  {
   "cell_type": "code",
   "execution_count": 33,
   "id": "74983366-10df-4ebc-8488-72b1eee7dddb",
   "metadata": {},
   "outputs": [
    {
     "data": {
      "text/plain": [
       "'Jptr'"
      ]
     },
     "execution_count": 33,
     "metadata": {},
     "output_type": "execute_result"
    }
   ],
   "source": [
    "# Nós podemos acessar posições não contínuas\n",
    "s[0:7:2] # Serão acessados os caracteres armazenados nas posiçõs 0, 2, 4 e 6 (o incremento informado foi 2)"
   ]
  },
  {
   "cell_type": "code",
   "execution_count": 34,
   "id": "dfe5b3cc-be68-4dd7-881a-fcf73979b088",
   "metadata": {},
   "outputs": [
    {
     "data": {
      "text/plain": [
       "'Jyrobk'"
      ]
     },
     "execution_count": 34,
     "metadata": {},
     "output_type": "execute_result"
    }
   ],
   "source": [
    "# Serão acessadas os caracteres armazenados desde o início até o final, com incremento de 3 (posições 0,3,6,9,12,15)\n",
    "s[::3] "
   ]
  },
  {
   "cell_type": "code",
   "execution_count": 35,
   "id": "6c598241-41db-4565-a0d5-25b85ef6420d",
   "metadata": {},
   "outputs": [
    {
     "data": {
      "text/plain": [
       "'koobetoN retypuJ'"
      ]
     },
     "execution_count": 35,
     "metadata": {},
     "output_type": "execute_result"
    }
   ],
   "source": [
    "# Com incrementos negativos, podemos acessar o string em ordem invertida - 1a opçao\n",
    "s[-1::-1] # da posição -1 até o início, com incremento -1"
   ]
  },
  {
   "cell_type": "code",
   "execution_count": 36,
   "id": "5855e0ad-f766-4731-a1a1-dc968d488b28",
   "metadata": {},
   "outputs": [
    {
     "data": {
      "text/plain": [
       "'koobetoN retypuJ'"
      ]
     },
     "execution_count": 36,
     "metadata": {},
     "output_type": "execute_result"
    }
   ],
   "source": [
    "# Com incrementos negativos, podemos acessar o string em ordem invertida - 2a opçao\n",
    "s[-1:-17:-1] # da posição -1 até a posição -16, com incremento -1"
   ]
  },
  {
   "cell_type": "code",
   "execution_count": 37,
   "id": "d832f16e-f382-44ad-b9ca-6829f5480d56",
   "metadata": {},
   "outputs": [
    {
     "data": {
      "text/plain": [
       "'koobetoN retypuJ'"
      ]
     },
     "execution_count": 37,
     "metadata": {},
     "output_type": "execute_result"
    }
   ],
   "source": [
    "# Com incrementos negativos, podemos acessar o string em ordem invertida - 3a opçao\n",
    "s[16::-1] # da posição 16 até p início, com incremento -1"
   ]
  },
  {
   "cell_type": "code",
   "execution_count": 38,
   "id": "b9b94fac-1411-4845-b423-06024e4b8de6",
   "metadata": {},
   "outputs": [
    {
     "data": {
      "text/plain": [
       "'koobetoN retypuJ'"
      ]
     },
     "execution_count": 38,
     "metadata": {},
     "output_type": "execute_result"
    }
   ],
   "source": [
    "# Com incrementos negativos, podemos acessar o string em ordem invertida - 4a opçao\n",
    "s[::-1] # do final até o início, com incremento -1"
   ]
  },
  {
   "cell_type": "code",
   "execution_count": 39,
   "id": "9f817987-7cd5-4e36-bfa1-4368de6617d5",
   "metadata": {},
   "outputs": [
    {
     "name": "stdout",
     "output_type": "stream",
     "text": [
      "\n",
      "P\n",
      "Py\n",
      "Pyt\n",
      "Pyth\n",
      "Pytho\n",
      "Python\n",
      "Python\n"
     ]
    }
   ],
   "source": [
    "# Acessando partes do string, a partir do início\n",
    "p = \"Python\"\n",
    "print(p[:0]) # ''\n",
    "print(p[:1]) # 'P'\n",
    "print(p[:2]) # 'Py'\n",
    "print(p[:3]) # 'Pyt'\n",
    "print(p[:4]) # 'Pyth'\n",
    "print(p[:5]) # 'Pytho'\n",
    "print(p[:6]) # 'Python'\n",
    "print(p[:])  # 'Python'"
   ]
  },
  {
   "cell_type": "code",
   "execution_count": 40,
   "id": "4d7e0aa4-0806-4d68-bb2a-95d735c93172",
   "metadata": {},
   "outputs": [
    {
     "name": "stdout",
     "output_type": "stream",
     "text": [
      "P\n",
      "Py\n",
      "Pyt\n",
      "Pyth\n",
      "Pytho\n",
      "Python\n",
      "Python\n"
     ]
    }
   ],
   "source": [
    "print(p[0:1]) # 'P'\n",
    "print(p[0:2]) # 'Py'\n",
    "print(p[0:3]) # 'Pyt'\n",
    "print(p[0:4]) # 'Pyth'\n",
    "print(p[0:5]) # 'Pytho'\n",
    "print(p[0:6]) # 'Python'\n",
    "print(p[0:])  # 'Python'"
   ]
  },
  {
   "cell_type": "code",
   "execution_count": 41,
   "id": "513b12ed-1e80-4654-bde4-d3db89349a93",
   "metadata": {},
   "outputs": [
    {
     "name": "stdout",
     "output_type": "stream",
     "text": [
      "Python\n",
      "Python\n",
      "ython\n",
      "thon\n",
      "hon\n",
      "on\n",
      "n\n",
      "\n"
     ]
    }
   ],
   "source": [
    "# Acessando partes do string, de uma posição qualquer até o final\n",
    "print(p[:])  # 'Python'\n",
    "print(p[0:]) # 'Python'\n",
    "print(p[1:]) # 'ython'\n",
    "print(p[2:]) # 'thon'\n",
    "print(p[3:]) # 'hon'\n",
    "print(p[4:]) # 'on'\n",
    "print(p[5:]) # 'n'\n",
    "print(p[6:]) # ''"
   ]
  },
  {
   "cell_type": "markdown",
   "id": "38d4306e-3964-4e71-9b07-adcd1f696432",
   "metadata": {},
   "source": [
    "# 4. Operadores aplicados a strings\n"
   ]
  },
  {
   "cell_type": "markdown",
   "id": "4a1d40f2-fc48-442c-a8f5-415cf7a44994",
   "metadata": {},
   "source": [
    "| Operador | Significado   | Exemplo                    |\n",
    "|:---|:---|:---|\n",
    "| s\\[ind\\] | Acesso a uma posição | `s[0]` |\n",
    "| s\\[i:f\\] | Acesso a uma faixa de posições | `s[1:3]` |\n",
    "| s\\[i:f:inc\\] | Acesso a uma faixa de posições com incremento | `s[0:15:3]` |\n",
    "| s1 + s2 | Concatenação de strings | `novastr = s1 + s2` |\n",
    "| s\\*n | Retorna um string contendo n repetições de s | `s = 'ABC'*10` |\n",
    "| s1 in s2 | Retorna True se o substring *s1* está contido em *s2* | `'ABC' in 'ABCDEFGH'` |\n",
    "| s1 not in s2 | Retorna True se o substring *s1* não está contido em *s2* | `'XYZ' not in 'ABCDEFGH'` |"
   ]
  },
  {
   "cell_type": "code",
   "execution_count": 42,
   "id": "3564ec4a-2400-487d-b74a-358df2d4363b",
   "metadata": {},
   "outputs": [
    {
     "name": "stdout",
     "output_type": "stream",
     "text": [
      "A\n",
      "linguagem\n",
      "!siamed é nohtyP megaugnil A\n",
      "A linguagem Python é demais! Sensacional!!!\n",
      "PythonPythonPython\n",
      "O substring 'Python' está contindo em 'A linguagem Python é demais!' => True\n",
      "O substring 'PythonPythonPython' não está contindo em 'A linguagem Python é demais! Sensacional!!!' => True\n"
     ]
    }
   ],
   "source": [
    "s = \"A linguagem Python é demais!\"\n",
    "s1 = \"Python\"\n",
    "print(s[0])  # \"A\"\n",
    "print(s[2:11]) # \"linguagem\"\n",
    "print(s[::-1]) # \"\"!siamed é nohtyP megaugnil A\"\n",
    "s2 = s + \" Sensacional!!!\" # Concatenação\n",
    "print(s2)\n",
    "s3 = s1*3 # Concatenando o string s1 3 vezes\n",
    "print(s3)\n",
    "print(\"O substring '{}' está contindo em '{}' => {}\".format(s1, s, s1 in s))\n",
    "print(\"O substring '{}' não está contindo em '{}' => {}\".format(s3, s2, s3 not in s2))"
   ]
  },
  {
   "cell_type": "markdown",
   "id": "da9370ef-cae5-4dad-84e6-1c0c3ca2a3b2",
   "metadata": {},
   "source": [
    "# 6. Métodos do objeto String\n",
    "\n",
    "| Método | Descrição | Exemplo |\n",
    "|:------------|:---------------------------------------------------------------------------------------------|:--------------|\n",
    "| [capitalize()](https://www.programiz.com/python-programming/methods/string/capitalize) | Retorna uma cópia da string com primeiro caractere maiúsculo e os caracteres restantes em minúsculo | `s.capitalize()`|\n",
    "| [casefold()](https://www.programiz.com/python-programming/methods/string/casefold) | Retorna uma cópia da string convertido para letras minúsculas | `s.casefold()` |\n",
    "| [center()](https://www.programiz.com/python-programming/methods/string/center) | Retorna uma cópia da string centralizada e preenchida com o caractere especificado (*default* = espaço em branco) | `s.center(20)` |\n",
    "| [center()](https://www.programiz.com/python-programming/methods/string/center) | Retorna uma cópia da string centralizada e preenchida com o caractere especificado (*default* = espaço em branco) | `s.center(20, '*')` |\n",
    "| [count()](https://www.programiz.com/python-programming/methods/string/count) | Retorna o número de ocorrências de um determinado substring | `s.count('abc')` |\n",
    "| [encode()](https://www.programiz.com/python-programming/methods/string/encode) | Retorna uma cópia da string utilizando um determinando *encoding* (*default* = UTF-8)| `s.encode()`|\n",
    "| [endswith()](https://www.programiz.com/python-programming/methods/string/endswith) | Retorna `True` se uma string terminar com o sufixo especificado | `s.endswith(\"python\")` |\n",
    "| [expandtabs()](https://www.programiz.com/python-programming/methods/string/expandtabs) | Retorna uma cópia da string no qual os caracteres de tabulação `\\t` são substituídos por caracteres de espaço em branco | s.expandtabs(3)\n",
    "| [find()](https://www.programiz.com/python-programming/methods/string/find) | Retorna o índice da primeira ocorrência da substring. Se não encontrado, retorna -1 | `s.find('python')` |\n",
    "| [format()](https://www.programiz.com/python-programming/methods/string/format) | Formata a string de entrada em uma string de saída | `\"{} é {}\".format(\"Python\", \"demais!\")` |\n",
    "| [index()](https://www.programiz.com/python-programming/methods/string/index) | Retorna o índice da primeira ocorrência de uma substring dentro da string. Se a substring não for encontrada, levanta uma exceção | `s.index('python')`|\n",
    "| [isalnum()](https://www.programiz.com/python-programming/methods/string/isalnum) | Retorna `True` se todos os caracteres na string forem alfanuméricos (letras ou números) | `s.isalnum()`|\n",
    "| [isalpha()](https://www.programiz.com/python-programming/methods/string/isalpha) | Retorna `True` se a string tiver apenas letras |`s.isalpha()`|\n",
    "| isascii() | Retorna True se todos os caracteres na string forem ASCII | `s.isascii()`|\n",
    "| [isdecimal()](https://www.programiz.com/python-programming/methods/string/isdecimal) | Retorna `True` se todos os caracteres na string forem decimais (0 a 9) | `s.isdecimal()` |\n",
    "| [isdigit()](https://www.programiz.com/python-programming/methods/string/isdigit) | Retorna `True` se todos os caracteres na string forem dígitos (ex: 3²) | `s.isdigit()`|\n",
    "| [isidentifier()](https://www.programiz.com/python-programming/methods/string/isidentifier) | Retorna `True` se a string for um identificador válido em Python | `s.isidentifier()`|\n",
    "| [islower()](https://www.programiz.com/python-programming/methods/string/islower) | Retorna `True` se todos as letras da string forem letras minúsculas | `s.islower()` |\n",
    "| [isnumeric()](https://www.programiz.com/python-programming/methods/string/isnumeric) | Retorna `True` se todos os caracteres na string forem numéricos (ex: ½) | `s.isnumeric()`|\n",
    "| [isprintable()](https://www.programiz.com/python-programming/methods/string/isprintable) | Retorna `True` se todos os caracteres da string podem ser impressos | `s.isprintable()`|\n",
    "| [isspace()](https://www.programiz.com/python-programming/methods/string/isspace) | Retorna `True` se houverem apenas espaços em branco na string | `s.isspace()` |\n",
    "| [istitle()](https://www.programiz.com/python-programming/methods/string/istitle) | Retorna `True` se a string estiver em formato de *título*, ou seja, se cada palavra da string começa com letra maiúscula e tem o restante das letras minúsculas | `s.istitle()`|\n",
    "| [isupper()](https://www.programiz.com/python-programming/methods/string/isupper) | Retorna `True` se todos as letras do string forem letras maiúsculas | `s.isupper()` |\n",
    "| [ljust()](https://www.programiz.com/python-programming/methods/string/ljust) | Retorna uma cópia da string justificada à esquerda| `s.ljust(20)`|\n",
    "| [lower()](https://www.programiz.com/python-programming/methods/string/lower) | Retorna uma cópia da string com as letras maiúsculas convertidas em minúsculas | `s.lower()`|\n",
    "| [lstrip()](https://www.programiz.com/python-programming/methods/string/lstrip) | Retorna uma cópia da string com os caracteres passados por parâmetro removidos do início da string | `s.lstrip(' *@')` |\n",
    "| [partition()](https://www.programiz.com/python-programming/methods/string/partition) | Divide a string e retorna uma tupla contendo a parte antes do separador (primeira ocorrência), a string de argumento (separador) e a parte após o separador | `s.partition('@')`|\n",
    "| [replace()](https://www.programiz.com/python-programming/methods/string/replace) | Retorna uma cópia da string onde todas as ocorrências de uma substring são substituídas por outra | `s.partition('@',' at ')`|\n",
    "| [rfind()](https://www.programiz.com/python-programming/methods/string/rfind) | Retorna o índice da última ocorrência da substring. Se não encontrado, retorna -1 | `s.rfind('python')` |\n",
    "| [rindex()](https://www.programiz.com/python-programming/methods/string/rindex) | Retorna o índice da última ocorrência da substring dentro da string. Se a substring não for encontrada, levanta uma exceção | `s.rindex('python')`|\n",
    "| [rjust()](https://www.programiz.com/python-programming/methods/string/rjust) | Retorna uma cópia da string justificada à direita | `s.rjust(20)`|\n",
    "| [rpartition()](https://www.programiz.com/python-programming/methods/string/partition) | Divide a string e retorna uma tupla contendo a parte antes do separador (última ocorrência), a string de argumento (separador) e a parte após o separador | `s.rpartition('@')`|\n",
    "| [rsplit()](https://www.programiz.com/python-programming/methods/string/rsplit) | Divide a string à partir da direita (última posição), usando um separador passado por parâmetro, e retorna uma lista de strings| `s.rsplit(';')`|\n",
    "| [rstrip()](https://www.programiz.com/python-programming/methods/string/rstrip) | Retorna uma cópia da string com os caracteres passados por parâmetro removidos do final da string | `s.rstrip('!?.')` |\n",
    "| [split()](https://www.programiz.com/python-programming/methods/string/split) | Divide a string à partir da esquerda (primeira posição), usando um separador passado por parâmetro, e retorna uma lista de strings| `s.split(';')`|\n",
    "| [splitlines()](https://www.programiz.com/python-programming/methods/string/splitlines) | Divide e retorna as linhas contidas em uma string  | `s.splitlines()`|\n",
    "| [starstwith()](https://www.programiz.com/python-programming/methods/string/startswith) | Retorna `True` se uma string começar com o prefixo especificado | `s.starstwith(\"Python\")` |\n",
    "| [strip()](https://www.programiz.com/python-programming/methods/string/strip) | Retorna uma cópia da string com os caracteres passados por parâmetro removidos do início e do final da string | `s.strip(' *@')` |\n",
    "| [swapcase()](https://www.w3schools.com/python/ref_string_swapcase.asp) | Retorna uma cópia da string com letras minúsculas convertidas em maiúsculas e vice-versa | `s.swapcase()`|\n",
    "| [title()](https://www.programiz.com/python-programming/methods/string/title) | Retorna uma cópia da string com a primeira letra de cada palavra convertida para maiúscula | `s.title()` |\n",
    "| [upper()](https://www.programiz.com/python-programming/methods/string/upper) | Retorna uma cópia da string com as letras minúsculas convertidas em maiúsculas | `s.upper()`|\n",
    "| [zfill()](https://www.programiz.com/python-programming/methods/string/zfill) | Retorna uma cópia da string preenchida com 0s (zeros) à esquerda | `s.zfill(8)`|"
   ]
  },
  {
   "cell_type": "markdown",
   "id": "6b980df9-1c86-465f-aac9-3a5cdc0d848f",
   "metadata": {},
   "source": [
    "### 6.1 Exemplo do método capitalize()"
   ]
  },
  {
   "cell_type": "code",
   "execution_count": 45,
   "id": "72a9fa60-3122-4447-a6a1-354f395666f9",
   "metadata": {},
   "outputs": [
    {
     "data": {
      "text/plain": [
       "'A linguagem python é demais!'"
      ]
     },
     "execution_count": 45,
     "metadata": {},
     "output_type": "execute_result"
    }
   ],
   "source": [
    "#Retorna uma cópia da string com primeiro caractere maiúsculo e os caracteres restantes em minúsculo\n",
    "s = \"a linguagem python é demais!\"\n",
    "s.capitalize()"
   ]
  },
  {
   "cell_type": "code",
   "execution_count": 46,
   "id": "2a034a15-8aad-4588-a136-e12bbfb11e0e",
   "metadata": {},
   "outputs": [
    {
     "data": {
      "text/plain": [
       "'a linguagem python é demais!'"
      ]
     },
     "execution_count": 46,
     "metadata": {},
     "output_type": "execute_result"
    }
   ],
   "source": [
    "# Importante ressaltar que a string s não foi alterada\n",
    "s"
   ]
  },
  {
   "cell_type": "code",
   "execution_count": 48,
   "id": "732fc457-f574-41e0-94d2-1ba29add4876",
   "metadata": {},
   "outputs": [
    {
     "data": {
      "text/plain": [
       "'A linguagem python é demais!'"
      ]
     },
     "execution_count": 48,
     "metadata": {},
     "output_type": "execute_result"
    }
   ],
   "source": [
    "# Associando o resultado de s em uma nova vriavel s1\n",
    "s1 = s.capitalize()\n",
    "s1"
   ]
  },
  {
   "cell_type": "markdown",
   "id": "8a78f1a9-ce2b-4054-b09a-292ef2cca18f",
   "metadata": {},
   "source": [
    "### 6.2 Exemplo dos métodos casefold(),  lower() e upper()"
   ]
  },
  {
   "cell_type": "code",
   "execution_count": 50,
   "id": "6e1fe577-921b-422b-b23f-304e8302cc22",
   "metadata": {},
   "outputs": [
    {
     "data": {
      "text/plain": [
       "'abcdef'"
      ]
     },
     "execution_count": 50,
     "metadata": {},
     "output_type": "execute_result"
    }
   ],
   "source": [
    "# .cansefold() - Retorna uma cópia da string convertido para letras minúsculas \n",
    "s = \"AbCdEf\"\n",
    "s1 = s.casefold()\n",
    "s1"
   ]
  },
  {
   "cell_type": "code",
   "execution_count": 52,
   "id": "99e232b8-5907-4894-a72c-2bcc7c292685",
   "metadata": {},
   "outputs": [
    {
     "data": {
      "text/plain": [
       "'abcdef'"
      ]
     },
     "execution_count": 52,
     "metadata": {},
     "output_type": "execute_result"
    }
   ],
   "source": [
    "# .lower() - Retorna uma cópia da string com as letras maiúsculas convertidas em minúsculas \n",
    "s2 = s.lower()\n",
    "s2"
   ]
  },
  {
   "cell_type": "code",
   "execution_count": 53,
   "id": "1906b355-efca-4b56-bc60-306a5d818f9b",
   "metadata": {},
   "outputs": [
    {
     "data": {
      "text/plain": [
       "'ABCDEF'"
      ]
     },
     "execution_count": 53,
     "metadata": {},
     "output_type": "execute_result"
    }
   ],
   "source": [
    "# .upper() - Retorna uma cópia da string com as letras minúsculas convertidas em maiúsculas\n",
    "s3 = s.upper()\n",
    "s3"
   ]
  },
  {
   "cell_type": "code",
   "execution_count": 54,
   "id": "bb3c9b86-6e1e-4280-9dbb-59d956ac2751",
   "metadata": {},
   "outputs": [
    {
     "data": {
      "text/plain": [
       "'der fluss'"
      ]
     },
     "execution_count": 54,
     "metadata": {},
     "output_type": "execute_result"
    }
   ],
   "source": [
    "# casefold() é mais agressivo em sua conversão se comparado ao lower()\n",
    "# Nesse exemplo a palavra \"Der FluB\" é em alemã e casefold traduz o B COMO SS\n",
    "# Associando o resultado de s4 a uma nova variavel s5\n",
    "s4 = \"Der Fluß\"\n",
    "s5 = s4.casefold()\n",
    "s5"
   ]
  },
  {
   "cell_type": "code",
   "execution_count": 55,
   "id": "73489942-d4ef-47c0-b056-6e956b80bb8b",
   "metadata": {},
   "outputs": [
    {
     "data": {
      "text/plain": [
       "'der fluß'"
      ]
     },
     "execution_count": 55,
     "metadata": {},
     "output_type": "execute_result"
    }
   ],
   "source": [
    "# Enquanto .lower() deixa a letra do mesmo jeio pois não sabe o que significa\n",
    "# Associando o resultado de s4 para uma nova variavel s6\n",
    "s6 = s4.lower()\n",
    "s6"
   ]
  },
  {
   "cell_type": "code",
   "execution_count": null,
   "id": "71475363-97b5-4e2b-9849-725885052d92",
   "metadata": {},
   "outputs": [],
   "source": []
  }
 ],
 "metadata": {
  "kernelspec": {
   "display_name": "Python 3 (ipykernel)",
   "language": "python",
   "name": "python3"
  },
  "language_info": {
   "codemirror_mode": {
    "name": "ipython",
    "version": 3
   },
   "file_extension": ".py",
   "mimetype": "text/x-python",
   "name": "python",
   "nbconvert_exporter": "python",
   "pygments_lexer": "ipython3",
   "version": "3.11.7"
  }
 },
 "nbformat": 4,
 "nbformat_minor": 5
}
