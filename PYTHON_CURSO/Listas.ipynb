{
 "cells": [
  {
   "cell_type": "markdown",
   "id": "db82c46a-5e2e-4f4b-98b5-4b2892ba25ac",
   "metadata": {},
   "source": [
    " # 1. Como criar uma lista"
   ]
  },
  {
   "cell_type": "code",
   "execution_count": 78,
   "id": "342bea19-8460-4d20-ae65-29c9ab0d5cde",
   "metadata": {},
   "outputs": [],
   "source": [
    "# Criando uma lista vazia\n",
    "lista_vazia = []\n",
    "lista_vazia2 = list()"
   ]
  },
  {
   "cell_type": "code",
   "execution_count": 79,
   "id": "3a08b481-880d-4957-b13d-79fc14ae9707",
   "metadata": {},
   "outputs": [
    {
     "data": {
      "text/plain": [
       "list"
      ]
     },
     "execution_count": 79,
     "metadata": {},
     "output_type": "execute_result"
    }
   ],
   "source": [
    "# Visualizando o tipo\n",
    "type(lista_vazia)"
   ]
  },
  {
   "cell_type": "code",
   "execution_count": 80,
   "id": "8691a5b2-4b5b-46e5-9618-da58dfd96838",
   "metadata": {},
   "outputs": [
    {
     "data": {
      "text/plain": [
       "list"
      ]
     },
     "execution_count": 80,
     "metadata": {},
     "output_type": "execute_result"
    }
   ],
   "source": [
    "# Visualizando o tipo\n",
    "type(lista_vazia2) "
   ]
  },
  {
   "cell_type": "code",
   "execution_count": 81,
   "id": "f754aa72-840f-4454-9865-e70c586b4c67",
   "metadata": {},
   "outputs": [
    {
     "data": {
      "text/plain": [
       "0"
      ]
     },
     "execution_count": 81,
     "metadata": {},
     "output_type": "execute_result"
    }
   ],
   "source": [
    "# Verificando o tamanho da lista\n",
    "len(lista_vazia)"
   ]
  },
  {
   "cell_type": "code",
   "execution_count": 11,
   "id": "351fe9e2-2cd6-4f0f-9018-e4d6a063def7",
   "metadata": {},
   "outputs": [],
   "source": [
    "# Criando listas com elementos\n",
    "lista = [23, 56, 2, -3, 10, 2, 18, 0, 5]\n",
    "lista_reais = [1.5, -2.13, 5.14]\n",
    "lista_strings = [\"Lidia\", \"Python\", \"PUC Minas\", \"Ciencia de dados \"]\n",
    "lista_booleanos = [True, True, False, True]\n",
    "lista_misturada  = [1, 2, 3.14159, \"teste\"]\n",
    "lista_misturada2 = [1, 2, 3.14159, \"teste\", [1, \"A\", 1.0]]\n",
    "lista_aninhadas = [[1, 2, 3], [4, 5, 6], [7, 8, 9]]"
   ]
  },
  {
   "cell_type": "code",
   "execution_count": 12,
   "id": "29f46b9c-7e59-4ada-ac9a-3807350158d0",
   "metadata": {},
   "outputs": [
    {
     "data": {
      "text/plain": [
       "[23, 56, 2, -3, 10, 2, 18, 0, 5]"
      ]
     },
     "execution_count": 12,
     "metadata": {},
     "output_type": "execute_result"
    }
   ],
   "source": [
    "# Visualizando lista\n",
    "lista"
   ]
  },
  {
   "cell_type": "code",
   "execution_count": 13,
   "id": "1ac9dcdc-b496-47ec-942c-ab0d3fbda07f",
   "metadata": {},
   "outputs": [
    {
     "data": {
      "text/plain": [
       "[1.5, -2.13, 5.14]"
      ]
     },
     "execution_count": 13,
     "metadata": {},
     "output_type": "execute_result"
    }
   ],
   "source": [
    "lista_reais"
   ]
  },
  {
   "cell_type": "code",
   "execution_count": 14,
   "id": "5320d87f-50e4-4855-a863-61557a65af8e",
   "metadata": {},
   "outputs": [
    {
     "data": {
      "text/plain": [
       "['Lidia', 'Python', 'PUC Minas', 'Ciencia de dados ']"
      ]
     },
     "execution_count": 14,
     "metadata": {},
     "output_type": "execute_result"
    }
   ],
   "source": [
    "lista_strings"
   ]
  },
  {
   "cell_type": "code",
   "execution_count": 15,
   "id": "dc13b032-0c3d-49ae-9aa9-39890af970e2",
   "metadata": {},
   "outputs": [
    {
     "data": {
      "text/plain": [
       "[True, True, False, True]"
      ]
     },
     "execution_count": 15,
     "metadata": {},
     "output_type": "execute_result"
    }
   ],
   "source": [
    "lista_booleanos"
   ]
  },
  {
   "cell_type": "code",
   "execution_count": 16,
   "id": "50191605-9121-4c93-85e5-6f7cde3b4d27",
   "metadata": {},
   "outputs": [
    {
     "data": {
      "text/plain": [
       "[1, 2, 3.14159, 'teste']"
      ]
     },
     "execution_count": 16,
     "metadata": {},
     "output_type": "execute_result"
    }
   ],
   "source": [
    "lista_misturada"
   ]
  },
  {
   "cell_type": "code",
   "execution_count": 17,
   "id": "81decd0d-72ed-4b01-8323-0c344726ce58",
   "metadata": {},
   "outputs": [
    {
     "data": {
      "text/plain": [
       "[1, 2, 3.14159, 'teste', [1, 'A', 1.0]]"
      ]
     },
     "execution_count": 17,
     "metadata": {},
     "output_type": "execute_result"
    }
   ],
   "source": [
    "lista_misturada2"
   ]
  },
  {
   "cell_type": "code",
   "execution_count": 18,
   "id": "b13bc8f1-8142-4d3f-a75b-a503e8b45fa9",
   "metadata": {},
   "outputs": [
    {
     "data": {
      "text/plain": [
       "[[1, 2, 3], [4, 5, 6], [7, 8, 9]]"
      ]
     },
     "execution_count": 18,
     "metadata": {},
     "output_type": "execute_result"
    }
   ],
   "source": [
    "lista_aninhadas"
   ]
  },
  {
   "cell_type": "markdown",
   "id": "0131b035-8348-4262-9b78-956d2493e2df",
   "metadata": {},
   "source": [
    "# 2. Como acessar elementos de uma lista"
   ]
  },
  {
   "cell_type": "code",
   "execution_count": 19,
   "id": "976f70fd-6f58-45fe-9e5f-e35617b1125a",
   "metadata": {},
   "outputs": [
    {
     "data": {
      "text/plain": [
       "23"
      ]
     },
     "execution_count": 19,
     "metadata": {},
     "output_type": "execute_result"
    }
   ],
   "source": [
    "# Acessando o indice 0 (primeira posição)\n",
    "lista[0]"
   ]
  },
  {
   "cell_type": "code",
   "execution_count": 20,
   "id": "e2e49c42-4d1f-4acf-8804-c56654ee106a",
   "metadata": {},
   "outputs": [
    {
     "data": {
      "text/plain": [
       "56"
      ]
     },
     "execution_count": 20,
     "metadata": {},
     "output_type": "execute_result"
    }
   ],
   "source": [
    "# Acessaando o indice 1 (segunda posição)\n",
    "lista[1]"
   ]
  },
  {
   "cell_type": "code",
   "execution_count": 21,
   "id": "d57ef2b8-18f3-48e7-abe1-24670c5b2fa4",
   "metadata": {},
   "outputs": [
    {
     "data": {
      "text/plain": [
       "2"
      ]
     },
     "execution_count": 21,
     "metadata": {},
     "output_type": "execute_result"
    }
   ],
   "source": [
    "# Acessando o indice 2 (terceirra posição)\n",
    "lista[2]"
   ]
  },
  {
   "cell_type": "code",
   "execution_count": 22,
   "id": "98e9322e-0d1a-4a21-b89b-0dbbaeb88ef4",
   "metadata": {},
   "outputs": [
    {
     "data": {
      "text/plain": [
       "'Ciencia de dados '"
      ]
     },
     "execution_count": 22,
     "metadata": {},
     "output_type": "execute_result"
    }
   ],
   "source": [
    "# Acessando o indice 3 (quarta posição)\n",
    "lista_strings[3]"
   ]
  },
  {
   "cell_type": "code",
   "execution_count": 23,
   "id": "aa7ecf49-215b-425d-8287-1b1151ff570f",
   "metadata": {},
   "outputs": [
    {
     "data": {
      "text/plain": [
       "'teste'"
      ]
     },
     "execution_count": 23,
     "metadata": {},
     "output_type": "execute_result"
    }
   ],
   "source": [
    "# Acessaando indice 3 (Quarta posição)\n",
    "lista_misturada[3]"
   ]
  },
  {
   "cell_type": "code",
   "execution_count": 24,
   "id": "35e76dee-9ee4-4115-b065-5557f7ba2ef8",
   "metadata": {},
   "outputs": [
    {
     "data": {
      "text/plain": [
       "'A'"
      ]
     },
     "execution_count": 24,
     "metadata": {},
     "output_type": "execute_result"
    }
   ],
   "source": [
    "# Acessando o indice 4 dos elemento dele, o indice 1\n",
    "lista_misturada2[4][1]"
   ]
  },
  {
   "cell_type": "markdown",
   "id": "52af5f70-5a8b-4b5e-9663-141f1c835989",
   "metadata": {},
   "source": [
    "# 3. Como modificar elementos de uma lista"
   ]
  },
  {
   "cell_type": "code",
   "execution_count": 25,
   "id": "cd69237d-7b76-45a1-aea6-1b9dcce116c5",
   "metadata": {},
   "outputs": [],
   "source": [
    "# Modificando o elemento da (Lista) do indice (1) de 56 para 18\n",
    "lista[1] = 18"
   ]
  },
  {
   "cell_type": "code",
   "execution_count": 26,
   "id": "382b10c7-6bef-4187-a9b9-e5cc697cea5b",
   "metadata": {},
   "outputs": [
    {
     "data": {
      "text/plain": [
       "[23, 18, 2, -3, 10, 2, 18, 0, 5]"
      ]
     },
     "execution_count": 26,
     "metadata": {},
     "output_type": "execute_result"
    }
   ],
   "source": [
    "# Visualizando a alterção realizada\n",
    "lista"
   ]
  },
  {
   "cell_type": "code",
   "execution_count": 27,
   "id": "7e48806e-35e2-45d7-9519-1db2973bca78",
   "metadata": {},
   "outputs": [],
   "source": [
    "# Modificando o elemento da (lista) do indice (3) de -3 para 15\n",
    "lista[3] = 15"
   ]
  },
  {
   "cell_type": "code",
   "execution_count": 28,
   "id": "94b3b461-7cd5-4194-be1e-9daad9d07eaa",
   "metadata": {},
   "outputs": [
    {
     "data": {
      "text/plain": [
       "[23, 18, 2, 15, 10, 2, 18, 0, 5]"
      ]
     },
     "execution_count": 28,
     "metadata": {},
     "output_type": "execute_result"
    }
   ],
   "source": [
    "# Visualizando a alteração realizada\n",
    "lista"
   ]
  },
  {
   "cell_type": "code",
   "execution_count": 29,
   "id": "33257b43-1f0d-449e-bc4f-d1e649918c5d",
   "metadata": {},
   "outputs": [],
   "source": [
    " # Modificando o elemento da (lista) do indice (2) de 2 para a soma dos numeros anteriores (23+18)\n",
    "lista[2] = lista[0] + lista[1]"
   ]
  },
  {
   "cell_type": "code",
   "execution_count": 30,
   "id": "5e930c9d-fcf4-4d15-a0b8-c7d5c9f50730",
   "metadata": {},
   "outputs": [
    {
     "data": {
      "text/plain": [
       "[23, 18, 41, 15, 10, 2, 18, 0, 5]"
      ]
     },
     "execution_count": 30,
     "metadata": {},
     "output_type": "execute_result"
    }
   ],
   "source": [
    "# Visualizando alteracão realizada\n",
    "lista"
   ]
  },
  {
   "cell_type": "markdown",
   "id": "feeaec2e-431c-4bfd-a708-e9f3cd3bec44",
   "metadata": {},
   "source": [
    "# 4. Principais metodos de um elemento lista"
   ]
  },
  {
   "cell_type": "markdown",
   "id": "74f82026-60c1-44c7-879b-bfa29d71c7de",
   "metadata": {},
   "source": [
    "## 4.1 append()"
   ]
  },
  {
   "cell_type": "code",
   "execution_count": 31,
   "id": "6021755b-86d7-46ac-a6a8-12c48ba6c09f",
   "metadata": {},
   "outputs": [],
   "source": [
    "# Adicionando o 17 no final da (lista)\n",
    "lista.append(17)"
   ]
  },
  {
   "cell_type": "code",
   "execution_count": 32,
   "id": "101db55c-5c57-4cff-a838-eb0838a97bf1",
   "metadata": {},
   "outputs": [
    {
     "data": {
      "text/plain": [
       "[23, 18, 41, 15, 10, 2, 18, 0, 5, 17]"
      ]
     },
     "execution_count": 32,
     "metadata": {},
     "output_type": "execute_result"
    }
   ],
   "source": [
    "# Visualizando a (lista) após chamada ao metodo append()\n",
    "lista"
   ]
  },
  {
   "cell_type": "markdown",
   "id": "33895c33-908a-486e-ad6f-d2755f523834",
   "metadata": {},
   "source": [
    "## 4.2 clear()"
   ]
  },
  {
   "cell_type": "code",
   "execution_count": 33,
   "id": "2dcb490e-9d3f-4e4b-b641-3cda1703d00d",
   "metadata": {},
   "outputs": [],
   "source": [
    "# Removendo todos os elemntos da (lista_reias)\n",
    "lista_reais.clear()"
   ]
  },
  {
   "cell_type": "code",
   "execution_count": 34,
   "id": "6a8f3232-5931-44de-b178-7fbee2474d7d",
   "metadata": {},
   "outputs": [
    {
     "data": {
      "text/plain": [
       "[]"
      ]
     },
     "execution_count": 34,
     "metadata": {},
     "output_type": "execute_result"
    }
   ],
   "source": [
    "# Visualizando (lista_reais) após chamada ao metodo clear()\n",
    "lista_reais"
   ]
  },
  {
   "cell_type": "markdown",
   "id": "22f95578-f1b4-4965-ba73-3de97ed7789d",
   "metadata": {},
   "source": [
    "## 4.3 copy()\n"
   ]
  },
  {
   "cell_type": "code",
   "execution_count": 35,
   "id": "16bcddc7-a105-4485-8a04-df62bb71c034",
   "metadata": {},
   "outputs": [],
   "source": [
    "# Copiando uma lista para outra?\n",
    "copia = lista"
   ]
  },
  {
   "cell_type": "code",
   "execution_count": 36,
   "id": "7a59bc7f-7e30-465d-8eb1-5f409d54fe8a",
   "metadata": {},
   "outputs": [
    {
     "data": {
      "text/plain": [
       "[23, 18, 41, 15, 10, 2, 18, 0, 5, 17]"
      ]
     },
     "execution_count": 36,
     "metadata": {},
     "output_type": "execute_result"
    }
   ],
   "source": [
    "# Visualizando o conteudo de copia\n",
    "copia"
   ]
  },
  {
   "cell_type": "code",
   "execution_count": 37,
   "id": "d66b1d9e-27a0-4fba-b828-7d038f34961f",
   "metadata": {},
   "outputs": [],
   "source": [
    "# Modificando o elemento da (lista) do indice (0) de 23 para 5  \n",
    "copia[0] = 5"
   ]
  },
  {
   "cell_type": "code",
   "execution_count": 38,
   "id": "b718b2ff-c58e-4e2a-a491-15070f6f5d54",
   "metadata": {},
   "outputs": [
    {
     "data": {
      "text/plain": [
       "[5, 18, 41, 15, 10, 2, 18, 0, 5, 17]"
      ]
     },
     "execution_count": 38,
     "metadata": {},
     "output_type": "execute_result"
    }
   ],
   "source": [
    "# Visualizando a alteração realizada em copia\n",
    "copia"
   ]
  },
  {
   "cell_type": "code",
   "execution_count": 39,
   "id": "d1084e9e-6cc0-4432-bd6e-2047f50b6b9f",
   "metadata": {},
   "outputs": [
    {
     "data": {
      "text/plain": [
       "[5, 18, 41, 15, 10, 2, 18, 0, 5, 17]"
      ]
     },
     "execution_count": 39,
     "metadata": {},
     "output_type": "execute_result"
    }
   ],
   "source": [
    "# Visualizando o conteudo de (lista) perceba que o elemento 23 tambem foi alterado na (lista) e não apenas em copia\n",
    "lista"
   ]
  },
  {
   "cell_type": "code",
   "execution_count": 40,
   "id": "7cb91897-a2a1-4e66-95f2-43975fb7b1aa",
   "metadata": {},
   "outputs": [],
   "source": [
    "# Desfazendo a alterção do indice (0) de 5 para 23\n",
    "lista[0] = 23"
   ]
  },
  {
   "cell_type": "code",
   "execution_count": 41,
   "id": "09f74b82-7181-4195-a3fd-695aa2bf53dd",
   "metadata": {},
   "outputs": [
    {
     "data": {
      "text/plain": [
       "[23, 18, 41, 15, 10, 2, 18, 0, 5, 17]"
      ]
     },
     "execution_count": 41,
     "metadata": {},
     "output_type": "execute_result"
    }
   ],
   "source": [
    "# Visualizando alteração \n",
    "lista"
   ]
  },
  {
   "cell_type": "code",
   "execution_count": 42,
   "id": "f8ad5376-3151-4caf-b529-cef78b91297b",
   "metadata": {},
   "outputs": [],
   "source": [
    "# A maneira correta de copiar uma lista é atraves da chamado ao metodo copy()\n",
    "copia = lista.copy()"
   ]
  },
  {
   "cell_type": "code",
   "execution_count": 43,
   "id": "313fdf46-a55d-4b79-b000-828a73e470ed",
   "metadata": {},
   "outputs": [
    {
     "data": {
      "text/plain": [
       "[23, 18, 41, 15, 10, 2, 18, 0, 5, 17]"
      ]
     },
     "execution_count": 43,
     "metadata": {},
     "output_type": "execute_result"
    }
   ],
   "source": [
    "# Visualizando o coteudo de (lista)\n",
    "lista"
   ]
  },
  {
   "cell_type": "code",
   "execution_count": 44,
   "id": "c9232bea-3612-4450-9e4b-ee59d8f8572c",
   "metadata": {},
   "outputs": [],
   "source": [
    "#  Alterando o elemento de (copia) do indice (0) de 23 para 5\n",
    "copia[0] = 5"
   ]
  },
  {
   "cell_type": "code",
   "execution_count": 45,
   "id": "771dee78-1c95-45ee-bc87-037937d44fcd",
   "metadata": {},
   "outputs": [
    {
     "data": {
      "text/plain": [
       "[5, 18, 41, 15, 10, 2, 18, 0, 5, 17]"
      ]
     },
     "execution_count": 45,
     "metadata": {},
     "output_type": "execute_result"
    }
   ],
   "source": [
    "# Viasualizando o conteudo de copia\n",
    "copia"
   ]
  },
  {
   "cell_type": "code",
   "execution_count": 46,
   "id": "b858e093-840f-4640-9688-94e4f9c2c380",
   "metadata": {},
   "outputs": [
    {
     "data": {
      "text/plain": [
       "[23, 18, 41, 15, 10, 2, 18, 0, 5, 17]"
      ]
     },
     "execution_count": 46,
     "metadata": {},
     "output_type": "execute_result"
    }
   ],
   "source": [
    "# Visualizando conteudo de lista para ver se alterou algo apos a copia ser alterada \n",
    "lista"
   ]
  },
  {
   "cell_type": "markdown",
   "id": "fd0d85c4-0f2a-4495-8886-da143c3b8cbb",
   "metadata": {},
   "source": [
    "## 4.4 count()"
   ]
  },
  {
   "cell_type": "code",
   "execution_count": 47,
   "id": "515d8b94-1c8e-4014-9871-3be870290ebc",
   "metadata": {},
   "outputs": [
    {
     "data": {
      "text/plain": [
       "2"
      ]
     },
     "execution_count": 47,
     "metadata": {},
     "output_type": "execute_result"
    }
   ],
   "source": [
    "# Verificando quantas vezes o numero 5 aparece em (copia)\n",
    "copia.count(5)"
   ]
  },
  {
   "cell_type": "markdown",
   "id": "4844d8f3-bb44-46a4-9a27-923022fc3cd2",
   "metadata": {},
   "source": [
    "## 4.5 extend()"
   ]
  },
  {
   "cell_type": "code",
   "execution_count": 48,
   "id": "fbb6464e-9eb3-4ec0-b16e-e6f89e812d43",
   "metadata": {},
   "outputs": [],
   "source": [
    "# Suponha que temos uma lista chmada numeros que contem os elementos [1, 2, 3]\n",
    "numeros = [1, 2, 3]"
   ]
  },
  {
   "cell_type": "code",
   "execution_count": 49,
   "id": "41e77535-e54d-4070-9439-eff4848befe5",
   "metadata": {},
   "outputs": [],
   "source": [
    "# Queremos adicionar os elementos [4, 5] a lista numeros usando o metodo append()\n",
    "numeros.append([4,5])"
   ]
  },
  {
   "cell_type": "code",
   "execution_count": 50,
   "id": "253ddf95-9866-4801-afe7-ee5675beca33",
   "metadata": {},
   "outputs": [
    {
     "data": {
      "text/plain": [
       "[1, 2, 3, [4, 5]]"
      ]
     },
     "execution_count": 50,
     "metadata": {},
     "output_type": "execute_result"
    }
   ],
   "source": [
    "# Ao inves de adicionar os elementos 4, 5, adicionou uma lista contendo os eelementos [4, 5]\n",
    "numeros"
   ]
  },
  {
   "cell_type": "code",
   "execution_count": 51,
   "id": "9332752f-030d-4252-a1ba-423805586a85",
   "metadata": {},
   "outputs": [
    {
     "data": {
      "text/plain": [
       "[1, 2, 3, 4, 5]"
      ]
     },
     "execution_count": 51,
     "metadata": {},
     "output_type": "execute_result"
    }
   ],
   "source": [
    "# A maneira correta de adcionar novos elementos em uma lista, apartir de outra lista, é usando o metodo extend()\n",
    "numeros = [1, 2, 3]\n",
    "numeros.extend([4, 5])\n",
    "numeros"
   ]
  },
  {
   "cell_type": "markdown",
   "id": "4a6f5c1c-3b94-40d0-ab6f-768895b30674",
   "metadata": {},
   "source": [
    "## 4.6 index()"
   ]
  },
  {
   "cell_type": "code",
   "execution_count": 52,
   "id": "65f7875d-7112-448d-9062-316b13da43e5",
   "metadata": {},
   "outputs": [],
   "source": [
    "# Redefinindo os elementos de (lista)\n",
    "lista =  [1, 3, 7, 2, 3, 8, 4]"
   ]
  },
  {
   "cell_type": "code",
   "execution_count": 53,
   "id": "5aca7887-c413-4325-853e-e298704aee2c",
   "metadata": {},
   "outputs": [
    {
     "data": {
      "text/plain": [
       "2"
      ]
     },
     "execution_count": 53,
     "metadata": {},
     "output_type": "execute_result"
    }
   ],
   "source": [
    "# O metodo index nos permite saber em que posição determinado elemnto se encontra\n",
    "lista.index(7)"
   ]
  },
  {
   "cell_type": "code",
   "execution_count": 54,
   "id": "2879c2dc-79d4-4107-8622-e356dd9828ca",
   "metadata": {},
   "outputs": [],
   "source": [
    "# Podemos guardar esse valor em muma varaiavel\n",
    "posicao8 = lista.index(8)\n",
    "\n"
   ]
  },
  {
   "cell_type": "code",
   "execution_count": 55,
   "id": "451de9e3-a5e6-44b1-82bb-5eede4a399e8",
   "metadata": {},
   "outputs": [
    {
     "data": {
      "text/plain": [
       "5"
      ]
     },
     "execution_count": 55,
     "metadata": {},
     "output_type": "execute_result"
    }
   ],
   "source": [
    "posicao8"
   ]
  },
  {
   "cell_type": "code",
   "execution_count": 56,
   "id": "c7a1bb65-1200-44c0-a73b-f7ec1a15051e",
   "metadata": {},
   "outputs": [],
   "source": [
    "# O metodo index() retorna a  posição da primeira ocorrência do elemento procurado\n",
    "posicao3 = lista.index(3)\n"
   ]
  },
  {
   "cell_type": "code",
   "execution_count": 57,
   "id": "e67f1e83-d1f4-4756-8a44-7b03bec44edf",
   "metadata": {},
   "outputs": [
    {
     "data": {
      "text/plain": [
       "1"
      ]
     },
     "execution_count": 57,
     "metadata": {},
     "output_type": "execute_result"
    }
   ],
   "source": [
    "posicao3"
   ]
  },
  {
   "cell_type": "markdown",
   "id": "4a213715-ef45-4e2a-b245-f4063162fc5f",
   "metadata": {},
   "source": [
    "## 4.7 insert()"
   ]
  },
  {
   "cell_type": "code",
   "execution_count": 58,
   "id": "28bdd412-7e03-416c-af3c-17d790f75d71",
   "metadata": {},
   "outputs": [],
   "source": [
    "# O metodo insert() permite adicionar um elemento a qualquer posição da lista\n",
    "# Estou atribuindo um novo valor para a variavel que já existe (lista)\n",
    "lista = [1, 3, 7, 2, 3, 8, 4]\n",
    "lista.insert(2, \"ABC\")\n"
   ]
  },
  {
   "cell_type": "code",
   "execution_count": 59,
   "id": "86eb305b-843e-434d-8b19-d6ca1e75639c",
   "metadata": {},
   "outputs": [
    {
     "data": {
      "text/plain": [
       "[1, 3, 'ABC', 7, 2, 3, 8, 4]"
      ]
     },
     "execution_count": 59,
     "metadata": {},
     "output_type": "execute_result"
    }
   ],
   "source": [
    "lista"
   ]
  },
  {
   "cell_type": "code",
   "execution_count": 60,
   "id": "e181b4b2-de53-4c5b-9d72-0ab8095089b8",
   "metadata": {},
   "outputs": [],
   "source": [
    "# Caso a posição não exista, o metodo insert() insere o elementoo desejado na ultima poosição\n",
    "lista.insert(100, \"XYZ\")"
   ]
  },
  {
   "cell_type": "code",
   "execution_count": 61,
   "id": "9097ff79-d208-4586-a42b-06594c49d4d7",
   "metadata": {},
   "outputs": [
    {
     "data": {
      "text/plain": [
       "[1, 3, 'ABC', 7, 2, 3, 8, 4, 'XYZ']"
      ]
     },
     "execution_count": 61,
     "metadata": {},
     "output_type": "execute_result"
    }
   ],
   "source": [
    "lista"
   ]
  },
  {
   "cell_type": "markdown",
   "id": "f59e2cb5-dc59-431a-8135-c842701e539c",
   "metadata": {},
   "source": [
    "## 4.8 pop()\n",
    "\n"
   ]
  },
  {
   "cell_type": "code",
   "execution_count": 62,
   "id": "3924cfa2-97d1-420d-a273-cc481adac46f",
   "metadata": {
    "scrolled": true
   },
   "outputs": [
    {
     "data": {
      "text/plain": [
       "'ABC'"
      ]
     },
     "execution_count": 62,
     "metadata": {},
     "output_type": "execute_result"
    }
   ],
   "source": [
    "# Utilazamos o metodo pop() quando desejamos apagar uma posição da lista\n",
    "# Removendo o elemento indice 2\n",
    "valor = lista.pop(2)\n",
    "# Visualizando o valor retornado\n",
    "valor\n"
   ]
  },
  {
   "cell_type": "code",
   "execution_count": 63,
   "id": "25059c50-4c1a-4bbf-9020-f3937b4ac64a",
   "metadata": {},
   "outputs": [
    {
     "data": {
      "text/plain": [
       "[1, 3, 7, 2, 3, 8, 4, 'XYZ']"
      ]
     },
     "execution_count": 63,
     "metadata": {},
     "output_type": "execute_result"
    }
   ],
   "source": [
    "# Visualizando a lista após a remoção\n",
    "lista"
   ]
  },
  {
   "cell_type": "code",
   "execution_count": 64,
   "id": "7f5e886b-61b0-4b05-a01d-d7e4aa3d7d03",
   "metadata": {},
   "outputs": [
    {
     "data": {
      "text/plain": [
       "[1, 3, 7, 2, 3, 8, 4]"
      ]
     },
     "execution_count": 64,
     "metadata": {},
     "output_type": "execute_result"
    }
   ],
   "source": [
    "# Removendo o elemento da ultima posição \n",
    "lista.pop(-1)\n",
    "# Vizualizando a lista após o resultado\n",
    "lista"
   ]
  },
  {
   "cell_type": "code",
   "execution_count": 65,
   "id": "86295158-7b10-4fcf-af1c-8cc9be7d1af9",
   "metadata": {},
   "outputs": [],
   "source": [
    "# O metodo pop() provoca um erro caso a posição não exista"
   ]
  },
  {
   "cell_type": "markdown",
   "id": "0008099e-e3c1-4478-af30-5c9e2275c07b",
   "metadata": {},
   "source": [
    "## 4.9 remove()"
   ]
  },
  {
   "cell_type": "code",
   "execution_count": 66,
   "id": "d2b7eab0-499d-427f-bc04-63967b55024d",
   "metadata": {},
   "outputs": [
    {
     "data": {
      "text/plain": [
       "['Lidia', 'Python', 'PUC Minas', 'Ciencia de dados ']"
      ]
     },
     "execution_count": 66,
     "metadata": {},
     "output_type": "execute_result"
    }
   ],
   "source": [
    "# Utilizamos o metodo  remove() quando desejamos apagar um elemento especifico da lista\n",
    "# Vizualindo a (lista_strings) antes da remoção\n",
    "lista_strings"
   ]
  },
  {
   "cell_type": "code",
   "execution_count": 67,
   "id": "730feb70-98ff-4cc8-b0c9-103056bde1d0",
   "metadata": {},
   "outputs": [],
   "source": [
    "# Removendo \"Lidia\"\n",
    "lista_strings.remove(\"Lidia\")\n"
   ]
  },
  {
   "cell_type": "code",
   "execution_count": 68,
   "id": "91723a78-ea0f-40d3-8421-10d27f32fcfe",
   "metadata": {},
   "outputs": [
    {
     "data": {
      "text/plain": [
       "['Python', 'PUC Minas', 'Ciencia de dados ']"
      ]
     },
     "execution_count": 68,
     "metadata": {},
     "output_type": "execute_result"
    }
   ],
   "source": [
    "# Visualuzando a (lista_strings) após a remoção\n",
    "lista_strings"
   ]
  },
  {
   "cell_type": "code",
   "execution_count": null,
   "id": "9b16affc-46c5-459a-8575-d06e2d5c5166",
   "metadata": {},
   "outputs": [],
   "source": [
    "# O metodo remove() provoca um  erro  caso o elemento não exista"
   ]
  },
  {
   "cell_type": "markdown",
   "id": "3e0925b0-a1f8-40a2-a282-7240777a1b85",
   "metadata": {},
   "source": [
    "## 4.10 reverse()"
   ]
  },
  {
   "cell_type": "code",
   "execution_count": 69,
   "id": "f7e16362-b278-4e1b-b7ad-5a51d2aa594b",
   "metadata": {},
   "outputs": [
    {
     "data": {
      "text/plain": [
       "[1, 2, 3, 4, 5, 6]"
      ]
     },
     "execution_count": 69,
     "metadata": {},
     "output_type": "execute_result"
    }
   ],
   "source": [
    "# Redefinindo os elementos da lista\n",
    "lista = [1, 2, 3, 4, 5, 6]\n",
    "# Visualizando a lista antes da chamada ao metodo reverse()\n",
    "lista"
   ]
  },
  {
   "cell_type": "code",
   "execution_count": 70,
   "id": "d9a4265c-e014-40c9-9860-d76b11e71308",
   "metadata": {},
   "outputs": [
    {
     "data": {
      "text/plain": [
       "[6, 5, 4, 3, 2, 1]"
      ]
     },
     "execution_count": 70,
     "metadata": {},
     "output_type": "execute_result"
    }
   ],
   "source": [
    "# Invertendo os elemntos da (lista)\n",
    "lista.reverse()\n",
    "# Visualizando a lista após chamado ao metodo reverse()\n",
    "lista"
   ]
  },
  {
   "cell_type": "markdown",
   "id": "f491f762-5a4e-4026-b458-b8026a1f7b2e",
   "metadata": {},
   "source": [
    "## 4.11 sort()"
   ]
  },
  {
   "cell_type": "code",
   "execution_count": 71,
   "id": "80307eee-4640-4d18-b278-87fa6b04a00c",
   "metadata": {},
   "outputs": [
    {
     "data": {
      "text/plain": [
       "[6, 3, 1, 4, 2, 5]"
      ]
     },
     "execution_count": 71,
     "metadata": {},
     "output_type": "execute_result"
    }
   ],
   "source": [
    "# Redefinindo elemento de lista\n",
    "lista = [6, 3, 1, 4, 2, 5]\n",
    "# Vizualizando a (lista) antes da chamada ao metodo sort()\n",
    "lista"
   ]
  },
  {
   "cell_type": "code",
   "execution_count": 72,
   "id": "cb1009bc-4471-4562-a8a8-28d791454f0a",
   "metadata": {},
   "outputs": [
    {
     "data": {
      "text/plain": [
       "[1, 2, 3, 4, 5, 6]"
      ]
     },
     "execution_count": 72,
     "metadata": {},
     "output_type": "execute_result"
    }
   ],
   "source": [
    "# Ordenando os elementos em ordem crescente\n",
    "lista.sort()\n",
    "# Visualizando a (lista) após chamada ao metodo sort()\n",
    "lista"
   ]
  },
  {
   "cell_type": "code",
   "execution_count": 73,
   "id": "d583349a-1cfb-49ad-90ad-4b723551a85c",
   "metadata": {},
   "outputs": [
    {
     "data": {
      "text/plain": [
       "[6, 3, 1, 4, 2, 5]"
      ]
     },
     "execution_count": 73,
     "metadata": {},
     "output_type": "execute_result"
    }
   ],
   "source": [
    "# Redefinindo elemento de lista\n",
    "lista = [6, 3, 1, 4, 2, 5]\n",
    "# Visualizando a (lista) antes da chamada ao metodo sort()\n",
    "lista"
   ]
  },
  {
   "cell_type": "code",
   "execution_count": 74,
   "id": "e6b51a82-ccf0-4881-82a3-128eb7ae440f",
   "metadata": {},
   "outputs": [
    {
     "data": {
      "text/plain": [
       "[6, 5, 4, 3, 2, 1]"
      ]
     },
     "execution_count": 74,
     "metadata": {},
     "output_type": "execute_result"
    }
   ],
   "source": [
    "# Ordenando os elementos em ordem decrescente\n",
    "lista.sort(reverse=True)\n",
    "# Visualizando a (lista) após chamada ao metodo sort()\n",
    "lista"
   ]
  },
  {
   "cell_type": "code",
   "execution_count": 76,
   "id": "1f996de5-7efe-4c0b-b199-342c4f64fcd7",
   "metadata": {},
   "outputs": [
    {
     "data": {
      "text/plain": [
       "['A', 'D', 'E', 'Q', 'R', 'S', 'T', 'W', 'Y']"
      ]
     },
     "execution_count": 76,
     "metadata": {},
     "output_type": "execute_result"
    }
   ],
   "source": [
    "# Ordenando lista de caracteres\n",
    "lista_letras = [\"Q\", \"W\", \"E\", \"R\", \"T\", \"Y\", \"A\", \"S\", \"D\"]\n",
    "lista_letras.sort()\n",
    "lista_letras"
   ]
  },
  {
   "cell_type": "code",
   "execution_count": 77,
   "id": "c7ffca34-3758-4171-a554-053c85154cdd",
   "metadata": {},
   "outputs": [
    {
     "data": {
      "text/plain": [
       "['ABC', 'DEF', 'GHI', 'KLM', 'XYZ']"
      ]
     },
     "execution_count": 77,
     "metadata": {},
     "output_type": "execute_result"
    }
   ],
   "source": [
    "# Ordenando lista de strings\n",
    "lista_strings = [\"GHI\", \"XYZ\", \"DEF\", \"ABC\", \"KLM\"]\n",
    "lista_strings.sort()\n",
    "lista_strings"
   ]
  },
  {
   "cell_type": "code",
   "execution_count": 172,
   "id": "fefaf8e1-6023-4c11-b302-b455489aa6c5",
   "metadata": {},
   "outputs": [],
   "source": [
    "# Não é possivel ordenar uma listas com elementos de diferentes tipos"
   ]
  },
  {
   "cell_type": "markdown",
   "id": "a9320577-ebd0-48de-9edf-a502ee5bc0f6",
   "metadata": {},
   "source": [
    "## 5. FUNÇOĒS APLICÁVEIS A UMA LISTA"
   ]
  },
  {
   "cell_type": "code",
   "execution_count": 83,
   "id": "cb84b1ae-044b-468c-a4b2-5fc35140a9d1",
   "metadata": {},
   "outputs": [],
   "source": [
    "# Redefinindo elementos de (letras) e (letras_letras)\n",
    "lista = [8, 3, 21, 14, 2, 45]\n",
    "lista_letras = [\"Q\", \"W\", \"E\", \"R\", \"T\", \"Y\", \"A\", \"S\", \"D\"]"
   ]
  },
  {
   "cell_type": "code",
   "execution_count": 84,
   "id": "97049202-18d5-4681-b7f0-10c7f4e8bf35",
   "metadata": {},
   "outputs": [
    {
     "data": {
      "text/plain": [
       "6"
      ]
     },
     "execution_count": 84,
     "metadata": {},
     "output_type": "execute_result"
    }
   ],
   "source": [
    "# A função len() retorna a quantidade de elementos de uma lista\n",
    "len(lista)\n"
   ]
  },
  {
   "cell_type": "code",
   "execution_count": 85,
   "id": "c9fce6cb-7501-46d5-8624-808c8dec6792",
   "metadata": {},
   "outputs": [
    {
     "data": {
      "text/plain": [
       "45"
      ]
     },
     "execution_count": 85,
     "metadata": {},
     "output_type": "execute_result"
    }
   ],
   "source": [
    "# A função max() retorna o maior elemento de uma lista\n",
    "max(lista)"
   ]
  },
  {
   "cell_type": "code",
   "execution_count": 86,
   "id": "ae4d7a61-81a7-4ae7-888b-cf1186ba4f60",
   "metadata": {},
   "outputs": [
    {
     "data": {
      "text/plain": [
       "'Y'"
      ]
     },
     "execution_count": 86,
     "metadata": {},
     "output_type": "execute_result"
    }
   ],
   "source": [
    "max(lista_letras)"
   ]
  },
  {
   "cell_type": "code",
   "execution_count": 87,
   "id": "75393823-682e-4d16-93a7-a377ff990920",
   "metadata": {},
   "outputs": [
    {
     "data": {
      "text/plain": [
       "2"
      ]
     },
     "execution_count": 87,
     "metadata": {},
     "output_type": "execute_result"
    }
   ],
   "source": [
    "# Função min() representa o menor elemento de uma lista()\n",
    "min(lista)"
   ]
  },
  {
   "cell_type": "code",
   "execution_count": 90,
   "id": "5d8f1744-6636-4831-b74a-0364a75ce5c6",
   "metadata": {},
   "outputs": [
    {
     "data": {
      "text/plain": [
       "'A'"
      ]
     },
     "execution_count": 90,
     "metadata": {},
     "output_type": "execute_result"
    }
   ],
   "source": [
    "min(lista_letras)"
   ]
  },
  {
   "cell_type": "code",
   "execution_count": 96,
   "id": "6d8b4c0d-b5d3-48bf-9a2c-74338ead284d",
   "metadata": {},
   "outputs": [
    {
     "data": {
      "text/plain": [
       "65"
      ]
     },
     "execution_count": 96,
     "metadata": {},
     "output_type": "execute_result"
    }
   ],
   "source": [
    "ord(\"A\")"
   ]
  },
  {
   "cell_type": "code",
   "execution_count": 92,
   "id": "eb105211-2349-4e53-898d-7a633d76624a",
   "metadata": {},
   "outputs": [
    {
     "data": {
      "text/plain": [
       "97"
      ]
     },
     "execution_count": 92,
     "metadata": {},
     "output_type": "execute_result"
    }
   ],
   "source": [
    "ord(\"a\")"
   ]
  },
  {
   "cell_type": "code",
   "execution_count": 93,
   "id": "b689b928-175d-4e66-8df8-216b4914580d",
   "metadata": {},
   "outputs": [
    {
     "data": {
      "text/plain": [
       "'b'"
      ]
     },
     "execution_count": 93,
     "metadata": {},
     "output_type": "execute_result"
    }
   ],
   "source": [
    "chr(98)"
   ]
  }
 ],
 "metadata": {
  "kernelspec": {
   "display_name": "Python 3",
   "language": "python",
   "name": "python3"
  },
  "language_info": {
   "codemirror_mode": {
    "name": "ipython",
    "version": 3
   },
   "file_extension": ".py",
   "mimetype": "text/x-python",
   "name": "python",
   "nbconvert_exporter": "python",
   "pygments_lexer": "ipython3",
   "version": "3.12.1"
  }
 },
 "nbformat": 4,
 "nbformat_minor": 5
}
