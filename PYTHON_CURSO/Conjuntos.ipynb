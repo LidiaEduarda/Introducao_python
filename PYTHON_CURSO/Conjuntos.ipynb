{
 "cells": [
  {
   "cell_type": "markdown",
   "id": "05e78ce2-1a05-4349-9333-18c69c5538b4",
   "metadata": {},
   "source": [
    "## 1. Como criar conjuntos"
   ]
  },
  {
   "cell_type": "code",
   "execution_count": 1,
   "id": "abe02efc-9760-4e77-8021-942652f1a134",
   "metadata": {},
   "outputs": [],
   "source": [
    "# Criando conjuntos vazios\n",
    "conj_vazio1 = set() # Essa é a unica forma de criar conjuntos vazios \n",
    "conj_vazio2 = {} # As chaves são utilizadas para construir um dicionario vazio "
   ]
  },
  {
   "cell_type": "code",
   "execution_count": 3,
   "id": "a2291397-9136-4204-bcca-bb24b28a6bd6",
   "metadata": {},
   "outputs": [
    {
     "data": {
      "text/plain": [
       "set"
      ]
     },
     "execution_count": 3,
     "metadata": {},
     "output_type": "execute_result"
    }
   ],
   "source": [
    "type(conj_vazio1)"
   ]
  },
  {
   "cell_type": "code",
   "execution_count": 5,
   "id": "e8d63323-997b-4049-8922-57f3f11013f7",
   "metadata": {},
   "outputs": [
    {
     "data": {
      "text/plain": [
       "dict"
      ]
     },
     "execution_count": 5,
     "metadata": {},
     "output_type": "execute_result"
    }
   ],
   "source": [
    "type(conj_vazio2)"
   ]
  },
  {
   "cell_type": "code",
   "execution_count": 6,
   "id": "ba25aff0-b9bb-48d2-8d82-8073ab19911f",
   "metadata": {},
   "outputs": [],
   "source": [
    "# Criando conjuntos com elementos \n",
    "conj1 = {1, 2, 3, 4, 5}\n",
    "conj2 = {\"A\", \"B\", \"C\", \"D\"}\n",
    "conj3 = {\"ABC\", 123, 3.14}"
   ]
  },
  {
   "cell_type": "code",
   "execution_count": 8,
   "id": "f9eb4395-a1a5-4584-b5c7-c0086e196cf6",
   "metadata": {},
   "outputs": [],
   "source": [
    "# Conjuntos não podemconter outras estruturas aninhadas\n",
    "# Provoca um erro por causa da  lista conj4 = {1,\"ABC\", [1, 2, 3]} "
   ]
  },
  {
   "cell_type": "markdown",
   "id": "85c8c82f-7424-4972-a283-ce0cdeaad112",
   "metadata": {},
   "source": [
    "## 2. Como acessar elementos de um conjunto "
   ]
  },
  {
   "cell_type": "code",
   "execution_count": 9,
   "id": "9417e6af-e68e-477e-9559-c4c976221a7d",
   "metadata": {},
   "outputs": [
    {
     "name": "stdout",
     "output_type": "stream",
     "text": [
      "1\n",
      "2\n",
      "3\n",
      "4\n",
      "5\n"
     ]
    }
   ],
   "source": [
    "# Conjunttos não suportam indexação. Então vamos precisar do comando for para acessar os elementos de um conjunto - criamos uma variavel para armazenar os elementos doo conjunto\n",
    "for elementos in conj1:\n",
    "    print(elementos)"
   ]
  },
  {
   "cell_type": "code",
   "execution_count": 11,
   "id": "930a9335-8c3e-4988-b200-3b2c79e07d9b",
   "metadata": {},
   "outputs": [],
   "source": [
    "# Tentar accessar uma posição em um conjunto provoca um erro\n",
    "# conj1[0]"
   ]
  },
  {
   "cell_type": "markdown",
   "id": "af9ad050-e98b-4cd3-a304-48c623739e43",
   "metadata": {},
   "source": [
    "## 3. Como modificar  elementos de  um conjunto"
   ]
  },
  {
   "cell_type": "code",
   "execution_count": 12,
   "id": "593ff78c-d723-46a8-af98-6a67b0193a88",
   "metadata": {},
   "outputs": [],
   "source": [
    "# Não existe uma maneira de modificar elementos em um conjunto\n",
    "# O que pode ser feito é a exclusão de um elemento, seguida da inserção de outro elemento"
   ]
  },
  {
   "cell_type": "markdown",
   "id": "8306c11e-5da8-486a-b7ce-dacdbe9f4905",
   "metadata": {},
   "source": [
    "##  4. Principais métodos de um objeto conjunto"
   ]
  },
  {
   "cell_type": "markdown",
   "id": "6017d0b5-f279-4a14-9661-966a3e851026",
   "metadata": {},
   "source": [
    "### 4.1 add()"
   ]
  },
  {
   "cell_type": "code",
   "execution_count": 14,
   "id": "f736f647-5e76-4364-a130-4fdd63ce76c5",
   "metadata": {},
   "outputs": [
    {
     "data": {
      "text/plain": [
       "{1, 2, 3, 4, 5}"
      ]
     },
     "execution_count": 14,
     "metadata": {},
     "output_type": "execute_result"
    }
   ],
   "source": [
    "# Visualizando os elementos do conj1\n",
    "conj1"
   ]
  },
  {
   "cell_type": "code",
   "execution_count": 15,
   "id": "628a5067-1fc3-4ac5-89a0-4d1722657f74",
   "metadata": {},
   "outputs": [
    {
     "data": {
      "text/plain": [
       "{1, 2, 3, 4, 5, 6}"
      ]
     },
     "execution_count": 15,
     "metadata": {},
     "output_type": "execute_result"
    }
   ],
   "source": [
    "# Adicionando o elemento 6 no conj1\n",
    "conj1.add(6)\n",
    "conj1"
   ]
  },
  {
   "cell_type": "markdown",
   "id": "a01aa03f-5b29-4f67-9da5-a37b1fd792b2",
   "metadata": {},
   "source": [
    "### 4.2 clear()"
   ]
  },
  {
   "cell_type": "code",
   "execution_count": 16,
   "id": "c8323fef-f935-4366-b426-95fe69ef0e38",
   "metadata": {},
   "outputs": [
    {
     "data": {
      "text/plain": [
       "{123, 3.14, 'ABC'}"
      ]
     },
     "execution_count": 16,
     "metadata": {},
     "output_type": "execute_result"
    }
   ],
   "source": [
    "# Visualizando os elementos do conj3\n",
    "conj3"
   ]
  },
  {
   "cell_type": "code",
   "execution_count": 17,
   "id": "0c30acab-5946-431d-868a-10603a3a1a4c",
   "metadata": {},
   "outputs": [
    {
     "data": {
      "text/plain": [
       "set()"
      ]
     },
     "execution_count": 17,
     "metadata": {},
     "output_type": "execute_result"
    }
   ],
   "source": [
    "# Apagando os elementos do conj3\n",
    "conj3.clear()\n",
    "conj3"
   ]
  },
  {
   "cell_type": "markdown",
   "id": "63f5f3b2-dde7-4866-a05b-288f602c9359",
   "metadata": {},
   "source": [
    "### 4.3 copy()"
   ]
  },
  {
   "cell_type": "code",
   "execution_count": 20,
   "id": "70e6f77d-76f6-4116-a88e-fc950a5047bb",
   "metadata": {},
   "outputs": [
    {
     "data": {
      "text/plain": [
       "{1, 2, 3, 4, 5, 6}"
      ]
     },
     "execution_count": 20,
     "metadata": {},
     "output_type": "execute_result"
    }
   ],
   "source": [
    "# Copiando os elementos do conj1 para conj3\n",
    "conj3 = conj1.copy()\n",
    "conj3"
   ]
  },
  {
   "cell_type": "markdown",
   "id": "c5fe2b5d-9924-44ab-9dd2-80544e4b3e35",
   "metadata": {},
   "source": [
    "### 4.4 difference()"
   ]
  },
  {
   "cell_type": "code",
   "execution_count": 21,
   "id": "ab4f5850-972f-4933-8781-9a0d033912d8",
   "metadata": {},
   "outputs": [],
   "source": [
    "# Criando os conjuntos s1 e s2\n",
    "s1 = {1, 2, 3, 4, 5}\n",
    "s2 = {4, 5, 6, 7}"
   ]
  },
  {
   "cell_type": "code",
   "execution_count": 23,
   "id": "bb6700b8-1f80-4c56-8c8c-5992c62fc3b6",
   "metadata": {},
   "outputs": [
    {
     "data": {
      "text/plain": [
       "{1, 2, 3}"
      ]
     },
     "execution_count": 23,
     "metadata": {},
     "output_type": "execute_result"
    }
   ],
   "source": [
    "# Atribuindo a s3 a diferença do conjunto s1 em relação a s2\n",
    "s3 = s1.difference(s2)\n",
    "s3"
   ]
  },
  {
   "cell_type": "markdown",
   "id": "b10e02ce-ca27-4090-8408-e114a12f6b42",
   "metadata": {},
   "source": [
    "### 4.5 intersection()"
   ]
  },
  {
   "cell_type": "code",
   "execution_count": 24,
   "id": "64338e97-d06b-461d-b6dd-73a413f580bd",
   "metadata": {},
   "outputs": [
    {
     "data": {
      "text/plain": [
       "{4, 5}"
      ]
     },
     "execution_count": 24,
     "metadata": {},
     "output_type": "execute_result"
    }
   ],
   "source": [
    "# Atribuindo a interseção de s1 em relação a s2 a o conjuntoo s4\n",
    "s4 = s1.intersection(s2)\n",
    "s4"
   ]
  },
  {
   "cell_type": "markdown",
   "id": "66968822-5da6-4d6a-b08c-3446a6e9329c",
   "metadata": {},
   "source": [
    "### 4.6 isdisjoint()"
   ]
  },
  {
   "cell_type": "code",
   "execution_count": 25,
   "id": "c5e22fae-53ce-4211-b86f-141da268c476",
   "metadata": {},
   "outputs": [
    {
     "data": {
      "text/plain": [
       "False"
      ]
     },
     "execution_count": 25,
     "metadata": {},
     "output_type": "execute_result"
    }
   ],
   "source": [
    "# Verificando se s1 e s2  são disjuntos - Que não possuem elementos iguais\n",
    "s1.isdisjoint(s2)"
   ]
  },
  {
   "cell_type": "code",
   "execution_count": 28,
   "id": "a04212c7-6048-4b62-ac32-e51f5c5146ca",
   "metadata": {},
   "outputs": [
    {
     "data": {
      "text/plain": [
       "True"
      ]
     },
     "execution_count": 28,
     "metadata": {},
     "output_type": "execute_result"
    }
   ],
   "source": [
    "# Verificando se s3 e s4 são disjuntos \n",
    "s3.isdisjoint(s4)"
   ]
  },
  {
   "cell_type": "markdown",
   "id": "4aa8ebb3-65d2-4c16-ad2a-7088b78a5cbb",
   "metadata": {},
   "source": [
    "### 4.7 issubset()"
   ]
  },
  {
   "cell_type": "code",
   "execution_count": 29,
   "id": "be7894be-71fe-46c4-891e-5c196d8b2495",
   "metadata": {},
   "outputs": [
    {
     "data": {
      "text/plain": [
       "False"
      ]
     },
     "execution_count": 29,
     "metadata": {},
     "output_type": "execute_result"
    }
   ],
   "source": [
    "# Verificando se s1 é subconjunto de s2 - Se os elementos de s1 pertencem a s2 \n",
    "s1.issubset(s2)"
   ]
  },
  {
   "cell_type": "code",
   "execution_count": 30,
   "id": "c7800496-998b-4375-ad97-1569c2d6f7cc",
   "metadata": {},
   "outputs": [
    {
     "data": {
      "text/plain": [
       "True"
      ]
     },
     "execution_count": 30,
     "metadata": {},
     "output_type": "execute_result"
    }
   ],
   "source": [
    "# Verificando se s3 é subconjunto de s1 - Se os elementos de s3 pertencem a s1\n",
    "s3.issubset(s1)"
   ]
  },
  {
   "cell_type": "markdown",
   "id": "318699fe-17f6-4378-8f6a-7cb0ea089cd9",
   "metadata": {},
   "source": [
    "### 4.8 issuperset()"
   ]
  },
  {
   "cell_type": "code",
   "execution_count": 31,
   "id": "fc47d7f3-2844-4922-ab55-790beb71a799",
   "metadata": {},
   "outputs": [
    {
     "data": {
      "text/plain": [
       "False"
      ]
     },
     "execution_count": 31,
     "metadata": {},
     "output_type": "execute_result"
    }
   ],
   "source": [
    "# Verificando se s1 é um superconjunto de s2 - O s1 contem todos os elementos de s2\n",
    "s1.issuperset(s2)"
   ]
  },
  {
   "cell_type": "code",
   "execution_count": 32,
   "id": "fa0384e4-b837-4645-b927-a8c9ef5fc6d7",
   "metadata": {},
   "outputs": [
    {
     "data": {
      "text/plain": [
       "True"
      ]
     },
     "execution_count": 32,
     "metadata": {},
     "output_type": "execute_result"
    }
   ],
   "source": [
    "# Verificando se s1 é superconjunto de s3 \n",
    "s1.issuperset(s3)"
   ]
  },
  {
   "cell_type": "markdown",
   "id": "051623b6-00bc-4651-bc48-734870603769",
   "metadata": {},
   "source": [
    "### 4.9 remove() e discard()"
   ]
  },
  {
   "cell_type": "code",
   "execution_count": 34,
   "id": "51b45c57-c3a5-44cb-a78e-6de226e51390",
   "metadata": {},
   "outputs": [
    {
     "data": {
      "text/plain": [
       "{1, 2, 3, 4, 5, 6}"
      ]
     },
     "execution_count": 34,
     "metadata": {},
     "output_type": "execute_result"
    }
   ],
   "source": [
    "# Visualizando os elementos do conj1\n",
    "conj1"
   ]
  },
  {
   "cell_type": "code",
   "execution_count": 35,
   "id": "20859e75-ae2c-4a81-9398-5c63b4945790",
   "metadata": {},
   "outputs": [],
   "source": [
    "# Removendo o 3 do conj1 usando o remove()\n",
    "conj1.remove(3)"
   ]
  },
  {
   "cell_type": "code",
   "execution_count": 36,
   "id": "f4c7ea1c-7c17-4088-b8c7-20a8031be7dd",
   "metadata": {},
   "outputs": [
    {
     "data": {
      "text/plain": [
       "{1, 2, 4, 5, 6}"
      ]
     },
     "execution_count": 36,
     "metadata": {},
     "output_type": "execute_result"
    }
   ],
   "source": [
    "# Visualizando o conj1 depois do remove(3)\n",
    "conj1"
   ]
  },
  {
   "cell_type": "code",
   "execution_count": 38,
   "id": "b37ff52e-0e61-45c8-952f-fd25fa7ed3ab",
   "metadata": {},
   "outputs": [],
   "source": [
    "# Tentar remover um elemento enexistente provoca um erro\n",
    "# conj1.remove(7)"
   ]
  },
  {
   "cell_type": "code",
   "execution_count": 39,
   "id": "abe79d8c-9973-4933-950d-9d4aaa58075f",
   "metadata": {},
   "outputs": [],
   "source": [
    "# Removendo o elemento 6 do conj1 usando o discard(6)\n",
    "conj1.discard(6)"
   ]
  },
  {
   "cell_type": "code",
   "execution_count": 40,
   "id": "9d47b1ba-f5af-4339-9f3e-4f3481d5b345",
   "metadata": {},
   "outputs": [
    {
     "data": {
      "text/plain": [
       "{1, 2, 4, 5}"
      ]
     },
     "execution_count": 40,
     "metadata": {},
     "output_type": "execute_result"
    }
   ],
   "source": [
    "# Visualizando conj1 depois  do discard(6)\n",
    "conj1"
   ]
  },
  {
   "cell_type": "code",
   "execution_count": 42,
   "id": "ea923ede-7ade-461e-a07f-b00a61ade90e",
   "metadata": {},
   "outputs": [],
   "source": [
    "# Tentar remover um elemento inexistente com o discard NÃO provoca um erro\n",
    "conj1.discard(7)\n"
   ]
  },
  {
   "cell_type": "markdown",
   "id": "3c8525f6-22be-43ea-b2f2-85d2e8339310",
   "metadata": {},
   "source": [
    "### 4.10 symmetric_difference()"
   ]
  },
  {
   "cell_type": "code",
   "execution_count": 44,
   "id": "c2abe895-e743-4208-953d-c8aaef4ed8fb",
   "metadata": {},
   "outputs": [
    {
     "data": {
      "text/plain": [
       "{1, 2, 3, 6, 7}"
      ]
     },
     "execution_count": 44,
     "metadata": {},
     "output_type": "execute_result"
    }
   ],
   "source": [
    "# Na seção 4.5 foi realizado a interseção de s1 e s2. Agora vamos calcular a diferença simetrica - Mostra todos os elementos restantes de s1 e s2, já que a interseção dos dois conjuntos são os numeros iguias existentes dentro deles\n",
    "s5 = s1.symmetric_difference(s2)\n",
    "s5"
   ]
  },
  {
   "cell_type": "markdown",
   "id": "4736a366-b9db-49b1-bd7c-1e35748be1d2",
   "metadata": {},
   "source": [
    "### 4.11 union()"
   ]
  },
  {
   "cell_type": "code",
   "execution_count": 45,
   "id": "2c99979e-2eda-4d38-a14f-1b1874066af6",
   "metadata": {},
   "outputs": [
    {
     "data": {
      "text/plain": [
       "{1, 2, 3, 4, 5, 6, 7}"
      ]
     },
     "execution_count": 45,
     "metadata": {},
     "output_type": "execute_result"
    }
   ],
   "source": [
    "# Calculando o conjunto união. Veja que elementos só aparece uma única vez no conjunto resultante\n",
    "s6 = s1.union(s2)\n",
    "s6 "
   ]
  },
  {
   "cell_type": "markdown",
   "id": "574ffaa7-7dcb-4b2c-a337-5b687cce5223",
   "metadata": {},
   "source": [
    "### 5. Funcões aplicaveis a um conjunto"
   ]
  },
  {
   "cell_type": "code",
   "execution_count": 46,
   "id": "812a25ee-d916-46fe-b078-34451b229b7c",
   "metadata": {},
   "outputs": [
    {
     "data": {
      "text/plain": [
       "5"
      ]
     },
     "execution_count": 46,
     "metadata": {},
     "output_type": "execute_result"
    }
   ],
   "source": [
    "len(s1)"
   ]
  },
  {
   "cell_type": "code",
   "execution_count": 48,
   "id": "8cd7cc1e-edb6-4d08-8288-9138e86b3714",
   "metadata": {},
   "outputs": [
    {
     "data": {
      "text/plain": [
       "5"
      ]
     },
     "execution_count": 48,
     "metadata": {},
     "output_type": "execute_result"
    }
   ],
   "source": [
    "max(s1)"
   ]
  },
  {
   "cell_type": "code",
   "execution_count": 49,
   "id": "dc727704-957e-4432-8720-70607f6e2f9f",
   "metadata": {},
   "outputs": [
    {
     "data": {
      "text/plain": [
       "1"
      ]
     },
     "execution_count": 49,
     "metadata": {},
     "output_type": "execute_result"
    }
   ],
   "source": [
    "min(s1)"
   ]
  },
  {
   "cell_type": "code",
   "execution_count": 50,
   "id": "de0ac952-ee4d-47e4-abb7-e8debe9acbd0",
   "metadata": {},
   "outputs": [
    {
     "data": {
      "text/plain": [
       "15"
      ]
     },
     "execution_count": 50,
     "metadata": {},
     "output_type": "execute_result"
    }
   ],
   "source": [
    "sum(s1)"
   ]
  },
  {
   "cell_type": "markdown",
   "id": "329d6c60-629b-4a7d-87c1-8765a233eec1",
   "metadata": {},
   "source": [
    "### 6. CURIOSIDADE (conversao de uma lista em um conjunto)"
   ]
  },
  {
   "cell_type": "code",
   "execution_count": 52,
   "id": "0ca13da4-b0f2-4318-ad12-f6cf102d4760",
   "metadata": {},
   "outputs": [],
   "source": [
    "# O que acontece se convertermos uma lista que contem elementos reptidos em um conjunto? \n",
    "lista = [1, 2, 4, 3, 2, 1, 5, 2, 3, 1, 6, 3, 4, 2]"
   ]
  },
  {
   "cell_type": "code",
   "execution_count": 53,
   "id": "28b33fcf-9d79-45ed-891d-532dabea2f40",
   "metadata": {},
   "outputs": [],
   "source": [
    "# Convertendo a lista em um conjunto\n",
    "conj_list = set(lista)"
   ]
  },
  {
   "cell_type": "code",
   "execution_count": 55,
   "id": "18a222ac-3811-40dd-b90b-8b4ef2560e14",
   "metadata": {},
   "outputs": [
    {
     "data": {
      "text/plain": [
       "{1, 2, 3, 4, 5, 6}"
      ]
     },
     "execution_count": 55,
     "metadata": {},
     "output_type": "execute_result"
    }
   ],
   "source": [
    "# Ao visualizar o conjunto obtido atraves da conversão da lista, vemso que não existe mais elementos repetidos \n",
    "conj_list"
   ]
  }
 ],
 "metadata": {
  "kernelspec": {
   "display_name": "Python 3 (ipykernel)",
   "language": "python",
   "name": "python3"
  },
  "language_info": {
   "codemirror_mode": {
    "name": "ipython",
    "version": 3
   },
   "file_extension": ".py",
   "mimetype": "text/x-python",
   "name": "python",
   "nbconvert_exporter": "python",
   "pygments_lexer": "ipython3",
   "version": "3.11.7"
  }
 },
 "nbformat": 4,
 "nbformat_minor": 5
}
