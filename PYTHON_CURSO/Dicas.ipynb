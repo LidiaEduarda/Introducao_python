{
 "cells": [
  {
   "cell_type": "code",
   "execution_count": 1,
   "id": "476e7034-d356-47d4-94f9-b0e3dcd01f3a",
   "metadata": {},
   "outputs": [],
   "source": [
    "n = 2 + 3"
   ]
  },
  {
   "cell_type": "code",
   "execution_count": 2,
   "id": "23fd7469-2850-4a0f-8e07-7184c7b22cea",
   "metadata": {},
   "outputs": [
    {
     "data": {
      "text/plain": [
       "5"
      ]
     },
     "execution_count": 2,
     "metadata": {},
     "output_type": "execute_result"
    }
   ],
   "source": [
    "n"
   ]
  },
  {
   "cell_type": "code",
   "execution_count": 3,
   "id": "fbddd536-a00d-4002-b1c3-98030bbcf16a",
   "metadata": {},
   "outputs": [],
   "source": [
    "x = n * 2"
   ]
  },
  {
   "cell_type": "code",
   "execution_count": 6,
   "id": "113588a9-d2c6-48f4-b39a-c39f1b6cb25b",
   "metadata": {},
   "outputs": [
    {
     "data": {
      "text/plain": [
       "10"
      ]
     },
     "execution_count": 6,
     "metadata": {},
     "output_type": "execute_result"
    }
   ],
   "source": [
    "x"
   ]
  },
  {
   "cell_type": "markdown",
   "id": "511bb73b-51f3-4b6a-ad67-104c5eac2143",
   "metadata": {
    "jp-MarkdownHeadingCollapsed": true
   },
   "source": [
    "# Cabeçalho 1\n",
    "## Cabeçalho 2\n",
    "### Cabeçalho 3\n",
    "\n",
    "texto\n",
    "* item 1\n",
    "* item 2\n",
    "* item 3\n",
    "\n",
    "1. num1\n",
    "2. num2\n",
    "3. num3"
   ]
  },
  {
   "cell_type": "code",
   "execution_count": null,
   "id": "0007d3ed-dbc3-4f82-915c-1874ae67b5ae",
   "metadata": {},
   "outputs": [],
   "source": []
  }
 ],
 "metadata": {
  "kernelspec": {
   "display_name": "Python 3 (ipykernel)",
   "language": "python",
   "name": "python3"
  },
  "language_info": {
   "codemirror_mode": {
    "name": "ipython",
    "version": 3
   },
   "file_extension": ".py",
   "mimetype": "text/x-python",
   "name": "python",
   "nbconvert_exporter": "python",
   "pygments_lexer": "ipython3",
   "version": "3.11.7"
  }
 },
 "nbformat": 4,
 "nbformat_minor": 5
}
