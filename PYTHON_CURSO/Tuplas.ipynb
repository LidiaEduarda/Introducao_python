{
 "cells": [
  {
   "cell_type": "markdown",
   "id": "1bbaef98-7199-4a2f-8bfd-0b49cc9fe4be",
   "metadata": {},
   "source": [
    "# 1. Como criar uma tupla\n"
   ]
  },
  {
   "cell_type": "code",
   "execution_count": 2,
   "id": "76933340-6968-419c-9a5d-2286b1c1282e",
   "metadata": {},
   "outputs": [],
   "source": [
    "# Criando tuplas vazias\n",
    "tupla_vazia = ()\n",
    "tupla_vazia2 = tuple()"
   ]
  },
  {
   "cell_type": "code",
   "execution_count": 3,
   "id": "f0d56f60-85c9-46d1-a619-5c9cc58ca8f8",
   "metadata": {},
   "outputs": [
    {
     "data": {
      "text/plain": [
       "tuple"
      ]
     },
     "execution_count": 3,
     "metadata": {},
     "output_type": "execute_result"
    }
   ],
   "source": [
    "# Verificando o tipo de tupla_vazia\n",
    "type(tupla_vazia)"
   ]
  },
  {
   "cell_type": "code",
   "execution_count": 4,
   "id": "5eb16323-1616-4a42-a710-06123d284764",
   "metadata": {},
   "outputs": [
    {
     "data": {
      "text/plain": [
       "True"
      ]
     },
     "execution_count": 4,
     "metadata": {},
     "output_type": "execute_result"
    }
   ],
   "source": [
    "# Verificando se tupla_vazia2 é uma instancia de tuple\n",
    "isinstance(tupla_vazia2, tuple)"
   ]
  },
  {
   "cell_type": "code",
   "execution_count": 5,
   "id": "bae54d7b-5cef-4eff-aba7-d4f5081238ad",
   "metadata": {},
   "outputs": [
    {
     "data": {
      "text/plain": [
       "0"
      ]
     },
     "execution_count": 5,
     "metadata": {},
     "output_type": "execute_result"
    }
   ],
   "source": [
    "# Verificando a quantidade de elementos tupla_vazia e tupla_vazia2\n",
    "len(tupla_vazia)"
   ]
  },
  {
   "cell_type": "code",
   "execution_count": 6,
   "id": "877b2b4c-48c9-4c8d-a243-4e3214004a98",
   "metadata": {},
   "outputs": [],
   "source": [
    "# Criando tuplas com elementos\n",
    "tupla1 = (3, 19, 4, 21, 3, 5, 13)\n",
    "tupla2 = (3, 19, 4, 21, 3, 5, 13, \"tupla\", (1, 2, 3))\n",
    "tupla3 = (3, 19, 4, 21, 3, 5, 13, \"tupla\", [1, 2, 3])"
   ]
  },
  {
   "cell_type": "code",
   "execution_count": 7,
   "id": "abc8064f-f966-4430-8ff9-fc3475ff3a64",
   "metadata": {},
   "outputs": [
    {
     "data": {
      "text/plain": [
       "(3, 19, 4, 21, 3, 5, 13)"
      ]
     },
     "execution_count": 7,
     "metadata": {},
     "output_type": "execute_result"
    }
   ],
   "source": [
    "# Visualizando os elementos de tupla1\n",
    "tupla1"
   ]
  },
  {
   "cell_type": "code",
   "execution_count": 8,
   "id": "7b38210f-3a41-4be2-b912-8845301b2983",
   "metadata": {},
   "outputs": [
    {
     "data": {
      "text/plain": [
       "(3, 19, 4, 21, 3, 5, 13, 'tupla', (1, 2, 3))"
      ]
     },
     "execution_count": 8,
     "metadata": {},
     "output_type": "execute_result"
    }
   ],
   "source": [
    "# Visualizando os elementos de tupla2\n",
    "tupla2"
   ]
  },
  {
   "cell_type": "code",
   "execution_count": 9,
   "id": "cf3bb249-163b-4e6b-9a7a-9b008974eda0",
   "metadata": {},
   "outputs": [
    {
     "data": {
      "text/plain": [
       "(3, 19, 4, 21, 3, 5, 13, 'tupla', [1, 2, 3])"
      ]
     },
     "execution_count": 9,
     "metadata": {},
     "output_type": "execute_result"
    }
   ],
   "source": [
    "# Visualizando os elementos de tupla3\n",
    "tupla3"
   ]
  },
  {
   "cell_type": "markdown",
   "id": "1fdd223e-0442-44a1-ac7f-95b3ae531afa",
   "metadata": {},
   "source": [
    "## 2. Como acessar elementos de uma tupla"
   ]
  },
  {
   "cell_type": "code",
   "execution_count": 10,
   "id": "157206e3-31d7-4471-91aa-e35cfbe2c951",
   "metadata": {},
   "outputs": [
    {
     "data": {
      "text/plain": [
       "3"
      ]
     },
     "execution_count": 10,
     "metadata": {},
     "output_type": "execute_result"
    }
   ],
   "source": [
    "# Acessando o índice 0 (primeira posição) de tupla1\n",
    "tupla1[0]"
   ]
  },
  {
   "cell_type": "code",
   "execution_count": 11,
   "id": "ad51fb6e-44c6-401d-8ab9-70b2b20a8e3c",
   "metadata": {},
   "outputs": [
    {
     "data": {
      "text/plain": [
       "5"
      ]
     },
     "execution_count": 11,
     "metadata": {},
     "output_type": "execute_result"
    }
   ],
   "source": [
    "# Acessando o índice 5 (sexta posição) de tupla2\n",
    "tupla2[5]"
   ]
  },
  {
   "cell_type": "code",
   "execution_count": 12,
   "id": "e415ff93-e4a4-462f-b7cf-d480e3c500ef",
   "metadata": {},
   "outputs": [
    {
     "data": {
      "text/plain": [
       "[1, 2, 3]"
      ]
     },
     "execution_count": 12,
     "metadata": {},
     "output_type": "execute_result"
    }
   ],
   "source": [
    "# Acessando o indice 8 (nona posição) de tupla3\n",
    "tupla3[8]"
   ]
  },
  {
   "cell_type": "markdown",
   "id": "f050f552-fe40-4ca6-91ff-e7fddda629d7",
   "metadata": {},
   "source": [
    "## 3. A imutabilidade de uma tupla"
   ]
  },
  {
   "cell_type": "code",
   "execution_count": 13,
   "id": "122aae95-cb15-49cc-b56f-8b9db7af47ee",
   "metadata": {},
   "outputs": [],
   "source": [
    "# Tupla nao se altera, nem exclui elementos, nem substitui listas"
   ]
  },
  {
   "cell_type": "code",
   "execution_count": 14,
   "id": "88a55b7a-ea96-4269-8502-aaa5e3c988d3",
   "metadata": {},
   "outputs": [],
   "source": [
    "# Atribuindo o elemento 5 ao índice 1, da lista armazenada no índice 8 de tupla3\n",
    "tupla3[8][1] = 5"
   ]
  },
  {
   "cell_type": "code",
   "execution_count": 15,
   "id": "e3ad3e6a-b658-4f91-825b-06b98c43cf42",
   "metadata": {},
   "outputs": [
    {
     "data": {
      "text/plain": [
       "(3, 19, 4, 21, 3, 5, 13, 'tupla', [1, 5, 3])"
      ]
     },
     "execution_count": 15,
     "metadata": {},
     "output_type": "execute_result"
    }
   ],
   "source": [
    "# Visualizando tupla3 depois da alteração\n",
    "tupla3"
   ]
  },
  {
   "cell_type": "code",
   "execution_count": 16,
   "id": "5afb874f-c9ab-49cb-a105-af7ad5c3dbe4",
   "metadata": {},
   "outputs": [],
   "source": [
    " # Adicionando novos elementos à lista armazenada no índice 8 da tupla3\n",
    "tupla3[8].extend([4, 5, 6])"
   ]
  },
  {
   "cell_type": "code",
   "execution_count": 17,
   "id": "543c81c5-46d0-4759-bbb4-bbb19f1a2891",
   "metadata": {},
   "outputs": [
    {
     "data": {
      "text/plain": [
       "(3, 19, 4, 21, 3, 5, 13, 'tupla', [1, 5, 3, 4, 5, 6])"
      ]
     },
     "execution_count": 17,
     "metadata": {},
     "output_type": "execute_result"
    }
   ],
   "source": [
    "# Verificando tupla3 depois da alterção\n",
    "tupla3"
   ]
  },
  {
   "cell_type": "markdown",
   "id": "ae0b5c0e-297a-4407-a2d1-eed345ff8d2f",
   "metadata": {},
   "source": [
    "## 4. Principais metodos de um objeto tupla\n"
   ]
  },
  {
   "cell_type": "code",
   "execution_count": 18,
   "id": "415f1c5a-6a1e-4d07-a5f2-59b5afe77ee7",
   "metadata": {},
   "outputs": [
    {
     "data": {
      "text/plain": [
       "2"
      ]
     },
     "execution_count": 18,
     "metadata": {},
     "output_type": "execute_result"
    }
   ],
   "source": [
    "# Verificando quantas vezes o numero 3 aparece em tupla1\n",
    "tupla1.count(3)"
   ]
  },
  {
   "cell_type": "code",
   "execution_count": 19,
   "id": "4438fb20-feb2-4661-afa5-d54041ace0b4",
   "metadata": {},
   "outputs": [
    {
     "data": {
      "text/plain": [
       "3"
      ]
     },
     "execution_count": 19,
     "metadata": {},
     "output_type": "execute_result"
    }
   ],
   "source": [
    "# Verificando em que posição está armazenado o elemento 21 de tupla1\n",
    "tupla1.index(21)"
   ]
  },
  {
   "cell_type": "markdown",
   "id": "5b961f5f-829f-4081-9cd9-02e6008df487",
   "metadata": {},
   "source": [
    "## Funções aplicáveis a uma tupla"
   ]
  },
  {
   "cell_type": "code",
   "execution_count": 20,
   "id": "d5c750a6-241c-4378-856d-7d80aee902a5",
   "metadata": {},
   "outputs": [],
   "source": [
    "# len = Tamanho de elemntos\n",
    "# max = Maior elemento\n",
    "# min = Menor elemento\n",
    "# sum = Soma dos elementos"
   ]
  },
  {
   "cell_type": "code",
   "execution_count": 21,
   "id": "2de62e99-c48d-44af-b9e9-3dc2ee9d2fc8",
   "metadata": {},
   "outputs": [
    {
     "data": {
      "text/plain": [
       "7"
      ]
     },
     "execution_count": 21,
     "metadata": {},
     "output_type": "execute_result"
    }
   ],
   "source": [
    "len(tupla1)"
   ]
  },
  {
   "cell_type": "code",
   "execution_count": 22,
   "id": "71f16770-b11e-4e9c-b3fe-bc4de6e8fbfd",
   "metadata": {},
   "outputs": [
    {
     "data": {
      "text/plain": [
       "21"
      ]
     },
     "execution_count": 22,
     "metadata": {},
     "output_type": "execute_result"
    }
   ],
   "source": [
    "max(tupla1)"
   ]
  },
  {
   "cell_type": "code",
   "execution_count": 23,
   "id": "a5a48e75-3aa4-4d8f-90d9-dc367953321c",
   "metadata": {},
   "outputs": [
    {
     "data": {
      "text/plain": [
       "3"
      ]
     },
     "execution_count": 23,
     "metadata": {},
     "output_type": "execute_result"
    }
   ],
   "source": [
    "min(tupla1)"
   ]
  },
  {
   "cell_type": "code",
   "execution_count": 24,
   "id": "b58d218b-b2dd-4cf0-9f73-f09e58e06a6a",
   "metadata": {},
   "outputs": [
    {
     "data": {
      "text/plain": [
       "68"
      ]
     },
     "execution_count": 24,
     "metadata": {},
     "output_type": "execute_result"
    }
   ],
   "source": [
    "sum(tupla1)"
   ]
  },
  {
   "cell_type": "markdown",
   "id": "58e17546-bc30-4175-9c0f-8d4a42513d73",
   "metadata": {},
   "source": [
    "## Convertendo uma tupla em lista"
   ]
  },
  {
   "cell_type": "code",
   "execution_count": 26,
   "id": "8e63e672-f222-4644-bd52-92c68b520231",
   "metadata": {},
   "outputs": [],
   "source": [
    "lista = list(tupla1)"
   ]
  },
  {
   "cell_type": "code",
   "execution_count": 27,
   "id": "cd430174-c0fa-40d3-8d16-955c788b26b2",
   "metadata": {},
   "outputs": [
    {
     "data": {
      "text/plain": [
       "[3, 19, 4, 21, 3, 5, 13]"
      ]
     },
     "execution_count": 27,
     "metadata": {},
     "output_type": "execute_result"
    }
   ],
   "source": [
    "lista"
   ]
  },
  {
   "cell_type": "code",
   "execution_count": 28,
   "id": "1ca8b846-9b5c-45fc-b3fa-c33b71387d6b",
   "metadata": {},
   "outputs": [],
   "source": [
    "# Alterando o índice 6 da lista para -1\n",
    "lista[6] = -1"
   ]
  },
  {
   "cell_type": "code",
   "execution_count": 30,
   "id": "996a358f-49b1-4ab2-a74f-e37824f929bc",
   "metadata": {},
   "outputs": [
    {
     "data": {
      "text/plain": [
       "[3, 19, 4, 21, 3, 5, -1]"
      ]
     },
     "execution_count": 30,
     "metadata": {},
     "output_type": "execute_result"
    }
   ],
   "source": [
    "lista"
   ]
  },
  {
   "cell_type": "code",
   "execution_count": null,
   "id": "1c1a2f61-4886-4513-b0b2-2fbde544fd03",
   "metadata": {},
   "outputs": [],
   "source": []
  }
 ],
 "metadata": {
  "kernelspec": {
   "display_name": "Python 3",
   "language": "python",
   "name": "python3"
  },
  "language_info": {
   "codemirror_mode": {
    "name": "ipython",
    "version": 3
   },
   "file_extension": ".py",
   "mimetype": "text/x-python",
   "name": "python",
   "nbconvert_exporter": "python",
   "pygments_lexer": "ipython3",
   "version": "3.12.1"
  }
 },
 "nbformat": 4,
 "nbformat_minor": 5
}
