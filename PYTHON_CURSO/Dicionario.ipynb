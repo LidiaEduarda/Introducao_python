{
 "cells": [
  {
   "cell_type": "markdown",
   "id": "275ad995-145b-4a06-80ec-cecd08ad280f",
   "metadata": {},
   "source": [
    "## 1. Como criar Dicionário"
   ]
  },
  {
   "cell_type": "code",
   "execution_count": 1,
   "id": "bd22b487-bc8f-411b-867a-b82be7f60a60",
   "metadata": {},
   "outputs": [],
   "source": [
    "# Criando dicionarios vazios\n",
    "dic_vazio = {}\n",
    "dic_vazio2 = dict()"
   ]
  },
  {
   "cell_type": "code",
   "execution_count": 5,
   "id": "b51fac8a-d2d0-4c38-8a5f-573dc79522db",
   "metadata": {},
   "outputs": [
    {
     "data": {
      "text/plain": [
       "dict"
      ]
     },
     "execution_count": 5,
     "metadata": {},
     "output_type": "execute_result"
    }
   ],
   "source": [
    "# Visualizando o tipo de dic_vazio\n",
    "type(dic_vazio)"
   ]
  },
  {
   "cell_type": "code",
   "execution_count": 6,
   "id": "c343806b-2cdd-4bd9-8994-1803c42439f3",
   "metadata": {},
   "outputs": [
    {
     "data": {
      "text/plain": [
       "True"
      ]
     },
     "execution_count": 6,
     "metadata": {},
     "output_type": "execute_result"
    }
   ],
   "source": [
    "# Visualizando o tipo de dic_vazio2\n",
    "isinstance(dic_vazio2, dict)"
   ]
  },
  {
   "cell_type": "code",
   "execution_count": 43,
   "id": "f8cbd1a2-4f1e-45d5-836a-c775a586523f",
   "metadata": {},
   "outputs": [],
   "source": [
    "# Criando dicionarios com pares chaves/valor\n",
    "# Dicionario de Estados: chave é a sigla do estado e o valor é o nome completo\n",
    "# O nome do estado AMAZONAS ficou errado de forma intencional\n",
    "dic_estados = { \"MG\": \"Minas Gerais\", \"PR\": \"Paraná\", \"BA\": \"Bahia\", \"RN\": \"Rio Grande do Norte\", \"AM\": \"Amzonas\"}"
   ]
  },
  {
   "cell_type": "code",
   "execution_count": 25,
   "id": "1f41367b-c7d5-4a66-a39c-8b96cb401440",
   "metadata": {},
   "outputs": [
    {
     "data": {
      "text/plain": [
       "{'MG': 'Minas Gerais',\n",
       " 'PR': 'Paraná',\n",
       " 'BA': 'Bahia',\n",
       " 'RN': 'Rio Grande do Norte',\n",
       " 'AM': 'Amzonas'}"
      ]
     },
     "execution_count": 25,
     "metadata": {},
     "output_type": "execute_result"
    }
   ],
   "source": [
    "# Visualizando o dicionario dic_estados\n",
    "dic_estados"
   ]
  },
  {
   "cell_type": "code",
   "execution_count": 10,
   "id": "03fff800-e95c-46bd-a0bd-1ff1a9721fef",
   "metadata": {},
   "outputs": [],
   "source": [
    "# Dicionario de Produtos: chave é o codigo e valor é a descrição do protudo\n",
    "dic_produtos = {1215:\"Lápis\", 3221:\"Caneta\", 2329:\"Borracha\", 1092: \"Caderno\", 7633: \"Cola\"}"
   ]
  },
  {
   "cell_type": "code",
   "execution_count": 11,
   "id": "e1dc069a-fdad-44a5-919e-09bf9ffb19eb",
   "metadata": {},
   "outputs": [
    {
     "data": {
      "text/plain": [
       "{1215: 'Lápis',\n",
       " 3221: 'Caneta',\n",
       " 2329: 'Borracha',\n",
       " 1092: 'Caderno',\n",
       " 7633: 'Cola'}"
      ]
     },
     "execution_count": 11,
     "metadata": {},
     "output_type": "execute_result"
    }
   ],
   "source": [
    "# Visualizando o dicionario dic_produtos\n",
    "dic_produtos"
   ]
  },
  {
   "cell_type": "code",
   "execution_count": 14,
   "id": "e4799270-b726-4855-8d1d-87116d2c41da",
   "metadata": {},
   "outputs": [],
   "source": [
    "# Dicionario de Alunos: chave é o nome e valor é uma lista com três notas do aluno\n",
    "dic_notas_alunos = {\"João\":[30, 12, 21], \"Maria\":[20, 30, 29], \"José\":[20, 23, 19]}"
   ]
  },
  {
   "cell_type": "code",
   "execution_count": 16,
   "id": "306a4ada-3c20-4fb8-93c4-0c9a8a04ffad",
   "metadata": {},
   "outputs": [
    {
     "data": {
      "text/plain": [
       "{'João': [30, 12, 21], 'Maria': [20, 30, 29], 'José': [20, 23, 19]}"
      ]
     },
     "execution_count": 16,
     "metadata": {},
     "output_type": "execute_result"
    }
   ],
   "source": [
    "# Visualizando o dicionario dic_notas_alunos\n",
    "dic_notas_alunos"
   ]
  },
  {
   "cell_type": "code",
   "execution_count": 19,
   "id": "a899ce63-4f09-46fa-be57-2a8295041a5c",
   "metadata": {},
   "outputs": [],
   "source": [
    "# Dicionario de alunos 2: chave é o nome e o valor é um outro dicionario contendo 3 notas do aluno\n",
    "dic_notas_alunos2 = {\"João\": {\"nota1\": 30, \"nota2\": 12, \"nota3\": 21},\n",
    "                    \"Maria\": {\"nota1\": 20, \"nota2\": 30, \"nota3\": 29},\n",
    "                    \"José\": {\"nota1\": 20, \"nota2\": 23, \"nota3\": 19},\n",
    "                   }"
   ]
  },
  {
   "cell_type": "code",
   "execution_count": 21,
   "id": "9573bb12-71b1-4600-8927-a6f0d05ce040",
   "metadata": {},
   "outputs": [
    {
     "data": {
      "text/plain": [
       "{'João': {'nota1': 30, 'nota2': 12, 'nota3': 21},\n",
       " 'Maria': {'nota1': 20, 'nota2': 30, 'nota3': 29},\n",
       " 'José': {'nota1': 20, 'nota2': 23, 'nota3': 19}}"
      ]
     },
     "execution_count": 21,
     "metadata": {},
     "output_type": "execute_result"
    }
   ],
   "source": [
    "# Visualizando o dicionario dic_notas_alunos2\n",
    "dic_notas_alunos2"
   ]
  },
  {
   "cell_type": "markdown",
   "id": "08f585df-fbb8-4938-ae4a-26576047b4a8",
   "metadata": {},
   "source": [
    "## 2. Acessando um valor em um dicionario atraves de uma chave"
   ]
  },
  {
   "cell_type": "code",
   "execution_count": 22,
   "id": "b7a7f1f2-4065-48a9-b754-f92d3ccb6ba0",
   "metadata": {},
   "outputs": [
    {
     "data": {
      "text/plain": [
       "'Paraná'"
      ]
     },
     "execution_count": 22,
     "metadata": {},
     "output_type": "execute_result"
    }
   ],
   "source": [
    "# Acessendo o valor associado á chave PR do dic_estados\n",
    "dic_estados[\"PR\"]"
   ]
  },
  {
   "cell_type": "code",
   "execution_count": 24,
   "id": "0cd366e0-7cfb-4066-95c0-a657b7a3d8b2",
   "metadata": {},
   "outputs": [
    {
     "name": "stdout",
     "output_type": "stream",
     "text": [
      "Eu nasci em Minas Gerais.\n"
     ]
    }
   ],
   "source": [
    "# Acessando o valor associado á chave \"MG\" do dic_estados, dentro de um comando print\n",
    "print(\"Eu nasci em \"+dic_estados[\"MG\"]+\".\")"
   ]
  },
  {
   "cell_type": "code",
   "execution_count": 26,
   "id": "e9504416-1e95-48dd-a21a-363dc17784ac",
   "metadata": {},
   "outputs": [
    {
     "data": {
      "text/plain": [
       "'Borracha'"
      ]
     },
     "execution_count": 26,
     "metadata": {},
     "output_type": "execute_result"
    }
   ],
   "source": [
    "# Acessando o valor associado á chave 2329 de dic_produtos\n",
    "dic_produtos[2329]"
   ]
  },
  {
   "cell_type": "code",
   "execution_count": 29,
   "id": "f309e48e-f1cc-47b2-8bed-974c9d4c5137",
   "metadata": {},
   "outputs": [
    {
     "name": "stdout",
     "output_type": "stream",
     "text": [
      "As notas de Maria foram: [20, 30, 29].\n"
     ]
    }
   ],
   "source": [
    "# Acessando o valor associado á chave \"Maria\" do dic_notas_alunos e criando uma variavel pra que no print o nome maria fique armazenado na variavel\n",
    "nome_aluno = \"Maria\"\n",
    "print(f\"As notas de {nome_aluno} foram: {dic_notas_alunos[nome_aluno]}.\")"
   ]
  },
  {
   "cell_type": "code",
   "execution_count": 31,
   "id": "5befa002-feda-46ab-9947-f0a212676ca0",
   "metadata": {},
   "outputs": [
    {
     "name": "stdout",
     "output_type": "stream",
     "text": [
      "Maria tirou 20 pontos na primeira prova.\n"
     ]
    }
   ],
   "source": [
    "print(f'{nome_aluno} tirou {dic_notas_alunos[nome_aluno][0]} pontos na primeira prova.')"
   ]
  },
  {
   "cell_type": "code",
   "execution_count": 38,
   "id": "527cea58-4709-4961-a2c5-0da9a651d989",
   "metadata": {},
   "outputs": [
    {
     "data": {
      "text/plain": [
       "30"
      ]
     },
     "execution_count": 38,
     "metadata": {},
     "output_type": "execute_result"
    }
   ],
   "source": [
    "# Acessando a nota da primeira prova do joão do dic_notas_alunos2\n",
    "dic_notas_alunos2[\"João\"]['nota1']"
   ]
  },
  {
   "cell_type": "markdown",
   "id": "2189d60c-3884-484a-88ff-d895bcc87e3c",
   "metadata": {},
   "source": [
    "## 3. Modificando valores em um dicionario"
   ]
  },
  {
   "cell_type": "code",
   "execution_count": 39,
   "id": "af7033e0-9e2d-4e87-a51d-038c5e211ee6",
   "metadata": {},
   "outputs": [
    {
     "data": {
      "text/plain": [
       "{'MG': 'Minas Gerais',\n",
       " 'PR': 'Paraná',\n",
       " 'BA': 'Bahia',\n",
       " 'RN': 'Rio Grande do Norte',\n",
       " 'AM': 'Amazonas'}"
      ]
     },
     "execution_count": 39,
     "metadata": {},
     "output_type": "execute_result"
    }
   ],
   "source": [
    "# Corrigindo o nome do Estado Amazonas do dic_estados\n",
    "dic_estados[\"AM\"] = \"Amazonas\"\n",
    "dic_estados"
   ]
  },
  {
   "cell_type": "code",
   "execution_count": 41,
   "id": "32bd3b7b-6b62-4e69-9446-53f4bf0fec20",
   "metadata": {},
   "outputs": [
    {
     "data": {
      "text/plain": [
       "{'João': [30, 22, 21], 'Maria': [20, 30, 29], 'José': [20, 23, 19]}"
      ]
     },
     "execution_count": 41,
     "metadata": {},
     "output_type": "execute_result"
    }
   ],
   "source": [
    "# Alterando a segunda nota de João para 22 do dic_notas_alunos\n",
    "dic_notas_alunos[\"João\"][1] = 22 \n",
    "dic_notas_alunos"
   ]
  },
  {
   "cell_type": "code",
   "execution_count": 43,
   "id": "d812b608-38f1-4f56-bb3a-691a41a59320",
   "metadata": {},
   "outputs": [
    {
     "data": {
      "text/plain": [
       "{'João': [30, 22, 21], 'Maria': [25, 20, 22], 'José': [20, 23, 19]}"
      ]
     },
     "execution_count": 43,
     "metadata": {},
     "output_type": "execute_result"
    }
   ],
   "source": [
    "# Alterando todas as notas de Maria do dic_notas_alunos atribuindo todas as notas a uma unica lista\n",
    "dic_notas_alunos[\"Maria\"] = [25, 20, 22]\n",
    "dic_notas_alunos"
   ]
  },
  {
   "cell_type": "code",
   "execution_count": 44,
   "id": "c19ddce5-d8ae-4446-9549-8ab4ef1661be",
   "metadata": {},
   "outputs": [
    {
     "data": {
      "text/plain": [
       "{'João': {'nota1': 30, 'nota2': 12, 'nota3': 21},\n",
       " 'Maria': {'nota1': 20, 'nota2': 30, 'nota3': 29},\n",
       " 'José': {'nota1': 20, 'nota2': 23, 'nota3': 25}}"
      ]
     },
     "execution_count": 44,
     "metadata": {},
     "output_type": "execute_result"
    }
   ],
   "source": [
    "# Alterando a terceira nota de José para 25 do dic_notas_alunos2\n",
    "dic_notas_alunos2[\"José\"][\"nota3\"] = 25\n",
    "dic_notas_alunos2"
   ]
  },
  {
   "cell_type": "markdown",
   "id": "2edf699a-3c60-4e27-87be-098530cbee9c",
   "metadata": {},
   "source": [
    "## 4. Principais metodos de um objeto dicionario"
   ]
  },
  {
   "cell_type": "code",
   "execution_count": 2,
   "id": "12a64b1e-7e59-4b2c-a2ef-d756225ab094",
   "metadata": {},
   "outputs": [
    {
     "data": {
      "text/plain": [
       "{1: 'um', 2: 'dois', 3: 'tres', 4: 'quatro'}"
      ]
     },
     "execution_count": 2,
     "metadata": {},
     "output_type": "execute_result"
    }
   ],
   "source": [
    "# Criando um dicionario exemplo\n",
    "dic_exemplo = {1: \"um\", 2: \"dois\", 3: \"tres\", 4: \"quatro\"}\n",
    "dic_exemplo"
   ]
  },
  {
   "cell_type": "markdown",
   "id": "b3b3f2da-f2e1-4b33-8c40-482bc7a53e2d",
   "metadata": {},
   "source": [
    "### 4.1 Clear"
   ]
  },
  {
   "cell_type": "code",
   "execution_count": 3,
   "id": "02bcbaaa-86fe-4339-b94a-0e52e2844a76",
   "metadata": {},
   "outputs": [
    {
     "data": {
      "text/plain": [
       "{}"
      ]
     },
     "execution_count": 3,
     "metadata": {},
     "output_type": "execute_result"
    }
   ],
   "source": [
    "# Removendo os elementos do dic_exemplos\n",
    "dic_exemplo.clear()\n",
    "dic_exemplo"
   ]
  },
  {
   "cell_type": "markdown",
   "id": "c890751a-507e-4a40-8f0e-e78cc0d002a4",
   "metadata": {},
   "source": [
    "### 4.2 Copy"
   ]
  },
  {
   "cell_type": "code",
   "execution_count": 4,
   "id": "1c668c9e-e50d-4241-afca-0296a835416e",
   "metadata": {},
   "outputs": [
    {
     "data": {
      "text/plain": [
       "{1: 'um', 2: 'dois', 3: 'tres', 4: 'quatro'}"
      ]
     },
     "execution_count": 4,
     "metadata": {},
     "output_type": "execute_result"
    }
   ],
   "source": [
    "# Redefinindo dic_exemplos - Ou seja, adicionando novamente elementos a ele\n",
    "dic_exemplo = {1: \"um\", 2: \"dois\", 3: \"tres\", 4: \"quatro\"}\n",
    "dic_exemplo"
   ]
  },
  {
   "cell_type": "code",
   "execution_count": 5,
   "id": "362bd589-1acb-4d5c-9aa2-a47b477abbd4",
   "metadata": {},
   "outputs": [
    {
     "data": {
      "text/plain": [
       "{1: 'um', 2: 'dois', 3: 'tres', 4: 'quatro'}"
      ]
     },
     "execution_count": 5,
     "metadata": {},
     "output_type": "execute_result"
    }
   ],
   "source": [
    "# Criando um novo dicionario chamado de dic_exemplos2 e copiando os elementos de dic_exemplos usando o metodo copy() \n",
    "dic_exemplo2 = dic_exemplo.copy()\n",
    "dic_exemplo2"
   ]
  },
  {
   "cell_type": "markdown",
   "id": "a138fc97-fe72-4cf3-a6b3-46db9d26de8c",
   "metadata": {},
   "source": [
    "### 4.3 Fromkeys"
   ]
  },
  {
   "cell_type": "code",
   "execution_count": 7,
   "id": "028d1729-5a89-4492-b6dc-bbdc070d7659",
   "metadata": {},
   "outputs": [
    {
     "data": {
      "text/plain": [
       "{2: None, 4: None, 6: None, 8: None, 10: None}"
      ]
     },
     "execution_count": 7,
     "metadata": {},
     "output_type": "execute_result"
    }
   ],
   "source": [
    "# Criando um novo dicionario a apartir da seleção das chaves que desejamos \n",
    "dic_num_pares = dict.fromkeys([2, 4, 6, 8, 10])\n",
    "dic_num_pares"
   ]
  },
  {
   "cell_type": "code",
   "execution_count": 20,
   "id": "c8ca03e1-fb21-4551-a3d6-3c33520e653f",
   "metadata": {},
   "outputs": [
    {
     "data": {
      "text/plain": [
       "{2: 'par', 4: 'par', 6: 'par', 8: 'par', 10: 'par'}"
      ]
     },
     "execution_count": 20,
     "metadata": {},
     "output_type": "execute_result"
    }
   ],
   "source": [
    "# Se desejarmos atribuir um valor defaul, basta informar após a lista com as chaves\n",
    "dic_num_pares = dict.fromkeys([2, 4, 6, 8, 10], \"par\")\n",
    "dic_num_pares"
   ]
  },
  {
   "cell_type": "markdown",
   "id": "7bdd6846-625e-4263-9b91-604be7fb6f34",
   "metadata": {},
   "source": [
    "### 4.4 Get()"
   ]
  },
  {
   "cell_type": "code",
   "execution_count": 9,
   "id": "156deb54-1f71-46fd-8046-0e339060f1ad",
   "metadata": {},
   "outputs": [
    {
     "data": {
      "text/plain": [
       "'dois'"
      ]
     },
     "execution_count": 9,
     "metadata": {},
     "output_type": "execute_result"
    }
   ],
   "source": [
    "# O metodo get retorna o valor associado a uma chave \n",
    "# Visualizando o valor associado a chave 2 de dic_exemplo\n",
    "dic_exemplo.get(2)"
   ]
  },
  {
   "cell_type": "markdown",
   "id": "e0314fa3-09b9-499c-8aac-fff83dd198cf",
   "metadata": {},
   "source": [
    "### 4.5 Items()"
   ]
  },
  {
   "cell_type": "code",
   "execution_count": 10,
   "id": "18bc3b36-1298-4125-9a34-4c54680937c1",
   "metadata": {},
   "outputs": [
    {
     "data": {
      "text/plain": [
       "dict_items([(1, 'um'), (2, 'dois'), (3, 'tres'), (4, 'quatro')])"
      ]
     },
     "execution_count": 10,
     "metadata": {},
     "output_type": "execute_result"
    }
   ],
   "source": [
    "# Visualizando os pares chave/valor do dic_exemplo\n",
    "dic_exemplo.items()"
   ]
  },
  {
   "cell_type": "markdown",
   "id": "aafca83c-6754-42be-959a-451854acf4d7",
   "metadata": {},
   "source": [
    "### 4.6 Keys()"
   ]
  },
  {
   "cell_type": "code",
   "execution_count": 11,
   "id": "e3e6a311-aa05-47f0-a0e1-4618edb378f4",
   "metadata": {},
   "outputs": [
    {
     "data": {
      "text/plain": [
       "dict_keys([1, 2, 3, 4])"
      ]
     },
     "execution_count": 11,
     "metadata": {},
     "output_type": "execute_result"
    }
   ],
   "source": [
    "# Visualizando as chaves do dic_exemplo\n",
    "dic_exemplo.keys()"
   ]
  },
  {
   "cell_type": "markdown",
   "id": "563828e6-b2b4-4420-bbb1-187ecafa787e",
   "metadata": {},
   "source": [
    "### 4.7 Pop()"
   ]
  },
  {
   "cell_type": "code",
   "execution_count": 12,
   "id": "7a622709-3110-4856-8e6c-4898da644e60",
   "metadata": {},
   "outputs": [
    {
     "data": {
      "text/plain": [
       "{2: 'dois', 3: 'tres', 4: 'quatro'}"
      ]
     },
     "execution_count": 12,
     "metadata": {},
     "output_type": "execute_result"
    }
   ],
   "source": [
    "# Removendo o par chave/valor associado a chave 1 do dic_exemplo\n",
    "dic_exemplo.pop(1)\n",
    "dic_exemplo"
   ]
  },
  {
   "cell_type": "code",
   "execution_count": 13,
   "id": "a3a12b98-7e64-4ad6-9569-580a421c8deb",
   "metadata": {},
   "outputs": [
    {
     "data": {
      "text/plain": [
       "{2: 'dois', 3: 'tres'}"
      ]
     },
     "execution_count": 13,
     "metadata": {},
     "output_type": "execute_result"
    }
   ],
   "source": [
    "# Podemos remover e armazenar o valor removido em uma  variavel \n",
    "valor = dic_exemplo.pop(4)\n",
    "dic_exemplo"
   ]
  },
  {
   "cell_type": "code",
   "execution_count": 16,
   "id": "0c54f20a-ce1f-4916-b436-dbcc4f5a3a69",
   "metadata": {},
   "outputs": [
    {
     "data": {
      "text/plain": [
       "'quatro'"
      ]
     },
     "execution_count": 16,
     "metadata": {},
     "output_type": "execute_result"
    }
   ],
   "source": [
    "# Visualizando o conteudo armazenado na variavel valor\n",
    "valor"
   ]
  },
  {
   "cell_type": "markdown",
   "id": "dfb91585-29a0-4286-ad6c-9d6b86314829",
   "metadata": {},
   "source": [
    "### 4.8 Popitem()"
   ]
  },
  {
   "cell_type": "code",
   "execution_count": 21,
   "id": "890f1175-3cb2-45e9-a857-fa70b3de2ff9",
   "metadata": {},
   "outputs": [
    {
     "data": {
      "text/plain": [
       "{2: 'par', 4: 'par', 6: 'par', 8: 'par'}"
      ]
     },
     "execution_count": 21,
     "metadata": {},
     "output_type": "execute_result"
    }
   ],
   "source": [
    "# Removendo o ultimo par chave/valor adicionado ao dic_num_pares\n",
    "removido = dic_num_pares.popitem()\n",
    "dic_num_pares"
   ]
  },
  {
   "cell_type": "code",
   "execution_count": 22,
   "id": "4f552ab0-a461-4176-a222-88443f451d9d",
   "metadata": {},
   "outputs": [
    {
     "data": {
      "text/plain": [
       "(10, 'par')"
      ]
     },
     "execution_count": 22,
     "metadata": {},
     "output_type": "execute_result"
    }
   ],
   "source": [
    "# Visualizando o conteudo aramazenado na variavel removido\n",
    "removido"
   ]
  },
  {
   "cell_type": "markdown",
   "id": "bb2a94f8-60d8-4689-a2d6-dd7864fa5776",
   "metadata": {},
   "source": [
    "### 4.9 Setdefault\n"
   ]
  },
  {
   "cell_type": "code",
   "execution_count": 44,
   "id": "26106faf-e7e7-4497-92e8-4223d3a5b428",
   "metadata": {},
   "outputs": [
    {
     "data": {
      "text/plain": [
       "'Minas Gerais'"
      ]
     },
     "execution_count": 44,
     "metadata": {},
     "output_type": "execute_result"
    }
   ],
   "source": [
    "# Verificando o valor associado à chave \"MG\" do dic_estados\n",
    "dic_estados.setdefault(\"MG\")"
   ]
  },
  {
   "cell_type": "code",
   "execution_count": 45,
   "id": "a8e352dc-4226-4b6d-999c-9db04f00ec33",
   "metadata": {},
   "outputs": [],
   "source": [
    "# Verificando o valor associado à chave \"ES\" de dic_estados\n",
    "# Como essa chave não existe, ela é adicionada pelo metodo setdefault ao dicionario\n",
    "# Nesse exemplo o valor fica como \"None\" pois nenhum valor foi passo \n",
    "dic_estados.setdefault(\"ES\")"
   ]
  },
  {
   "cell_type": "code",
   "execution_count": 46,
   "id": "beab095c-e5b2-4843-9001-e0641ca5cf22",
   "metadata": {},
   "outputs": [
    {
     "data": {
      "text/plain": [
       "{'MG': 'Minas Gerais',\n",
       " 'PR': 'Paraná',\n",
       " 'BA': 'Bahia',\n",
       " 'RN': 'Rio Grande do Norte',\n",
       " 'AM': 'Amzonas',\n",
       " 'ES': None}"
      ]
     },
     "execution_count": 46,
     "metadata": {},
     "output_type": "execute_result"
    }
   ],
   "source": [
    "# Visualizando conteudo dic_estados\n",
    "dic_estados"
   ]
  },
  {
   "cell_type": "code",
   "execution_count": 47,
   "id": "63d47224-e1c2-478f-ab49-5538febbb19d",
   "metadata": {},
   "outputs": [
    {
     "data": {
      "text/plain": [
       "'Santa Catarina'"
      ]
     },
     "execution_count": 47,
     "metadata": {},
     "output_type": "execute_result"
    }
   ],
   "source": [
    "# Verificando o valorr associado à chave \"SC\" de dic_estdos\n",
    "# Como essa cahve não existe, ela é adicionada pelo metodo setdefault ao icionario\n",
    "# Nesse exemplo foi passado que o valor será \"Santa Catarina\"\n",
    "dic_estados.setdefault(\"SC\", \"Santa Catarina\")\n",
    "# Lembre-se de entender pq nesse exemplo o valor apareceu no terminal, mas no exemplo acima as chaves nao apareceram"
   ]
  },
  {
   "cell_type": "code",
   "execution_count": 48,
   "id": "01e7ee21-999f-4541-a83f-57f8c5a2b79b",
   "metadata": {},
   "outputs": [
    {
     "data": {
      "text/plain": [
       "{'MG': 'Minas Gerais',\n",
       " 'PR': 'Paraná',\n",
       " 'BA': 'Bahia',\n",
       " 'RN': 'Rio Grande do Norte',\n",
       " 'AM': 'Amzonas',\n",
       " 'ES': None,\n",
       " 'SC': 'Santa Catarina'}"
      ]
     },
     "execution_count": 48,
     "metadata": {},
     "output_type": "execute_result"
    }
   ],
   "source": [
    "# Visualizando o conteudo de dic_estados\n",
    "dic_estados"
   ]
  },
  {
   "cell_type": "markdown",
   "id": "1972157a-5a67-45de-b363-76a58c28502d",
   "metadata": {},
   "source": [
    "### 4.10 Update"
   ]
  },
  {
   "cell_type": "code",
   "execution_count": 49,
   "id": "abc2630c-0128-4a01-87c2-87fbec2b2835",
   "metadata": {},
   "outputs": [
    {
     "data": {
      "text/plain": [
       "{'MS': 'Mato Grosso do Sul', 'TO': 'Tocantis', 'GO': 'Goias'}"
      ]
     },
     "execution_count": 49,
     "metadata": {},
     "output_type": "execute_result"
    }
   ],
   "source": [
    "# Criando o dic_estados_centro_oeste \n",
    "dic_estados_centro_oeste = {\"MS\": \"Mato Grosso do Sul\", \"TO\": \"Tocantis\", \"GO\": \"Goias\"}\n",
    "dic_estados_centro_oeste"
   ]
  },
  {
   "cell_type": "code",
   "execution_count": 50,
   "id": "873654c8-d41f-443d-af23-67f4254262ae",
   "metadata": {},
   "outputs": [
    {
     "data": {
      "text/plain": [
       "{'MG': 'Minas Gerais',\n",
       " 'PR': 'Paraná',\n",
       " 'BA': 'Bahia',\n",
       " 'RN': 'Rio Grande do Norte',\n",
       " 'AM': 'Amzonas',\n",
       " 'ES': None,\n",
       " 'SC': 'Santa Catarina',\n",
       " 'MS': 'Mato Grosso do Sul',\n",
       " 'TO': 'Tocantis',\n",
       " 'GO': 'Goias'}"
      ]
     },
     "execution_count": 50,
     "metadata": {},
     "output_type": "execute_result"
    }
   ],
   "source": [
    "# Adicionando os Estados do dic_estados_centro_oeste ao dicionario dic_estados \n",
    "dic_estados.update(dic_estados_centro_oeste)\n",
    "dic_estados"
   ]
  },
  {
   "cell_type": "markdown",
   "id": "26b68c53-2aa2-40cb-9a94-1496a4d7e4a7",
   "metadata": {},
   "source": [
    "### 4.12 Values()"
   ]
  },
  {
   "cell_type": "code",
   "execution_count": 51,
   "id": "e30417ff-5e87-49a2-86c3-61b66c6f204c",
   "metadata": {},
   "outputs": [
    {
     "data": {
      "text/plain": [
       "dict_values(['Minas Gerais', 'Paraná', 'Bahia', 'Rio Grande do Norte', 'Amzonas', None, 'Santa Catarina', 'Mato Grosso do Sul', 'Tocantis', 'Goias'])"
      ]
     },
     "execution_count": 51,
     "metadata": {},
     "output_type": "execute_result"
    }
   ],
   "source": [
    "# Visualizando valores do dic_estados\n",
    "dic_estados.values()"
   ]
  }
 ],
 "metadata": {
  "kernelspec": {
   "display_name": "Python 3",
   "language": "python",
   "name": "python3"
  },
  "language_info": {
   "codemirror_mode": {
    "name": "ipython",
    "version": 3
   },
   "file_extension": ".py",
   "mimetype": "text/x-python",
   "name": "python",
   "nbconvert_exporter": "python",
   "pygments_lexer": "ipython3",
   "version": "3.12.1"
  }
 },
 "nbformat": 4,
 "nbformat_minor": 5
}
