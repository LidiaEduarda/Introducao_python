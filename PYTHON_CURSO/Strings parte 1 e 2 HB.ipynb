{
 "cells": [
  {
   "cell_type": "markdown",
   "id": "56e72180-cc95-4915-b22b-1730772ba955",
   "metadata": {},
   "source": [
    "# 3. Slicing (fatiamento) em strings"
   ]
  },
  {
   "cell_type": "code",
   "execution_count": 21,
   "id": "fe2b4e8b-7e62-4e44-84a6-fe6984abc2cc",
   "metadata": {},
   "outputs": [],
   "source": [
    "# Redefinindo a string s\n",
    "s = \"Jupyter Notebook\""
   ]
  },
  {
   "cell_type": "code",
   "execution_count": 22,
   "id": "96646483-9977-486a-b1f1-a59acc5beb78",
   "metadata": {},
   "outputs": [
    {
     "data": {
      "text/plain": [
       "'Jupyter'"
      ]
     },
     "execution_count": 22,
     "metadata": {},
     "output_type": "execute_result"
    }
   ],
   "source": [
    "# Retornando apenas a palavra Jupyter - 1a opção\n",
    "s[0:7] # Estamos acessando o string s a partir do índice 0 até o índice 6"
   ]
  },
  {
   "cell_type": "code",
   "execution_count": 25,
   "id": "e2268652-d0ed-41da-9c86-2546e206b993",
   "metadata": {},
   "outputs": [
    {
     "data": {
      "text/plain": [
       "'Jupyter'"
      ]
     },
     "execution_count": 25,
     "metadata": {},
     "output_type": "execute_result"
    }
   ],
   "source": [
    "# Retornando apenas a palavra Jupyter - 2a opção\n",
    "s[-16:-9] # Estamos acessando o string s a partir do índice -16 até o índice -10"
   ]
  },
  {
   "cell_type": "code",
   "execution_count": 28,
   "id": "547e088c-b505-4027-a7a9-835887276eeb",
   "metadata": {},
   "outputs": [
    {
     "data": {
      "text/plain": [
       "'Jupyter'"
      ]
     },
     "execution_count": 28,
     "metadata": {},
     "output_type": "execute_result"
    }
   ],
   "source": [
    "# Retornando apenas a palavra Jupyter - 3a opção\n",
    "s[:7] # Estamos acessando o string s a partir do início até o índice 6"
   ]
  },
  {
   "cell_type": "code",
   "execution_count": 29,
   "id": "4396918f-e94c-4629-9a78-5d70a6963b1e",
   "metadata": {},
   "outputs": [
    {
     "data": {
      "text/plain": [
       "'Jupyter'"
      ]
     },
     "execution_count": 29,
     "metadata": {},
     "output_type": "execute_result"
    }
   ],
   "source": [
    "# Retornando apenas a palavra Jupyter - 4a opção\n",
    "s[:-9] # Estamos acessando o string s a partir do início até o índice -10"
   ]
  },
  {
   "cell_type": "code",
   "execution_count": 30,
   "id": "20caac95-3011-410e-8c18-65f1fd0e304c",
   "metadata": {},
   "outputs": [
    {
     "data": {
      "text/plain": [
       "'Notebook'"
      ]
     },
     "execution_count": 30,
     "metadata": {},
     "output_type": "execute_result"
    }
   ],
   "source": [
    "# Retornando apenas a palavra Notebook - 1a opção\n",
    "s[8:16] # Estamos acessando o string s a partir do índice 8 até o índice 15"
   ]
  },
  {
   "cell_type": "code",
   "execution_count": 31,
   "id": "db5b5f8b-f44f-42fd-a33d-eb89e24e08bd",
   "metadata": {},
   "outputs": [
    {
     "data": {
      "text/plain": [
       "'Notebook'"
      ]
     },
     "execution_count": 31,
     "metadata": {},
     "output_type": "execute_result"
    }
   ],
   "source": [
    "# Retornando apenas a palavra Notebook - 2a opção\n",
    "s[-8:] # Estamos acessando o string s a partir do índice -16 até o índice -9"
   ]
  },
  {
   "cell_type": "code",
   "execution_count": 32,
   "id": "f9562f76-0c22-4804-815c-3856a94db8c1",
   "metadata": {},
   "outputs": [
    {
     "data": {
      "text/plain": [
       "'Notebook'"
      ]
     },
     "execution_count": 32,
     "metadata": {},
     "output_type": "execute_result"
    }
   ],
   "source": [
    "# Retornando apenas a palavra Notebook - 3a opção\n",
    "s[8:] # Estamos acessando o string s a partir do início até o índice 6"
   ]
  },
  {
   "cell_type": "code",
   "execution_count": 33,
   "id": "74983366-10df-4ebc-8488-72b1eee7dddb",
   "metadata": {},
   "outputs": [
    {
     "data": {
      "text/plain": [
       "'Jptr'"
      ]
     },
     "execution_count": 33,
     "metadata": {},
     "output_type": "execute_result"
    }
   ],
   "source": [
    "# Nós podemos acessar posições não contínuas\n",
    "s[0:7:2] # Serão acessados os caracteres armazenados nas posiçõs 0, 2, 4 e 6 (o incremento informado foi 2)"
   ]
  },
  {
   "cell_type": "code",
   "execution_count": 34,
   "id": "dfe5b3cc-be68-4dd7-881a-fcf73979b088",
   "metadata": {},
   "outputs": [
    {
     "data": {
      "text/plain": [
       "'Jyrobk'"
      ]
     },
     "execution_count": 34,
     "metadata": {},
     "output_type": "execute_result"
    }
   ],
   "source": [
    "# Serão acessadas os caracteres armazenados desde o início até o final, com incremento de 3 (posições 0,3,6,9,12,15)\n",
    "s[::3] "
   ]
  },
  {
   "cell_type": "code",
   "execution_count": 35,
   "id": "6c598241-41db-4565-a0d5-25b85ef6420d",
   "metadata": {},
   "outputs": [
    {
     "data": {
      "text/plain": [
       "'koobetoN retypuJ'"
      ]
     },
     "execution_count": 35,
     "metadata": {},
     "output_type": "execute_result"
    }
   ],
   "source": [
    "# Com incrementos negativos, podemos acessar o string em ordem invertida - 1a opçao\n",
    "s[-1::-1] # da posição -1 até o início, com incremento -1"
   ]
  },
  {
   "cell_type": "code",
   "execution_count": 36,
   "id": "5855e0ad-f766-4731-a1a1-dc968d488b28",
   "metadata": {},
   "outputs": [
    {
     "data": {
      "text/plain": [
       "'koobetoN retypuJ'"
      ]
     },
     "execution_count": 36,
     "metadata": {},
     "output_type": "execute_result"
    }
   ],
   "source": [
    "# Com incrementos negativos, podemos acessar o string em ordem invertida - 2a opçao\n",
    "s[-1:-17:-1] # da posição -1 até a posição -16, com incremento -1"
   ]
  },
  {
   "cell_type": "code",
   "execution_count": 37,
   "id": "d832f16e-f382-44ad-b9ca-6829f5480d56",
   "metadata": {},
   "outputs": [
    {
     "data": {
      "text/plain": [
       "'koobetoN retypuJ'"
      ]
     },
     "execution_count": 37,
     "metadata": {},
     "output_type": "execute_result"
    }
   ],
   "source": [
    "# Com incrementos negativos, podemos acessar o string em ordem invertida - 3a opçao\n",
    "s[16::-1] # da posição 16 até p início, com incremento -1"
   ]
  },
  {
   "cell_type": "code",
   "execution_count": 38,
   "id": "b9b94fac-1411-4845-b423-06024e4b8de6",
   "metadata": {},
   "outputs": [
    {
     "data": {
      "text/plain": [
       "'koobetoN retypuJ'"
      ]
     },
     "execution_count": 38,
     "metadata": {},
     "output_type": "execute_result"
    }
   ],
   "source": [
    "# Com incrementos negativos, podemos acessar o string em ordem invertida - 4a opçao\n",
    "s[::-1] # do final até o início, com incremento -1"
   ]
  },
  {
   "cell_type": "code",
   "execution_count": 39,
   "id": "9f817987-7cd5-4e36-bfa1-4368de6617d5",
   "metadata": {},
   "outputs": [
    {
     "name": "stdout",
     "output_type": "stream",
     "text": [
      "\n",
      "P\n",
      "Py\n",
      "Pyt\n",
      "Pyth\n",
      "Pytho\n",
      "Python\n",
      "Python\n"
     ]
    }
   ],
   "source": [
    "# Acessando partes do string, a partir do início\n",
    "p = \"Python\"\n",
    "print(p[:0]) # ''\n",
    "print(p[:1]) # 'P'\n",
    "print(p[:2]) # 'Py'\n",
    "print(p[:3]) # 'Pyt'\n",
    "print(p[:4]) # 'Pyth'\n",
    "print(p[:5]) # 'Pytho'\n",
    "print(p[:6]) # 'Python'\n",
    "print(p[:])  # 'Python'"
   ]
  },
  {
   "cell_type": "code",
   "execution_count": 40,
   "id": "4d7e0aa4-0806-4d68-bb2a-95d735c93172",
   "metadata": {},
   "outputs": [
    {
     "name": "stdout",
     "output_type": "stream",
     "text": [
      "P\n",
      "Py\n",
      "Pyt\n",
      "Pyth\n",
      "Pytho\n",
      "Python\n",
      "Python\n"
     ]
    }
   ],
   "source": [
    "print(p[0:1]) # 'P'\n",
    "print(p[0:2]) # 'Py'\n",
    "print(p[0:3]) # 'Pyt'\n",
    "print(p[0:4]) # 'Pyth'\n",
    "print(p[0:5]) # 'Pytho'\n",
    "print(p[0:6]) # 'Python'\n",
    "print(p[0:])  # 'Python'"
   ]
  },
  {
   "cell_type": "code",
   "execution_count": 41,
   "id": "513b12ed-1e80-4654-bde4-d3db89349a93",
   "metadata": {},
   "outputs": [
    {
     "name": "stdout",
     "output_type": "stream",
     "text": [
      "Python\n",
      "Python\n",
      "ython\n",
      "thon\n",
      "hon\n",
      "on\n",
      "n\n",
      "\n"
     ]
    }
   ],
   "source": [
    "# Acessando partes do string, de uma posição qualquer até o final\n",
    "print(p[:])  # 'Python'\n",
    "print(p[0:]) # 'Python'\n",
    "print(p[1:]) # 'ython'\n",
    "print(p[2:]) # 'thon'\n",
    "print(p[3:]) # 'hon'\n",
    "print(p[4:]) # 'on'\n",
    "print(p[5:]) # 'n'\n",
    "print(p[6:]) # ''"
   ]
  },
  {
   "cell_type": "markdown",
   "id": "38d4306e-3964-4e71-9b07-adcd1f696432",
   "metadata": {},
   "source": [
    "# 4. Operadores aplicados a strings\n"
   ]
  },
  {
   "cell_type": "markdown",
   "id": "4a1d40f2-fc48-442c-a8f5-415cf7a44994",
   "metadata": {},
   "source": [
    "| Operador | Significado   | Exemplo                    |\n",
    "|:---|:---|:---|\n",
    "| s\\[ind\\] | Acesso a uma posição | `s[0]` |\n",
    "| s\\[i:f\\] | Acesso a uma faixa de posições | `s[1:3]` |\n",
    "| s\\[i:f:inc\\] | Acesso a uma faixa de posições com incremento | `s[0:15:3]` |\n",
    "| s1 + s2 | Concatenação de strings | `novastr = s1 + s2` |\n",
    "| s\\*n | Retorna um string contendo n repetições de s | `s = 'ABC'*10` |\n",
    "| s1 in s2 | Retorna True se o substring *s1* está contido em *s2* | `'ABC' in 'ABCDEFGH'` |\n",
    "| s1 not in s2 | Retorna True se o substring *s1* não está contido em *s2* | `'XYZ' not in 'ABCDEFGH'` |"
   ]
  },
  {
   "cell_type": "code",
   "execution_count": 42,
   "id": "3564ec4a-2400-487d-b74a-358df2d4363b",
   "metadata": {},
   "outputs": [
    {
     "name": "stdout",
     "output_type": "stream",
     "text": [
      "A\n",
      "linguagem\n",
      "!siamed é nohtyP megaugnil A\n",
      "A linguagem Python é demais! Sensacional!!!\n",
      "PythonPythonPython\n",
      "O substring 'Python' está contindo em 'A linguagem Python é demais!' => True\n",
      "O substring 'PythonPythonPython' não está contindo em 'A linguagem Python é demais! Sensacional!!!' => True\n"
     ]
    }
   ],
   "source": [
    "s = \"A linguagem Python é demais!\"\n",
    "s1 = \"Python\"\n",
    "print(s[0])  # \"A\"\n",
    "print(s[2:11]) # \"linguagem\"\n",
    "print(s[::-1]) # \"\"!siamed é nohtyP megaugnil A\"\n",
    "s2 = s + \" Sensacional!!!\" # Concatenação\n",
    "print(s2)\n",
    "s3 = s1*3 # Concatenando o string s1 3 vezes\n",
    "print(s3)\n",
    "print(\"O substring '{}' está contindo em '{}' => {}\".format(s1, s, s1 in s))\n",
    "print(\"O substring '{}' não está contindo em '{}' => {}\".format(s3, s2, s3 not in s2))"
   ]
  },
  {
   "cell_type": "markdown",
   "id": "b00a20d6-a6d1-43af-be0e-bc0518a252b7",
   "metadata": {},
   "source": [
    "# 6. Métodos do objeto String\n",
    "\n",
    "| Método | Descrição | Exemplo |\n",
    "|:------------|:---------------------------------------------------------------------------------------------|:--------------|\n",
    "| [capitalize()](https://www.programiz.com/python-programming/methods/string/capitalize) | Retorna uma cópia da string com primeiro caractere maiúsculo e os caracteres restantes em minúsculo | `s.capitalize()`|\n",
    "| [casefold()](https://www.programiz.com/python-programming/methods/string/casefold) | Retorna uma cópia da string convertido para letras minúsculas | `s.casefold()` |\n",
    "| [center()](https://www.programiz.com/python-programming/methods/string/center) | Retorna uma cópia da string centralizada e preenchida com o caractere especificado (*default* = espaço em branco) | `s.center(20)` |\n",
    "| [center()](https://www.programiz.com/python-programming/methods/string/center) | Retorna uma cópia da string centralizada e preenchida com o caractere especificado (*default* = espaço em branco) | `s.center(20, '*')` |\n",
    "| [count()](https://www.programiz.com/python-programming/methods/string/count) | Retorna o número de ocorrências de um determinado substring | `s.count('abc')` |\n",
    "| [encode()](https://www.programiz.com/python-programming/methods/string/encode) | Retorna uma cópia da string utilizando um determinando *encoding* (*default* = UTF-8)| `s.encode()`|\n",
    "| [endswith()](https://www.programiz.com/python-programming/methods/string/endswith) | Retorna `True` se uma string terminar com o sufixo especificado | `s.endswith(\"python\")` |\n",
    "| [expandtabs()](https://www.programiz.com/python-programming/methods/string/expandtabs) | Retorna uma cópia da string no qual os caracteres de tabulação `\\t` são substituídos por caracteres de espaço em branco | s.expandtabs(3)\n",
    "| [find()](https://www.programiz.com/python-programming/methods/string/find) | Retorna o índice da primeira ocorrência da substring. Se não encontrado, retorna -1 | `s.find('python')` |\n",
    "| [format()](https://www.programiz.com/python-programming/methods/string/format) | Formata a string de entrada em uma string de saída | `\"{} é {}\".format(\"Python\", \"demais!\")` |\n",
    "| [index()](https://www.programiz.com/python-programming/methods/string/index) | Retorna o índice da primeira ocorrência de uma substring dentro da string. Se a substring não for encontrada, levanta uma exceção | `s.index('python')`|\n",
    "| [isalnum()](https://www.programiz.com/python-programming/methods/string/isalnum) | Retorna `True` se todos os caracteres na string forem alfanuméricos (letras ou números) | `s.isalnum()`|\n",
    "| [isalpha()](https://www.programiz.com/python-programming/methods/string/isalpha) | Retorna `True` se a string tiver apenas letras |`s.isalpha()`|\n",
    "| isascii() | Retorna True se todos os caracteres na string forem ASCII | `s.isascii()`|\n",
    "| [isdecimal()](https://www.programiz.com/python-programming/methods/string/isdecimal) | Retorna `True` se todos os caracteres na string forem decimais (0 a 9) | `s.isdecimal()` |\n",
    "| [isdigit()](https://www.programiz.com/python-programming/methods/string/isdigit) | Retorna `True` se todos os caracteres na string forem dígitos (ex: 3²) | `s.isdigit()`|\n",
    "| [isidentifier()](https://www.programiz.com/python-programming/methods/string/isidentifier) | Retorna `True` se a string for um identificador válido em Python | `s.isidentifier()`|\n",
    "| [islower()](https://www.programiz.com/python-programming/methods/string/islower) | Retorna `True` se todos as letras da string forem letras minúsculas | `s.islower()` |\n",
    "| [isnumeric()](https://www.programiz.com/python-programming/methods/string/isnumeric) | Retorna `True` se todos os caracteres na string forem numéricos (ex: ½) | `s.isnumeric()`|\n",
    "| [isprintable()](https://www.programiz.com/python-programming/methods/string/isprintable) | Retorna `True` se todos os caracteres da string podem ser impressos | `s.isprintable()`|\n",
    "| [isspace()](https://www.programiz.com/python-programming/methods/string/isspace) | Retorna `True` se houverem apenas espaços em branco na string | `s.isspace()` |\n",
    "| [istitle()](https://www.programiz.com/python-programming/methods/string/istitle) | Retorna `True` se a string estiver em formato de *título*, ou seja, se cada palavra da string começa com letra maiúscula e tem o restante das letras minúsculas | `s.istitle()`|\n",
    "| [isupper()](https://www.programiz.com/python-programming/methods/string/isupper) | Retorna `True` se todos as letras do string forem letras maiúsculas | `s.isupper()` |\n",
    "| [ljust()](https://www.programiz.com/python-programming/methods/string/ljust) | Retorna uma cópia da string justificada à esquerda| `s.ljust(20)`|\n",
    "| [lower()](https://www.programiz.com/python-programming/methods/string/lower) | Retorna uma cópia da string com as letras maiúsculas convertidas em minúsculas | `s.lower()`|\n",
    "| [lstrip()](https://www.programiz.com/python-programming/methods/string/lstrip) | Retorna uma cópia da string com os caracteres passados por parâmetro removidos do início da string | `s.lstrip(' *@')` |\n",
    "| [partition()](https://www.programiz.com/python-programming/methods/string/partition) | Divide a string e retorna uma tupla contendo a parte antes do separador (primeira ocorrência), a string de argumento (separador) e a parte após o separador | `s.partition('@')`|\n",
    "| [replace()](https://www.programiz.com/python-programming/methods/string/replace) | Retorna uma cópia da string onde todas as ocorrências de uma substring são substituídas por outra | `s.partition('@',' at ')`|\n",
    "| [rfind()](https://www.programiz.com/python-programming/methods/string/rfind) | Retorna o índice da última ocorrência da substring. Se não encontrado, retorna -1 | `s.rfind('python')` |\n",
    "| [rindex()](https://www.programiz.com/python-programming/methods/string/rindex) | Retorna o índice da última ocorrência da substring dentro da string. Se a substring não for encontrada, levanta uma exceção | `s.rindex('python')`|\n",
    "| [rjust()](https://www.programiz.com/python-programming/methods/string/rjust) | Retorna uma cópia da string justificada à direita | `s.rjust(20)`|\n",
    "| [rpartition()](https://www.programiz.com/python-programming/methods/string/partition) | Divide a string e retorna uma tupla contendo a parte antes do separador (última ocorrência), a string de argumento (separador) e a parte após o separador | `s.rpartition('@')`|\n",
    "| [rsplit()](https://www.programiz.com/python-programming/methods/string/rsplit) | Divide a string à partir da direita (última posição), usando um separador passado por parâmetro, e retorna uma lista de strings| `s.rsplit(';')`|\n",
    "| [rstrip()](https://www.programiz.com/python-programming/methods/string/rstrip) | Retorna uma cópia da string com os caracteres passados por parâmetro removidos do final da string | `s.rstrip('!?.')` |\n",
    "| [split()](https://www.programiz.com/python-programming/methods/string/split) | Divide a string à partir da esquerda (primeira posição), usando um separador passado por parâmetro, e retorna uma lista de strings| `s.split(';')`|\n",
    "| [splitlines()](https://www.programiz.com/python-programming/methods/string/splitlines) | Divide e retorna as linhas contidas em uma string  | `s.splitlines()`|\n",
    "| [starstwith()](https://www.programiz.com/python-programming/methods/string/startswith) | Retorna `True` se uma string começar com o prefixo especificado | `s.starstwith(\"Python\")` |\n",
    "| [strip()](https://www.programiz.com/python-programming/methods/string/strip) | Retorna uma cópia da string com os caracteres passados por parâmetro removidos do início e do final da string | `s.strip(' *@')` |\n",
    "| [swapcase()](https://www.w3schools.com/python/ref_string_swapcase.asp) | Retorna uma cópia da string com letras minúsculas convertidas em maiúsculas e vice-versa | `s.swapcase()`|\n",
    "| [title()](https://www.programiz.com/python-programming/methods/string/title) | Retorna uma cópia da string com a primeira letra de cada palavra convertida para maiúscula | `s.title()` |\n",
    "| [upper()](https://www.programiz.com/python-programming/methods/string/upper) | Retorna uma cópia da string com as letras minúsculas convertidas em maiúsculas | `s.upper()`|\n",
    "| [zfill()](https://www.programiz.com/python-programming/methods/string/zfill) | Retorna uma cópia da string preenchida com 0s (zeros) à esquerda | `s.zfill(8)`|"
   ]
  },
  {
   "cell_type": "markdown",
   "id": "6b980df9-1c86-465f-aac9-3a5cdc0d848f",
   "metadata": {},
   "source": [
    "### Exemplo do método capitalize()"
   ]
  },
  {
   "cell_type": "code",
   "execution_count": 20,
   "id": "72a9fa60-3122-4447-a6a1-354f395666f9",
   "metadata": {},
   "outputs": [
    {
     "data": {
      "text/plain": [
       "'A linguagem python é demais!'"
      ]
     },
     "execution_count": 20,
     "metadata": {},
     "output_type": "execute_result"
    }
   ],
   "source": [
    "# .capilalize() - Retorna uma cópia da string com primeiro caractere maiúsculo e os caracteres restantes em minúsculo\n",
    "s = \"a linguagem python é demais!\"\n",
    "s.capitalize()"
   ]
  },
  {
   "cell_type": "code",
   "execution_count": 46,
   "id": "2a034a15-8aad-4588-a136-e12bbfb11e0e",
   "metadata": {},
   "outputs": [
    {
     "data": {
      "text/plain": [
       "'a linguagem python é demais!'"
      ]
     },
     "execution_count": 46,
     "metadata": {},
     "output_type": "execute_result"
    }
   ],
   "source": [
    "# Importante ressaltar que a string s não foi alterada\n",
    "s"
   ]
  },
  {
   "cell_type": "code",
   "execution_count": 48,
   "id": "732fc457-f574-41e0-94d2-1ba29add4876",
   "metadata": {},
   "outputs": [
    {
     "data": {
      "text/plain": [
       "'A linguagem python é demais!'"
      ]
     },
     "execution_count": 48,
     "metadata": {},
     "output_type": "execute_result"
    }
   ],
   "source": [
    "# Associando o resultado de s em uma nova vriavel s1\n",
    "s1 = s.capitalize()\n",
    "s1"
   ]
  },
  {
   "cell_type": "markdown",
   "id": "8a78f1a9-ce2b-4054-b09a-292ef2cca18f",
   "metadata": {},
   "source": [
    "###  Exemplo dos métodos casefold(),  lower() e upper()"
   ]
  },
  {
   "cell_type": "code",
   "execution_count": 50,
   "id": "6e1fe577-921b-422b-b23f-304e8302cc22",
   "metadata": {},
   "outputs": [
    {
     "data": {
      "text/plain": [
       "'abcdef'"
      ]
     },
     "execution_count": 50,
     "metadata": {},
     "output_type": "execute_result"
    }
   ],
   "source": [
    "# .cansefold() - Retorna uma cópia da string convertido para letras minúsculas \n",
    "s = \"AbCdEf\"\n",
    "s1 = s.casefold()\n",
    "s1"
   ]
  },
  {
   "cell_type": "code",
   "execution_count": 52,
   "id": "99e232b8-5907-4894-a72c-2bcc7c292685",
   "metadata": {},
   "outputs": [
    {
     "data": {
      "text/plain": [
       "'abcdef'"
      ]
     },
     "execution_count": 52,
     "metadata": {},
     "output_type": "execute_result"
    }
   ],
   "source": [
    "# .lower() - Retorna uma cópia da string com as letras maiúsculas convertidas em minúsculas \n",
    "s2 = s.lower()\n",
    "s2"
   ]
  },
  {
   "cell_type": "code",
   "execution_count": 21,
   "id": "1906b355-efca-4b56-bc60-306a5d818f9b",
   "metadata": {},
   "outputs": [
    {
     "data": {
      "text/plain": [
       "'LIDIA EDUARDA'"
      ]
     },
     "execution_count": 21,
     "metadata": {},
     "output_type": "execute_result"
    }
   ],
   "source": [
    "# .upper() - Retorna uma cópia da string com as letras minúsculas convertidas em maiúsculas\n",
    "s = \"lidia eduarda\"\n",
    "s3 = s.upper()\n",
    "s3"
   ]
  },
  {
   "cell_type": "code",
   "execution_count": 7,
   "id": "bb3c9b86-6e1e-4280-9dbb-59d956ac2751",
   "metadata": {},
   "outputs": [
    {
     "data": {
      "text/plain": [
       "'der fluss'"
      ]
     },
     "execution_count": 7,
     "metadata": {},
     "output_type": "execute_result"
    }
   ],
   "source": [
    "# casefold() é mais agressivo em sua conversão se comparado ao lower()\n",
    "# Nesse exemplo a palavra \"Der FluB\" é em alemã e casefold traduz o B COMO SS\n",
    "# Associando o resultado de s4 a uma nova variavel s5\n",
    "s4 = \"Der Fluß\"\n",
    "s5 = s4.casefold()\n",
    "s5"
   ]
  },
  {
   "cell_type": "code",
   "execution_count": 55,
   "id": "73489942-d4ef-47c0-b056-6e956b80bb8b",
   "metadata": {},
   "outputs": [
    {
     "data": {
      "text/plain": [
       "'der fluß'"
      ]
     },
     "execution_count": 55,
     "metadata": {},
     "output_type": "execute_result"
    }
   ],
   "source": [
    "# Enquanto .lower() deixa a letra do mesmo jeio pois não sabe o que significa\n",
    "# Associando o resultado de s4 para uma nova variavel s6\n",
    "s6 = s4.lower()\n",
    "s6"
   ]
  },
  {
   "cell_type": "markdown",
   "id": "2c6c589b-d6f6-415a-9ca6-4d275647e850",
   "metadata": {},
   "source": [
    "### Exemplo do metodo center()"
   ]
  },
  {
   "cell_type": "code",
   "execution_count": 17,
   "id": "fba6145a-141e-4a55-bef7-21b451f1d594",
   "metadata": {},
   "outputs": [
    {
     "data": {
      "text/plain": [
       "'       Python       '"
      ]
     },
     "execution_count": 17,
     "metadata": {},
     "output_type": "execute_result"
    }
   ],
   "source": [
    "# .center() - Centraliza o texto \n",
    "s = \"Python\" \n",
    "s1 = s.center(20) \n",
    "s1"
   ]
  },
  {
   "cell_type": "code",
   "execution_count": 18,
   "id": "21c24fc3-6bee-4b9f-a764-8b2a7a10d7b0",
   "metadata": {},
   "outputs": [
    {
     "data": {
      "text/plain": [
       "'*******Python*******'"
      ]
     },
     "execution_count": 18,
     "metadata": {},
     "output_type": "execute_result"
    }
   ],
   "source": [
    "s2 = s.center(20, \"*\") # Centralizar s em um string de tamanho 20 - completa com espaços a esquerda e direita\n",
    "s2"
   ]
  },
  {
   "cell_type": "markdown",
   "id": "de9e9edc-0889-4758-846a-2d519edb0484",
   "metadata": {},
   "source": [
    "### Exemplo do método count()"
   ]
  },
  {
   "cell_type": "code",
   "execution_count": 49,
   "id": "d4569f75-bd94-4290-8122-5c504dca24b8",
   "metadata": {},
   "outputs": [
    {
     "data": {
      "text/plain": [
       "2"
      ]
     },
     "execution_count": 49,
     "metadata": {},
     "output_type": "execute_result"
    }
   ],
   "source": [
    "# .count() - Retorna o número de ocorrências de um determinado substring\n",
    "s = \"A linguagem Python é demais!\"\n",
    "s.count(\"a\")"
   ]
  },
  {
   "cell_type": "code",
   "execution_count": 50,
   "id": "1bffbcf1-264d-4755-a0f9-86bd3eda5a1c",
   "metadata": {},
   "outputs": [
    {
     "data": {
      "text/plain": [
       "1"
      ]
     },
     "execution_count": 50,
     "metadata": {},
     "output_type": "execute_result"
    }
   ],
   "source": [
    "s.count(\"A\")"
   ]
  },
  {
   "cell_type": "code",
   "execution_count": 51,
   "id": "c2ae3f4e-7309-4f5c-ae2d-552ddd241d0d",
   "metadata": {},
   "outputs": [
    {
     "data": {
      "text/plain": [
       "0"
      ]
     },
     "execution_count": 51,
     "metadata": {},
     "output_type": "execute_result"
    }
   ],
   "source": [
    "s.count(\"b\")"
   ]
  },
  {
   "cell_type": "code",
   "execution_count": 52,
   "id": "96ca16aa-4cf3-4e55-b891-cce087558bec",
   "metadata": {},
   "outputs": [
    {
     "data": {
      "text/plain": [
       "1"
      ]
     },
     "execution_count": 52,
     "metadata": {},
     "output_type": "execute_result"
    }
   ],
   "source": [
    "s.count(\"demais\")"
   ]
  },
  {
   "cell_type": "markdown",
   "id": "5e5ac919-48c1-491a-b0bf-ce4b277846e4",
   "metadata": {},
   "source": [
    "### Exemplo do método encode()"
   ]
  },
  {
   "cell_type": "code",
   "execution_count": 54,
   "id": "8f56c264-76d1-41fe-970e-26ebf816b10b",
   "metadata": {},
   "outputs": [
    {
     "data": {
      "text/plain": [
       "b'M\\xd0\\xbe\\xd0\\xb5\\xd1\\x82\\xd0\\xbe \\xd0\\xb8\\xd0\\xbc\\xd0\\xb5 \\xd0\\xb5 P\\xc3\\xa4ivi'"
      ]
     },
     "execution_count": 54,
     "metadata": {},
     "output_type": "execute_result"
    }
   ],
   "source": [
    "# Retorna uma cópia da string utilizando um determinando *encoding* (*default* = UTF-8)\n",
    "s = \"Mоето име е Päivi\"\n",
    "s1 = s.encode() # Codifica usando o UTF-8 por padrão\n",
    "s1"
   ]
  },
  {
   "cell_type": "markdown",
   "id": "4367baf5-8a41-4559-a715-6f55375b8e69",
   "metadata": {},
   "source": [
    "### Exemplo dos metodos endswith() e startswith()"
   ]
  },
  {
   "cell_type": "code",
   "execution_count": 26,
   "id": "c857a704-98fe-46c0-859c-08c815d90483",
   "metadata": {},
   "outputs": [
    {
     "data": {
      "text/plain": [
       "False"
      ]
     },
     "execution_count": 26,
     "metadata": {},
     "output_type": "execute_result"
    }
   ],
   "source": [
    "# .endswith() - Retorna `True` se uma string terminar com o sufixo especificado\n",
    "s = \"A linguagem Python é demais!\"\n",
    "s.endswith(\"demais\") # O resultado tem que retornar False porque a string termina com (demais!) e não (demais)"
   ]
  },
  {
   "cell_type": "code",
   "execution_count": 27,
   "id": "94b926cb-c13f-4f95-b29a-9cdc8b3883c8",
   "metadata": {},
   "outputs": [
    {
     "data": {
      "text/plain": [
       "True"
      ]
     },
     "execution_count": 27,
     "metadata": {},
     "output_type": "execute_result"
    }
   ],
   "source": [
    "# Agora o resultado tem que retornar True porque o final termina com (demais!)\n",
    "s.endswith(\"demais!\")"
   ]
  },
  {
   "cell_type": "code",
   "execution_count": 30,
   "id": "072aa276-ec26-4543-ac5f-9e441eff6a8f",
   "metadata": {},
   "outputs": [
    {
     "data": {
      "text/plain": [
       "True"
      ]
     },
     "execution_count": 30,
     "metadata": {},
     "output_type": "execute_result"
    }
   ],
   "source": [
    "s.endswith(\"demais!\", 12) # True - Verifica se o substring a partir da posição 12 irá terminar com \"demais!\""
   ]
  },
  {
   "cell_type": "code",
   "execution_count": 36,
   "id": "c5edf2d5-90a5-435f-aa93-9d96f22667ed",
   "metadata": {},
   "outputs": [
    {
     "data": {
      "text/plain": [
       "True"
      ]
     },
     "execution_count": 36,
     "metadata": {},
     "output_type": "execute_result"
    }
   ],
   "source": [
    "s.endswith(\"Python\", 2, 18) # True "
   ]
  },
  {
   "cell_type": "code",
   "execution_count": null,
   "id": "5aed468c-a9b2-4612-91a8-cd2723f3f5fe",
   "metadata": {},
   "outputs": [],
   "source": [
    "# .startswith() - Retorna `True` se uma string começar com o prefixo especificado"
   ]
  },
  {
   "cell_type": "code",
   "execution_count": 37,
   "id": "041696a1-ffbe-475d-8a64-17111423ec50",
   "metadata": {},
   "outputs": [
    {
     "data": {
      "text/plain": [
       "True"
      ]
     },
     "execution_count": 37,
     "metadata": {},
     "output_type": "execute_result"
    }
   ],
   "source": [
    "s.startswith(\"A l\") # True"
   ]
  },
  {
   "cell_type": "code",
   "execution_count": 38,
   "id": "e1898455-2275-4044-bf6b-9f0a6f725d58",
   "metadata": {},
   "outputs": [
    {
     "data": {
      "text/plain": [
       "False"
      ]
     },
     "execution_count": 38,
     "metadata": {},
     "output_type": "execute_result"
    }
   ],
   "source": [
    "s.startswith(\"Python\") # False"
   ]
  },
  {
   "cell_type": "code",
   "execution_count": 43,
   "id": "35be7204-db05-423f-8f3c-e80b242e8469",
   "metadata": {},
   "outputs": [
    {
     "data": {
      "text/plain": [
       "True"
      ]
     },
     "execution_count": 43,
     "metadata": {},
     "output_type": "execute_result"
    }
   ],
   "source": [
    "s.startswith(\"Python\", 12) # True"
   ]
  },
  {
   "cell_type": "markdown",
   "id": "bb43996f-c530-40fe-b770-a92c3cf7f8df",
   "metadata": {},
   "source": [
    "### Exemplo do metodo Expandtabs()"
   ]
  },
  {
   "cell_type": "code",
   "execution_count": 56,
   "id": "583df7dc-61eb-428f-862f-271f888f821c",
   "metadata": {},
   "outputs": [
    {
     "name": "stdout",
     "output_type": "stream",
     "text": [
      "col1\tcol2\tcol3\n"
     ]
    }
   ],
   "source": [
    "# .expandtabs() - Retorna uma cópia da string no qual os caracteres de tabulação `\\t` são substituídos por caracteres de espaço em branco\n",
    "s = \"col1\\tcol2\\tcol3\"\n",
    "print(s)"
   ]
  },
  {
   "cell_type": "code",
   "execution_count": 57,
   "id": "d461eee9-6435-4753-acc7-d60effc9d3ab",
   "metadata": {},
   "outputs": [
    {
     "name": "stdout",
     "output_type": "stream",
     "text": [
      "col1    col2    col3\n"
     ]
    }
   ],
   "source": [
    "s1 = s.expandtabs() # Substitui as tabulações por espaços (default = 8)\n",
    "print(s1)"
   ]
  },
  {
   "cell_type": "code",
   "execution_count": 58,
   "id": "92a354d0-f704-4493-800f-281045792efc",
   "metadata": {},
   "outputs": [
    {
     "name": "stdout",
     "output_type": "stream",
     "text": [
      "Tabsize =  5 col1 col2 col3\n",
      "Tabsize =  6 col1  col2  col3\n",
      "Tabsize =  7 col1   col2   col3\n",
      "Tabsize =  8 col1    col2    col3\n",
      "Tabsize =  9 col1     col2     col3\n",
      "Tabsize = 10 col1      col2      col3\n"
     ]
    }
   ],
   "source": [
    "# Passando a quantidade de tabulacoes que quero\n",
    "print(\"Tabsize =  5\",s.expandtabs(5))\n",
    "print(\"Tabsize =  6\",s.expandtabs(6))\n",
    "print(\"Tabsize =  7\",s.expandtabs(7))\n",
    "print(\"Tabsize =  8\",s.expandtabs())\n",
    "print(\"Tabsize =  9\",s.expandtabs(9))\n",
    "print(\"Tabsize = 10\",s.expandtabs(10))"
   ]
  },
  {
   "cell_type": "markdown",
   "id": "8c2fc9d5-0f5f-4b19-a5a5-eb77b2784d6a",
   "metadata": {},
   "source": [
    "### Exemplo dos métodos find(), rfind(), index() e rindex()"
   ]
  },
  {
   "cell_type": "code",
   "execution_count": 59,
   "id": "cb5a1ad6-baa5-434a-bdad-f7c4e4aa8f00",
   "metadata": {},
   "outputs": [
    {
     "data": {
      "text/plain": [
       "12"
      ]
     },
     "execution_count": 59,
     "metadata": {},
     "output_type": "execute_result"
    }
   ],
   "source": [
    "# .find() - Retorna o índice da primeira ocorrência da substring. Se não encontrado, retorna -1 \n",
    "s = \"A linguagem Python é demais! Python é sensacional.\"\n",
    "s.find(\"Python\") # Procura pelo substring \"Python\" no string s usando o método find()"
   ]
  },
  {
   "cell_type": "code",
   "execution_count": 60,
   "id": "94ada862-d33d-413d-ae04-4e732a8a60d1",
   "metadata": {},
   "outputs": [
    {
     "data": {
      "text/plain": [
       "29"
      ]
     },
     "execution_count": 60,
     "metadata": {},
     "output_type": "execute_result"
    }
   ],
   "source": [
    "# .rfind() - Retorna o índice da última ocorrência da substring. Se não encontrado, retorna -1 \n",
    "s.rfind(\"Python\") # Procura pelo substring \"Python\" no string s usando o método rfind()"
   ]
  },
  {
   "cell_type": "code",
   "execution_count": 61,
   "id": "3ff5fd6e-d3e4-459d-8305-686bae7888b4",
   "metadata": {},
   "outputs": [
    {
     "data": {
      "text/plain": [
       "12"
      ]
     },
     "execution_count": 61,
     "metadata": {},
     "output_type": "execute_result"
    }
   ],
   "source": [
    "# . index() - Retorna o índice da primeira ocorrência de uma substring dentro da string. Se a substring não for encontrada, levanta uma exceção\n",
    "s.index(\"Python\") # Procura pelo substring \"Python\" no string s usando o método index()"
   ]
  },
  {
   "cell_type": "code",
   "execution_count": 62,
   "id": "706e6fc1-1414-4e46-b117-1cf2ce08eeda",
   "metadata": {},
   "outputs": [
    {
     "data": {
      "text/plain": [
       "29"
      ]
     },
     "execution_count": 62,
     "metadata": {},
     "output_type": "execute_result"
    }
   ],
   "source": [
    "# .rindex() - Retorna o índice da última ocorrência da substring dentro da string. Se a substring não for encontrada, levanta uma exceção\n",
    "s.rindex(\"Python\") # Procura pelo substring \"Python\" no string s usando o método rindex()"
   ]
  },
  {
   "cell_type": "code",
   "execution_count": 63,
   "id": "e1cefcc7-f5a4-4bb2-87ca-b264f0ca6737",
   "metadata": {},
   "outputs": [
    {
     "data": {
      "text/plain": [
       "-1"
      ]
     },
     "execution_count": 63,
     "metadata": {},
     "output_type": "execute_result"
    }
   ],
   "source": [
    "s.find(\"python\") # Procura pelo substring que não existe \"python\" no string s usando o método find()"
   ]
  },
  {
   "cell_type": "code",
   "execution_count": 64,
   "id": "1bd05f60-5a50-4144-9536-fab75275c2da",
   "metadata": {},
   "outputs": [
    {
     "data": {
      "text/plain": [
       "-1"
      ]
     },
     "execution_count": 64,
     "metadata": {},
     "output_type": "execute_result"
    }
   ],
   "source": [
    "s.rfind(\"python\") # Procura pelo substring que não existe  \"python\" no string s usando o método rfind()"
   ]
  },
  {
   "cell_type": "code",
   "execution_count": 73,
   "id": "61f1482a-b9d9-4a42-aefc-fc1e5d8cea8b",
   "metadata": {},
   "outputs": [
    {
     "ename": "ValueError",
     "evalue": "substring not found",
     "output_type": "error",
     "traceback": [
      "\u001b[0;31m---------------------------------------------------------------------------\u001b[0m",
      "\u001b[0;31mValueError\u001b[0m                                Traceback (most recent call last)",
      "Cell \u001b[0;32mIn[73], line 1\u001b[0m\n\u001b[0;32m----> 1\u001b[0m s\u001b[38;5;241m.\u001b[39mindex(\u001b[38;5;124m\"\u001b[39m\u001b[38;5;124mpython\u001b[39m\u001b[38;5;124m\"\u001b[39m)\n",
      "\u001b[0;31mValueError\u001b[0m: substring not found"
     ]
    }
   ],
   "source": [
    " s.index(\"python\") # Procura pelo substring que não existe \"python\" no string s usando o método index() - msg erro\n"
   ]
  },
  {
   "cell_type": "code",
   "execution_count": 74,
   "id": "b0695087-9ce8-49a1-9ff7-2faf37914780",
   "metadata": {},
   "outputs": [
    {
     "ename": "ValueError",
     "evalue": "substring not found",
     "output_type": "error",
     "traceback": [
      "\u001b[0;31m---------------------------------------------------------------------------\u001b[0m",
      "\u001b[0;31mValueError\u001b[0m                                Traceback (most recent call last)",
      "Cell \u001b[0;32mIn[74], line 1\u001b[0m\n\u001b[0;32m----> 1\u001b[0m s\u001b[38;5;241m.\u001b[39mrindex(\u001b[38;5;124m\"\u001b[39m\u001b[38;5;124mpython\u001b[39m\u001b[38;5;124m\"\u001b[39m)\n",
      "\u001b[0;31mValueError\u001b[0m: substring not found"
     ]
    }
   ],
   "source": [
    " s.rindex(\"python\") # Procura pelo substring \"python\" no string s usando o método rindex() - msg de erro"
   ]
  },
  {
   "cell_type": "code",
   "execution_count": 75,
   "id": "620e412a-db1d-45d1-9392-e9ade47858a7",
   "metadata": {},
   "outputs": [
    {
     "data": {
      "text/plain": [
       "24"
      ]
     },
     "execution_count": 75,
     "metadata": {},
     "output_type": "execute_result"
    }
   ],
   "source": [
    "s1 = \"Olá! Este é um exemplo. Este é outro exemplo.\"\n",
    "s1.find(\"Este\", 15) # Procura pelo substring \"Este\" no string s, a partir do índice 15 usando o método find() - Como apartir do indice 15 ainda se encontra a palavra ESTE ele etorna a posicao dela que é 24"
   ]
  },
  {
   "cell_type": "code",
   "execution_count": 77,
   "id": "44224614-bc59-4555-ab69-672bc678af07",
   "metadata": {},
   "outputs": [
    {
     "data": {
      "text/plain": [
       "24"
      ]
     },
     "execution_count": 77,
     "metadata": {},
     "output_type": "execute_result"
    }
   ],
   "source": [
    "s1.index(\"Este\", 15) # Procura pelo substring \"Este\" no string s, a partir do índice 15 usando o método index()"
   ]
  },
  {
   "cell_type": "code",
   "execution_count": 76,
   "id": "e709eb10-476b-430d-9c4f-3c722061672e",
   "metadata": {},
   "outputs": [
    {
     "data": {
      "text/plain": [
       "-1"
      ]
     },
     "execution_count": 76,
     "metadata": {},
     "output_type": "execute_result"
    }
   ],
   "source": [
    "s1.find(\"Este\", 10, 20) # Procura pelo substring \"Este\" no string s, entre os índices 10 e 19 usando o método find() - Como nao existe o nome ESTE entre 10 e 19 ele da o resiltado -1"
   ]
  },
  {
   "cell_type": "code",
   "execution_count": 72,
   "id": "f1dd03f9-b628-4179-a003-c1e1a6694d7c",
   "metadata": {},
   "outputs": [
    {
     "ename": "ValueError",
     "evalue": "substring not found",
     "output_type": "error",
     "traceback": [
      "\u001b[0;31m---------------------------------------------------------------------------\u001b[0m",
      "\u001b[0;31mValueError\u001b[0m                                Traceback (most recent call last)",
      "Cell \u001b[0;32mIn[72], line 1\u001b[0m\n\u001b[0;32m----> 1\u001b[0m s1\u001b[38;5;241m.\u001b[39mindex(\u001b[38;5;124m\"\u001b[39m\u001b[38;5;124mEste\u001b[39m\u001b[38;5;124m\"\u001b[39m, \u001b[38;5;241m10\u001b[39m, \u001b[38;5;241m20\u001b[39m)\n",
      "\u001b[0;31mValueError\u001b[0m: substring not found"
     ]
    }
   ],
   "source": [
    "s1.index(\"Este\", 10, 20) # Procura pelo substring \"Este\" no string s, entre os índices 10 e 19 usando o método index() - Como nao encontrou a palavra ESTE entre 10 e 20 deu uma msg de erro"
   ]
  },
  {
   "cell_type": "markdown",
   "id": "20d31ab5-7e05-4904-9c9d-976572221762",
   "metadata": {},
   "source": [
    "### Exemplo do método format()"
   ]
  },
  {
   "cell_type": "code",
   "execution_count": 78,
   "id": "243294dc-85d5-48cb-bdb3-fbfef81ca2e1",
   "metadata": {},
   "outputs": [
    {
     "name": "stdout",
     "output_type": "stream",
     "text": [
      "Meu nome é Joaquim e tenho 60 anos.\n"
     ]
    }
   ],
   "source": [
    "nome = \"Joaquim\"\n",
    "idade = 60\n",
    "print(\"Meu nome é {} e tenho {} anos.\".format(nome, idade))"
   ]
  },
  {
   "cell_type": "code",
   "execution_count": 79,
   "id": "dec73d2d-fb76-4daa-adc6-382410ccdac9",
   "metadata": {},
   "outputs": [
    {
     "name": "stdout",
     "output_type": "stream",
     "text": [
      "Meu nome é Joaquim e tenho 60 anos.\n"
     ]
    }
   ],
   "source": [
    "print(\"Meu nome é {0} e tenho {1} anos.\".format(nome, idade)) # Acessando por indice - (nome = 0) (idade = 1)"
   ]
  },
  {
   "cell_type": "code",
   "execution_count": 80,
   "id": "d6a9732f-74b0-44ba-a937-8f2d41f93ffc",
   "metadata": {},
   "outputs": [
    {
     "name": "stdout",
     "output_type": "stream",
     "text": [
      "Meu nome é Joaquim e tenho 60 anos.\n",
      "Repetindo... Meu nome é Joaquim e tenho 60 anos.\n"
     ]
    }
   ],
   "source": [
    "print(\"Meu nome é {} e tenho {} anos.\\nRepetindo... Meu nome é {} e tenho {} anos.\".format(nome, idade, nome, idade))"
   ]
  },
  {
   "cell_type": "code",
   "execution_count": 86,
   "id": "807574ff-1f5c-484e-a30c-8624cabcb0fc",
   "metadata": {},
   "outputs": [
    {
     "name": "stdout",
     "output_type": "stream",
     "text": [
      "Meu nome é Joaquim e tenho 60 anos.\n",
      "Repetindo... Eu tenho 60 anos e meu nome é Joaquim.\n"
     ]
    }
   ],
   "source": [
    "print(\"Meu nome é {0} e tenho {1} anos.\\nRepetindo... Eu tenho {1} anos e meu nome é {0}.\".format(nome, idade)) # Usando indice para nao repetir as vriaveis dentro do format"
   ]
  },
  {
   "cell_type": "code",
   "execution_count": 88,
   "id": "eabaf179-85c4-4c06-836c-5a86ce028f3d",
   "metadata": {},
   "outputs": [
    {
     "name": "stdout",
     "output_type": "stream",
     "text": [
      "Meu nome é Pedro e tenho 18 anos.\n"
     ]
    }
   ],
   "source": [
    "print(\"Meu nome é {name} e tenho {age} anos.\".format(age=18, name=\"Pedro\")) # pasando os valores da variavel direto no format"
   ]
  },
  {
   "cell_type": "markdown",
   "id": "8c6be90b-4c11-4cbb-bd89-cff4ffed6a0d",
   "metadata": {},
   "source": [
    "### Exemplo do método isalnum()"
   ]
  },
  {
   "cell_type": "code",
   "execution_count": 89,
   "id": "accf818d-1a86-4b8e-a2cd-e33f7ce330e7",
   "metadata": {},
   "outputs": [
    {
     "data": {
      "text/plain": [
       "True"
      ]
     },
     "execution_count": 89,
     "metadata": {},
     "output_type": "execute_result"
    }
   ],
   "source": [
    " # .isalnum() - Retorna `True` se todos os caracteres na string forem alfanuméricos (letras ou números) \n",
    "s = \"D3C1FR4NDO\"\n",
    "s.isalnum() "
   ]
  },
  {
   "cell_type": "code",
   "execution_count": 90,
   "id": "a733613b-53a7-4cc6-8d47-9afcb19e96cb",
   "metadata": {},
   "outputs": [
    {
     "data": {
      "text/plain": [
       "False"
      ]
     },
     "execution_count": 90,
     "metadata": {},
     "output_type": "execute_result"
    }
   ],
   "source": [
    "s1 = \"D3C1FR4NDO 0 CÓD1G0\" \n",
    "s1.isalnum() # Falso por causa da presença de espaços"
   ]
  },
  {
   "cell_type": "markdown",
   "id": "48c540db-7367-45d3-bc9f-8b9f8fa34927",
   "metadata": {},
   "source": [
    "### Exemplo do método isalpha()"
   ]
  },
  {
   "cell_type": "code",
   "execution_count": 91,
   "id": "8ae0a055-ce22-4023-9360-40abc43ca0e0",
   "metadata": {},
   "outputs": [
    {
     "data": {
      "text/plain": [
       "False"
      ]
     },
     "execution_count": 91,
     "metadata": {},
     "output_type": "execute_result"
    }
   ],
   "source": [
    "# .isalpha() - Retorna `True` se a string tiver apenas letras \n",
    "s = \"D3C1FR4NDO\"\n",
    "s.isalpha()"
   ]
  },
  {
   "cell_type": "code",
   "execution_count": 92,
   "id": "ce5206f1-0a54-4e46-a377-6dc7b4d0b380",
   "metadata": {},
   "outputs": [
    {
     "data": {
      "text/plain": [
       "True"
      ]
     },
     "execution_count": 92,
     "metadata": {},
     "output_type": "execute_result"
    }
   ],
   "source": [
    "s1 = \"CÓDIGO\"\n",
    "s1.isalpha()"
   ]
  },
  {
   "cell_type": "code",
   "execution_count": 93,
   "id": "fdb71a13-3f78-4852-b058-9da14d76208e",
   "metadata": {},
   "outputs": [
    {
     "data": {
      "text/plain": [
       "False"
      ]
     },
     "execution_count": 93,
     "metadata": {},
     "output_type": "execute_result"
    }
   ],
   "source": [
    "s2 = \"DECIFRANDO O CODIGO\"\n",
    "s2.isalpha()"
   ]
  },
  {
   "cell_type": "markdown",
   "id": "c302c8d0-18bd-4c83-887f-737f13f154c1",
   "metadata": {},
   "source": [
    "### Exemplo do método isascii()"
   ]
  },
  {
   "cell_type": "code",
   "execution_count": 94,
   "id": "82bc70ff-cd0c-48dc-bc05-2ac607e9d502",
   "metadata": {},
   "outputs": [
    {
     "data": {
      "text/plain": [
       "False"
      ]
     },
     "execution_count": 94,
     "metadata": {},
     "output_type": "execute_result"
    }
   ],
   "source": [
    "# .isascii() - Retorna True se todos os caracteres na string forem ASCII\n",
    "cidade = 'ӓmsterdӓm'\n",
    "cidade.isascii()"
   ]
  },
  {
   "cell_type": "code",
   "execution_count": 95,
   "id": "a070d7e1-8ec8-406c-bb1e-7ac49a03140f",
   "metadata": {},
   "outputs": [
    {
     "data": {
      "text/plain": [
       "True"
      ]
     },
     "execution_count": 95,
     "metadata": {},
     "output_type": "execute_result"
    }
   ],
   "source": [
    "cidade = 'amsterdam'\n",
    "cidade.isascii()"
   ]
  },
  {
   "cell_type": "markdown",
   "id": "4a0d9038-2a6f-40f5-8aad-a98a952caf0d",
   "metadata": {},
   "source": [
    "### Exemplo dos métodos isdecimal(), isdigit() e isnumeric()"
   ]
  },
  {
   "cell_type": "code",
   "execution_count": null,
   "id": "b395188e-e352-4b17-8880-488ef0c4ba9e",
   "metadata": {},
   "outputs": [],
   "source": [
    "# .isdecimal() - Retorna `True` se todos os caracteres na string forem decimais (0 a 9)"
   ]
  },
  {
   "cell_type": "code",
   "execution_count": null,
   "id": "c38032c0-45c1-4823-848d-5d3c7c4443ad",
   "metadata": {},
   "outputs": [],
   "source": [
    "# .isdigit() - Retorna `True` se todos os caracteres na string forem dígitos (ex: 3²)\n",
    "# Caracteres decimais + subscrito e sobrescrito"
   ]
  },
  {
   "cell_type": "code",
   "execution_count": null,
   "id": "c072e0d0-ecc0-4bae-8566-8328cb764b1e",
   "metadata": {},
   "outputs": [],
   "source": [
    "# isnumeric() - Retorna `True` se todos os caracteres na string forem numéricos (ex: ½)\n",
    "# Caracteres decimais + subscrito e sobrescrito + caracteres UNICODE que representem frações, números romanos, etc"
   ]
  },
  {
   "cell_type": "code",
   "execution_count": 96,
   "id": "cf4c75d5-0795-4bdb-a677-6f0eb1977faa",
   "metadata": {},
   "outputs": [
    {
     "name": "stdout",
     "output_type": "stream",
     "text": [
      "a.isdecimal() =  True\n",
      "b.isdecimal() =  False\n",
      "c.isdecimal() =  False\n",
      "=========================\n",
      "a.isdigit() =  True\n",
      "b.isdigit() =  True\n",
      "c.isdigit() =  False\n",
      "=========================\n",
      "a.isnumeric() =  True\n",
      "b.isnumeric() =  True\n",
      "c.isnumeric() =  True\n"
     ]
    }
   ],
   "source": [
    "a = \"12345\"\n",
    "b = \"1234²\"\n",
    "c = \"123²½\"\n",
    "print(\"a.isdecimal() = \", a.isdecimal())\n",
    "print(\"b.isdecimal() = \", b.isdecimal())\n",
    "print(\"c.isdecimal() = \", c.isdecimal())\n",
    "print(\"=\"*25)\n",
    "print(\"a.isdigit() = \", a.isdigit())\n",
    "print(\"b.isdigit() = \", b.isdigit())\n",
    "print(\"c.isdigit() = \", c.isdigit())\n",
    "print(\"=\"*25)\n",
    "print(\"a.isnumeric() = \", a.isnumeric())\n",
    "print(\"b.isnumeric() = \", b.isnumeric())\n",
    "print(\"c.isnumeric() = \", c.isnumeric())"
   ]
  },
  {
   "cell_type": "markdown",
   "id": "c841c19d-b41d-4e26-ae93-3870db1911ca",
   "metadata": {},
   "source": [
    "### Exemplo do método isidentifier()"
   ]
  },
  {
   "cell_type": "code",
   "execution_count": 97,
   "id": "ae17d137-aaec-4b71-ae32-72eef12934f1",
   "metadata": {},
   "outputs": [
    {
     "data": {
      "text/plain": [
       "True"
      ]
     },
     "execution_count": 97,
     "metadata": {},
     "output_type": "execute_result"
    }
   ],
   "source": [
    "# .isidentifier() - Retorna `True` se a string for um identificador válido em Python \n",
    "s = \"i23ER21\"\n",
    "s.isidentifier()"
   ]
  },
  {
   "cell_type": "code",
   "execution_count": 98,
   "id": "788eb170-aac7-47ca-b105-5aa6baf46730",
   "metadata": {},
   "outputs": [
    {
     "data": {
      "text/plain": [
       "True"
      ]
     },
     "execution_count": 98,
     "metadata": {},
     "output_type": "execute_result"
    }
   ],
   "source": [
    "s = \"_i23ER21\"\n",
    "s.isidentifier()"
   ]
  },
  {
   "cell_type": "code",
   "execution_count": 99,
   "id": "7b594101-53a8-464d-8295-46e403200d43",
   "metadata": {},
   "outputs": [
    {
     "data": {
      "text/plain": [
       "False"
      ]
     },
     "execution_count": 99,
     "metadata": {},
     "output_type": "execute_result"
    }
   ],
   "source": [
    "s = \"nome-aluno\"\n",
    "s.isidentifier()"
   ]
  },
  {
   "cell_type": "code",
   "execution_count": 100,
   "id": "af212d09-c9dd-4b4d-8ca7-871b2f974a78",
   "metadata": {},
   "outputs": [
    {
     "data": {
      "text/plain": [
       "False"
      ]
     },
     "execution_count": 100,
     "metadata": {},
     "output_type": "execute_result"
    }
   ],
   "source": [
    "s = \"nome aluno\"\n",
    "s.isidentifier()"
   ]
  },
  {
   "cell_type": "code",
   "execution_count": 101,
   "id": "24f9ba9f-d079-4e39-abf1-cf32fafbb968",
   "metadata": {},
   "outputs": [
    {
     "data": {
      "text/plain": [
       "True"
      ]
     },
     "execution_count": 101,
     "metadata": {},
     "output_type": "execute_result"
    }
   ],
   "source": [
    "s = \"nome_aluno\"\n",
    "s.isidentifier()"
   ]
  },
  {
   "cell_type": "markdown",
   "id": "bc597316-a4d2-45dc-a301-eed5272dcb8f",
   "metadata": {},
   "source": [
    "### Exemplo dos métodos islower() e isupper()"
   ]
  },
  {
   "cell_type": "code",
   "execution_count": 103,
   "id": "0dc81131-bf49-43c2-ab27-89f6c36f5d43",
   "metadata": {},
   "outputs": [],
   "source": [
    "# .islower() - Retorna `True` se todos as letras da string forem letras minúsculas\n",
    "# .isupper() - Retorna `True` se todos as letras do string forem letras Maiúsculas "
   ]
  },
  {
   "cell_type": "code",
   "execution_count": 104,
   "id": "a7808f8c-c8a4-4d25-8f04-d67f34edb124",
   "metadata": {},
   "outputs": [
    {
     "data": {
      "text/plain": [
       "True"
      ]
     },
     "execution_count": 104,
     "metadata": {},
     "output_type": "execute_result"
    }
   ],
   "source": [
    "s = \"nome_aluno\"\n",
    "s.islower()"
   ]
  },
  {
   "cell_type": "code",
   "execution_count": 105,
   "id": "b6321783-7b69-4e05-8717-886b7698c261",
   "metadata": {},
   "outputs": [
    {
     "data": {
      "text/plain": [
       "False"
      ]
     },
     "execution_count": 105,
     "metadata": {},
     "output_type": "execute_result"
    }
   ],
   "source": [
    "s.isupper()"
   ]
  },
  {
   "cell_type": "code",
   "execution_count": 106,
   "id": "5053d9fe-9e55-4e82-9c7e-72cafaf05b50",
   "metadata": {},
   "outputs": [
    {
     "data": {
      "text/plain": [
       "False"
      ]
     },
     "execution_count": 106,
     "metadata": {},
     "output_type": "execute_result"
    }
   ],
   "source": [
    "s1 = \"nomeAluno\"\n",
    "s1.islower()"
   ]
  },
  {
   "cell_type": "code",
   "execution_count": 107,
   "id": "af6764fd-32b5-472b-9423-7cbbcebcabbb",
   "metadata": {},
   "outputs": [
    {
     "data": {
      "text/plain": [
       "False"
      ]
     },
     "execution_count": 107,
     "metadata": {},
     "output_type": "execute_result"
    }
   ],
   "source": [
    "s1.isupper()"
   ]
  },
  {
   "cell_type": "code",
   "execution_count": 108,
   "id": "c932c448-03b0-4353-8f92-ac3b95424ad2",
   "metadata": {},
   "outputs": [
    {
     "data": {
      "text/plain": [
       "True"
      ]
     },
     "execution_count": 108,
     "metadata": {},
     "output_type": "execute_result"
    }
   ],
   "source": [
    "s2 = \"minha senh@ é 1234\"\n",
    "s2.islower()"
   ]
  },
  {
   "cell_type": "code",
   "execution_count": 109,
   "id": "9ebc5382-8cc0-4d83-ad47-05699577b740",
   "metadata": {},
   "outputs": [
    {
     "data": {
      "text/plain": [
       "False"
      ]
     },
     "execution_count": 109,
     "metadata": {},
     "output_type": "execute_result"
    }
   ],
   "source": [
    "s2.isupper()"
   ]
  },
  {
   "cell_type": "code",
   "execution_count": 110,
   "id": "7cd7c2e0-81c1-4dda-a974-701b4903cdf6",
   "metadata": {},
   "outputs": [
    {
     "data": {
      "text/plain": [
       "False"
      ]
     },
     "execution_count": 110,
     "metadata": {},
     "output_type": "execute_result"
    }
   ],
   "source": [
    "s3 = \"TUDO MAIÚSCULO!!!\"\n",
    "s3.islower()"
   ]
  },
  {
   "cell_type": "code",
   "execution_count": 111,
   "id": "5e12bfbe-781a-41e0-9fe9-2987a89f460d",
   "metadata": {},
   "outputs": [
    {
     "data": {
      "text/plain": [
       "True"
      ]
     },
     "execution_count": 111,
     "metadata": {},
     "output_type": "execute_result"
    }
   ],
   "source": [
    "s3.isupper()"
   ]
  },
  {
   "cell_type": "markdown",
   "id": "49840f63-d993-4357-989a-2dfc8caf7b02",
   "metadata": {},
   "source": [
    "### Exemplo do método isprintable()"
   ]
  },
  {
   "cell_type": "code",
   "execution_count": 112,
   "id": "90f0b263-2f5b-4fae-b547-0549eb44482b",
   "metadata": {},
   "outputs": [
    {
     "data": {
      "text/plain": [
       "False"
      ]
     },
     "execution_count": 112,
     "metadata": {},
     "output_type": "execute_result"
    }
   ],
   "source": [
    "# .isprintable() - Retorna `True` se todos os caracteres da string podem ser impressos \n",
    "s = \"col1\\tcol2\"\n",
    "s.isprintable() # Retora false porque a tabulação não é uma caractere imprimiviu "
   ]
  },
  {
   "cell_type": "code",
   "execution_count": 113,
   "id": "fa09f40b-0ddc-46e5-ab69-e77b1c90b208",
   "metadata": {},
   "outputs": [
    {
     "data": {
      "text/plain": [
       "True"
      ]
     },
     "execution_count": 113,
     "metadata": {},
     "output_type": "execute_result"
    }
   ],
   "source": [
    "s1 = s.expandtabs()\n",
    "s1.isprintable() # Essa função (s.expandtabs) imprimi espaços em branco, então vai dá true porque ele é imprimiviu"
   ]
  },
  {
   "cell_type": "code",
   "execution_count": 114,
   "id": "b00801c2-6a76-4810-ada9-efe3be8ff65a",
   "metadata": {},
   "outputs": [
    {
     "data": {
      "text/plain": [
       "False"
      ]
     },
     "execution_count": 114,
     "metadata": {},
     "output_type": "execute_result"
    }
   ],
   "source": [
    "s2 = \"linha1\\nlinha2\"\n",
    "s2.isprintable() # Retorna Falso porque o caractere de nova linha não é imprimiviu"
   ]
  },
  {
   "cell_type": "markdown",
   "id": "edeea020-4b70-45ec-a271-1f292dfa1f42",
   "metadata": {},
   "source": [
    "### Exemplo do método isspace()"
   ]
  },
  {
   "cell_type": "code",
   "execution_count": 116,
   "id": "059156f2-417d-4325-85d3-9400bc1770f0",
   "metadata": {},
   "outputs": [
    {
     "data": {
      "text/plain": [
       "False"
      ]
     },
     "execution_count": 116,
     "metadata": {},
     "output_type": "execute_result"
    }
   ],
   "source": [
    "# .isspace() - Retorna `True` se houverem apenas espaços em branco na string\n",
    "s1 = \"A B\"\n",
    "s1[0].isspace() # Verificando cada uma das posiçoes que compõe essa estring - (0 = A é um espaço vazio? = Não)"
   ]
  },
  {
   "cell_type": "code",
   "execution_count": 117,
   "id": "1a707b9b-74cf-41f5-a4fa-a6f194ceb57f",
   "metadata": {},
   "outputs": [
    {
     "data": {
      "text/plain": [
       "True"
      ]
     },
     "execution_count": 117,
     "metadata": {},
     "output_type": "execute_result"
    }
   ],
   "source": [
    "s1[1].isspace()"
   ]
  },
  {
   "cell_type": "code",
   "execution_count": 118,
   "id": "578fbbad-1678-4081-a6ed-f59a5f3b1f9c",
   "metadata": {},
   "outputs": [
    {
     "data": {
      "text/plain": [
       "False"
      ]
     },
     "execution_count": 118,
     "metadata": {},
     "output_type": "execute_result"
    }
   ],
   "source": [
    "s1[2].isspace()"
   ]
  },
  {
   "cell_type": "markdown",
   "id": "8b1a91e4-97e8-478a-930d-7cfb22ccd4f6",
   "metadata": {},
   "source": [
    "### Exemplo do método istitle()"
   ]
  },
  {
   "cell_type": "code",
   "execution_count": 119,
   "id": "0f71eeb9-8e83-44d0-b964-2d4da980d65d",
   "metadata": {},
   "outputs": [
    {
     "data": {
      "text/plain": [
       "True"
      ]
     },
     "execution_count": 119,
     "metadata": {},
     "output_type": "execute_result"
    }
   ],
   "source": [
    " # .istitle() - Retorna `True` se a string estiver em formato de *título*, ou seja, se cada palavra da string começa com letra maiúscula e tem o restante das letras minúsculas\n",
    "titulo = \"A Linguagem Python\"\n",
    "titulo.istitle()"
   ]
  },
  {
   "cell_type": "code",
   "execution_count": 120,
   "id": "ef9dadf3-1af1-4146-a24a-7b9717d500f8",
   "metadata": {},
   "outputs": [
    {
     "data": {
      "text/plain": [
       "False"
      ]
     },
     "execution_count": 120,
     "metadata": {},
     "output_type": "execute_result"
    }
   ],
   "source": [
    "titulo = \"A Linguagem de Programação Python\" # de => False\n",
    "titulo.istitle()"
   ]
  },
  {
   "cell_type": "code",
   "execution_count": 121,
   "id": "2a7fc2c8-caae-499f-bb93-9e581a9575c3",
   "metadata": {},
   "outputs": [
    {
     "data": {
      "text/plain": [
       "False"
      ]
     },
     "execution_count": 121,
     "metadata": {},
     "output_type": "execute_result"
    }
   ],
   "source": [
    "titulo = \"A Linguagem DE Programação Python\" # DE => False\n",
    "titulo.istitle()"
   ]
  },
  {
   "cell_type": "code",
   "execution_count": 122,
   "id": "b3789644-4572-4fa1-b612-7aec81672870",
   "metadata": {},
   "outputs": [
    {
     "data": {
      "text/plain": [
       "True"
      ]
     },
     "execution_count": 122,
     "metadata": {},
     "output_type": "execute_result"
    }
   ],
   "source": [
    "titulo = \"A Linguagem De Programação Python\"\n",
    "titulo.istitle()"
   ]
  },
  {
   "cell_type": "markdown",
   "id": "f5c0b680-9f9b-4f83-a84e-3afa84dd41bf",
   "metadata": {},
   "source": [
    "### Exemplo dos métodos ljust() e rjust()"
   ]
  },
  {
   "cell_type": "code",
   "execution_count": 123,
   "id": "92cabcaf-e0b9-4360-ba25-b282e6c3af09",
   "metadata": {},
   "outputs": [],
   "source": [
    "# .ljust() - Retorna uma cópia da string justificada à esquerda\n",
    "# .rjust() - Retorna uma cópia da string justificada à direita"
   ]
  },
  {
   "cell_type": "code",
   "execution_count": 124,
   "id": "e43caebb-5992-4da3-9c4c-611abeadca5e",
   "metadata": {},
   "outputs": [
    {
     "data": {
      "text/plain": [
       "'Esquerda            '"
      ]
     },
     "execution_count": 124,
     "metadata": {},
     "output_type": "execute_result"
    }
   ],
   "source": [
    "s = \"Esquerda\".ljust(20) # Retorna o string de valor 20 alinhado a esquerda o mesmo que = (RETORNA O NOME ESQUERDA E PARA COMPLETAR O VALOR DE 20 CARACTERES ELE PREENCHE COM ESPAÇOS) \n",
    "s"
   ]
  },
  {
   "cell_type": "code",
   "execution_count": 125,
   "id": "d8773cde-bd7e-40dd-93b3-21b24a06110a",
   "metadata": {},
   "outputs": [
    {
     "data": {
      "text/plain": [
       "'             Direita'"
      ]
     },
     "execution_count": 125,
     "metadata": {},
     "output_type": "execute_result"
    }
   ],
   "source": [
    "s1 = \"Direita\".rjust(20) # Retorna o string de valor 20 alinhado a direita o mesmo que = (RETORNA O NOME DIREITA E PARA COMPLETAMENTAR O VALOR DE 20 CARACTERES PREENCHE COM ESPAÇOS)\n",
    "s1"
   ]
  },
  {
   "cell_type": "code",
   "execution_count": 126,
   "id": "e4aa7ac4-336e-4a7a-9f43-8524b5312801",
   "metadata": {},
   "outputs": [
    {
     "data": {
      "text/plain": [
       "'Esquerda<<<<<<<<<<<<'"
      ]
     },
     "execution_count": 126,
     "metadata": {},
     "output_type": "execute_result"
    }
   ],
   "source": [
    "s2 = \"Esquerda\".ljust(20,\"<\") # COMPLETA COM CARACTERE < \n",
    "s2"
   ]
  },
  {
   "cell_type": "code",
   "execution_count": 127,
   "id": "30790337-c87e-424d-8c68-f70483b91cce",
   "metadata": {},
   "outputs": [
    {
     "data": {
      "text/plain": [
       "'>>>>>>>>>>>>>Direita'"
      ]
     },
     "execution_count": 127,
     "metadata": {},
     "output_type": "execute_result"
    }
   ],
   "source": [
    "s3 = \"Direita\".rjust(20,\">\") # COMPLETA COM CARACTERE >\n",
    "s3"
   ]
  },
  {
   "cell_type": "markdown",
   "id": "b71105d5-ea1e-4672-9b00-3b9e940a2f1d",
   "metadata": {},
   "source": [
    "### Exemplo dos métodos lstrip(), rstrip() e strip()"
   ]
  },
  {
   "cell_type": "code",
   "execution_count": 128,
   "id": "5874d3d1-7717-45f4-bdbe-00ff896f26a2",
   "metadata": {},
   "outputs": [],
   "source": [
    "# .lstrip() - Retorna uma cópia da string com os caracteres passados por parâmetro removidos do início da string\n",
    "# .rstrip() - Retorna uma cópia da string com os caracteres passados por parâmetro removidos do final da string\n",
    "# .strip() - Retorna uma cópia da string com os caracteres passados por parâmetro removidos do início e do final da string"
   ]
  },
  {
   "cell_type": "code",
   "execution_count": 129,
   "id": "c739fcdc-91bf-41b9-9da2-d43429607281",
   "metadata": {},
   "outputs": [
    {
     "data": {
      "text/plain": [
       "'ABC   '"
      ]
     },
     "execution_count": 129,
     "metadata": {},
     "output_type": "execute_result"
    }
   ],
   "source": [
    "s = \"      ABC   \" # Os primeiros espaços antes de chegar no nome ABC são removidos\n",
    "s1 = s.lstrip()\n",
    "s1"
   ]
  },
  {
   "cell_type": "code",
   "execution_count": 130,
   "id": "a9566a63-fed2-481f-ac90-2bfd73dfec44",
   "metadata": {},
   "outputs": [
    {
     "data": {
      "text/plain": [
       "'      ABC'"
      ]
     },
     "execution_count": 130,
     "metadata": {},
     "output_type": "execute_result"
    }
   ],
   "source": [
    "s2 = s.rstrip() # Os ultimos espaços depois depois do nome ABC são removidos\n",
    "s2"
   ]
  },
  {
   "cell_type": "code",
   "execution_count": 131,
   "id": "7b8d35bc-edfe-4076-a2b6-e17405e63953",
   "metadata": {},
   "outputs": [
    {
     "data": {
      "text/plain": [
       "'ABC'"
      ]
     },
     "execution_count": 131,
     "metadata": {},
     "output_type": "execute_result"
    }
   ],
   "source": [
    "s3 = s.strip() # O primeiros e ultimos espaços da string ABC são removidos\n",
    "s3"
   ]
  },
  {
   "cell_type": "code",
   "execution_count": 135,
   "id": "8a4ca731-b714-45f7-8d74-ce992bdd4b0c",
   "metadata": {},
   "outputs": [
    {
     "data": {
      "text/plain": [
       "'www.python.org/'"
      ]
     },
     "execution_count": 135,
     "metadata": {},
     "output_type": "execute_result"
    }
   ],
   "source": [
    "link = \"https://www.python.org/\"\n",
    "s4 = link.lstrip(\"hpst:/\") # Estou passando no paremetro que eu quero remover, so preciso repetir o caractere uma unica vez caso ele repita (N = LIDIA EDUARDA (nome.lstrip(DLIA)))\n",
    "s4"
   ]
  },
  {
   "cell_type": "code",
   "execution_count": 134,
   "id": "0558cc11-1d7c-4ef9-a388-09ac2f927d46",
   "metadata": {},
   "outputs": [
    {
     "data": {
      "text/plain": [
       "'https://www.python.org'"
      ]
     },
     "execution_count": 134,
     "metadata": {},
     "output_type": "execute_result"
    }
   ],
   "source": [
    "s5 = link.rstrip(\"hpst:/\") # Nesse exemplo somente a / foi removida\n",
    "s5"
   ]
  },
  {
   "cell_type": "code",
   "execution_count": 136,
   "id": "436647a9-5530-4483-9264-770dfe0e145a",
   "metadata": {},
   "outputs": [
    {
     "data": {
      "text/plain": [
       "'www.python.org'"
      ]
     },
     "execution_count": 136,
     "metadata": {},
     "output_type": "execute_result"
    }
   ],
   "source": [
    "s6 = link.strip(\"hpst:/\")\n",
    "s6"
   ]
  },
  {
   "cell_type": "markdown",
   "id": "0c15b64d-fa34-4fd5-aab7-9030086dca06",
   "metadata": {},
   "source": [
    "### Exemplo dos métodos partition(), rpartition(), split() e rsplit()"
   ]
  },
  {
   "cell_type": "code",
   "execution_count": 137,
   "id": "c26d12d3-a3ff-4c2d-8aa6-e11006781ccc",
   "metadata": {},
   "outputs": [],
   "source": [
    "# .rpartition - Divide a string e retorna uma tupla contendo a parte antes do separador (primeira ocorrência), a string de argumento (separador) e a parte após o separador\n",
    "# .split() - Divide a string à partir da esquerda (primeira posição), usando um separador passado por parâmetro, e retorna uma lista de strings\n",
    "# rsplit() - Divide a string à partir da direita (última posição), usando um separador passado por parâmetro, e retorna uma lista de strings"
   ]
  },
  {
   "cell_type": "code",
   "execution_count": 138,
   "id": "461ba16c-c959-4d2f-958f-cf46e4a68790",
   "metadata": {},
   "outputs": [],
   "source": [
    "email = \"pessoa@dominio.com.br\""
   ]
  },
  {
   "cell_type": "code",
   "execution_count": 139,
   "id": "284e7ccd-6305-4b1a-a73f-55b79d4ec0cb",
   "metadata": {},
   "outputs": [
    {
     "data": {
      "text/plain": [
       "('pessoa', '@', 'dominio.com.br')"
      ]
     },
     "execution_count": 139,
     "metadata": {},
     "output_type": "execute_result"
    }
   ],
   "source": [
    "t1 = email.partition(\"@\")\n",
    "t1"
   ]
  },
  {
   "cell_type": "code",
   "execution_count": 140,
   "id": "6bac4e27-4b06-4043-a0c5-a9409acd13e5",
   "metadata": {},
   "outputs": [
    {
     "data": {
      "text/plain": [
       "tuple"
      ]
     },
     "execution_count": 140,
     "metadata": {},
     "output_type": "execute_result"
    }
   ],
   "source": [
    "type(t1)"
   ]
  },
  {
   "cell_type": "code",
   "execution_count": 141,
   "id": "7d747fac-1cf8-4d1e-8733-d77bbe2eacb8",
   "metadata": {},
   "outputs": [
    {
     "data": {
      "text/plain": [
       "['pessoa', 'dominio.com.br']"
      ]
     },
     "execution_count": 141,
     "metadata": {},
     "output_type": "execute_result"
    }
   ],
   "source": [
    "l1 = email.split(\"@\")\n",
    "l1"
   ]
  },
  {
   "cell_type": "code",
   "execution_count": 142,
   "id": "6d8f2635-e66d-48b5-aaf0-5192059140cd",
   "metadata": {},
   "outputs": [
    {
     "data": {
      "text/plain": [
       "list"
      ]
     },
     "execution_count": 142,
     "metadata": {},
     "output_type": "execute_result"
    }
   ],
   "source": [
    "type(l1)"
   ]
  },
  {
   "cell_type": "code",
   "execution_count": 143,
   "id": "6e5931b4-ca97-4553-ac19-ae457a0812fa",
   "metadata": {},
   "outputs": [
    {
     "data": {
      "text/plain": [
       "['pessoa', 'dominio.com.br']"
      ]
     },
     "execution_count": 143,
     "metadata": {},
     "output_type": "execute_result"
    }
   ],
   "source": [
    "l2 = email.rsplit(\"@\")\n",
    "l2"
   ]
  },
  {
   "cell_type": "code",
   "execution_count": 144,
   "id": "1e29dafd-f994-4ba0-9060-1232c9ec0849",
   "metadata": {},
   "outputs": [
    {
     "data": {
      "text/plain": [
       "('pessoa@dominio', '.', 'com.br')"
      ]
     },
     "execution_count": 144,
     "metadata": {},
     "output_type": "execute_result"
    }
   ],
   "source": [
    "t2 = email.partition(\".\")\n",
    "t2"
   ]
  },
  {
   "cell_type": "code",
   "execution_count": 145,
   "id": "eefc64c7-a8e3-44df-8607-e7c767ec9209",
   "metadata": {},
   "outputs": [
    {
     "data": {
      "text/plain": [
       "['pessoa@dominio', 'com', 'br']"
      ]
     },
     "execution_count": 145,
     "metadata": {},
     "output_type": "execute_result"
    }
   ],
   "source": [
    "l3 = email.split(\".\")\n",
    "l3"
   ]
  },
  {
   "cell_type": "code",
   "execution_count": 149,
   "id": "88ae1efb-fc3e-4cd6-beaf-781c7db96320",
   "metadata": {},
   "outputs": [
    {
     "data": {
      "text/plain": [
       "['pessoa@dominio', 'com', 'br']"
      ]
     },
     "execution_count": 149,
     "metadata": {},
     "output_type": "execute_result"
    }
   ],
   "source": [
    "l4 = email.rsplit(\".\")\n",
    "l4"
   ]
  },
  {
   "cell_type": "code",
   "execution_count": 146,
   "id": "9592b6ae-45ee-4307-ad64-d18ce0a34101",
   "metadata": {},
   "outputs": [
    {
     "data": {
      "text/plain": [
       "['pessoa@dominio', 'com.br']"
      ]
     },
     "execution_count": 146,
     "metadata": {},
     "output_type": "execute_result"
    }
   ],
   "source": [
    "l5 = email.split(\".\", 1)\n",
    "l5"
   ]
  },
  {
   "cell_type": "code",
   "execution_count": 148,
   "id": "603637e4-32c4-4553-9e54-dd2d1ba48b76",
   "metadata": {},
   "outputs": [
    {
     "data": {
      "text/plain": [
       "['pessoa@dominio.com', 'br']"
      ]
     },
     "execution_count": 148,
     "metadata": {},
     "output_type": "execute_result"
    }
   ],
   "source": [
    "l6 = email.rsplit(\".\", 1)\n",
    "l6"
   ]
  },
  {
   "cell_type": "code",
   "execution_count": 150,
   "id": "b6b07552-b0c4-433a-acfe-a0042952a533",
   "metadata": {},
   "outputs": [
    {
     "data": {
      "text/plain": [
       "('012', '.', '345.678.910')"
      ]
     },
     "execution_count": 150,
     "metadata": {},
     "output_type": "execute_result"
    }
   ],
   "source": [
    "seq = \"012.345.678.910\"\n",
    "t3 = seq.partition(\".\")\n",
    "t3"
   ]
  },
  {
   "cell_type": "code",
   "execution_count": 152,
   "id": "ece3efee-e098-4951-8487-6cb2bf6a268b",
   "metadata": {},
   "outputs": [
    {
     "data": {
      "text/plain": [
       "('012.345.678', '.', '910')"
      ]
     },
     "execution_count": 152,
     "metadata": {},
     "output_type": "execute_result"
    }
   ],
   "source": [
    "t4 = seq.rpartition(\".\") # faz a mesma coisa so que a direita\n",
    "t4"
   ]
  },
  {
   "cell_type": "code",
   "execution_count": 153,
   "id": "4cc2b108-2dcb-4d4d-94f3-0298c10796a2",
   "metadata": {},
   "outputs": [
    {
     "name": "stdout",
     "output_type": "stream",
     "text": [
      "['012', '345', '678', '910']\n",
      "['012', '345.678.910']\n",
      "['012', '345', '678.910']\n",
      "['012', '345', '678', '910']\n"
     ]
    }
   ],
   "source": [
    "print(seq.split(\".\"))\n",
    "print(seq.split(\".\", 1))\n",
    "print(seq.split(\".\", 2))\n",
    "print(seq.split(\".\", 3))"
   ]
  },
  {
   "cell_type": "code",
   "execution_count": 154,
   "id": "46728206-6c00-4125-9e41-8dd23413995d",
   "metadata": {},
   "outputs": [
    {
     "name": "stdout",
     "output_type": "stream",
     "text": [
      "['012', '345', '678', '910']\n",
      "['012.345.678', '910']\n",
      "['012.345', '678', '910']\n",
      "['012', '345', '678', '910']\n"
     ]
    }
   ],
   "source": [
    "print(seq.rsplit(\".\"))\n",
    "print(seq.rsplit(\".\", 1))\n",
    "print(seq.rsplit(\".\", 2))\n",
    "print(seq.rsplit(\".\", 3))"
   ]
  },
  {
   "cell_type": "markdown",
   "id": "c0e39d7d-cfa6-4b97-8152-c029f649a825",
   "metadata": {},
   "source": [
    "### Exemplo do método replace()"
   ]
  },
  {
   "cell_type": "code",
   "execution_count": 156,
   "id": "943131d7-ce80-4f17-9a72-b0a446f40a5d",
   "metadata": {},
   "outputs": [
    {
     "name": "stdout",
     "output_type": "stream",
     "text": [
      "Minha biblioteca favorita é numpy.\n",
      "Minha biblioteca favorita é pandas.\n"
     ]
    }
   ],
   "source": [
    "# .replace() - Retorna uma cópia da string onde todas as ocorrências de uma substring são substituídas por outra \n",
    "msg = \"Minha biblioteca favorita é numpy.\"\n",
    "print(msg)\n",
    "msg2 = msg.replace(\"numpy\", \"pandas\")\n",
    "print(msg2)"
   ]
  },
  {
   "cell_type": "code",
   "execution_count": 157,
   "id": "e0ba4c12-07f8-4a11-9339-cfe1d2f2fc26",
   "metadata": {},
   "outputs": [
    {
     "name": "stdout",
     "output_type": "stream",
     "text": [
      "Eu gosto de cães. Os cães são muito legais. Os cães são companheiros.\n",
      "Eu gosto de labradores. Os labradores são muito legais. Os cães são companheiros.\n"
     ]
    }
   ],
   "source": [
    "msg3 = \"Eu gosto de cães. Os cães são muito legais. Os cães são companheiros.\"\n",
    "print(msg3)\n",
    "msg4 = msg3.replace(\"cães\", \"labradores\", 2)\n",
    "print(msg4)"
   ]
  },
  {
   "cell_type": "markdown",
   "id": "da15ef6b-4780-4e2d-b8cb-2c4fe40f4a83",
   "metadata": {},
   "source": [
    "### Exemplo do método splitlines()"
   ]
  },
  {
   "cell_type": "markdown",
   "id": "989f46c2-442a-4941-aad2-666598b27d58",
   "metadata": {},
   "source": [
    "# .splitlines() - Divide e retorna as linhas contidas em uma string\n",
    "s = \"Essa é\\numa\\nstring\\n\\ncom várias\\nlinhas\"\n",
    "print(s)"
   ]
  },
  {
   "cell_type": "code",
   "execution_count": 6,
   "id": "fc4de514-37c9-49a3-90fe-f34d9f2ed90e",
   "metadata": {},
   "outputs": [
    {
     "data": {
      "text/plain": [
       "['Essa é', 'uma', 'string', '', 'com várias', 'linhas']"
      ]
     },
     "execution_count": 6,
     "metadata": {},
     "output_type": "execute_result"
    }
   ],
   "source": [
    "linhas = s.splitlines()\n",
    "linhas"
   ]
  },
  {
   "cell_type": "code",
   "execution_count": 9,
   "id": "af04d01b-c21f-452f-913a-f3d5b872efdb",
   "metadata": {},
   "outputs": [
    {
     "data": {
      "text/plain": [
       "list"
      ]
     },
     "execution_count": 9,
     "metadata": {},
     "output_type": "execute_result"
    }
   ],
   "source": [
    "type(linhas)"
   ]
  },
  {
   "cell_type": "markdown",
   "id": "2c112e47-0db3-46a5-9a96-3ffbec3760af",
   "metadata": {},
   "source": [
    "### Exemplo do método swapcase()"
   ]
  },
  {
   "cell_type": "code",
   "execution_count": 11,
   "id": "41f9aabf-432d-49e4-8bd1-a95e6259d870",
   "metadata": {},
   "outputs": [
    {
     "name": "stdout",
     "output_type": "stream",
     "text": [
      "MAIÚSCULO | minúsculo!\n",
      "maiúsculo | MINÚSCULO!\n"
     ]
    }
   ],
   "source": [
    "# .swapcase() - Retorna uma cópia da string com letras minúsculas convertidas em maiúsculas e vice-versa \n",
    "s = \"MAIÚSCULO | minúsculo!\"\n",
    "s1 = s.swapcase()\n",
    "print(s)\n",
    "print(s1)"
   ]
  },
  {
   "cell_type": "markdown",
   "id": "31ea61ae-490d-4c08-b701-a2e2963351fe",
   "metadata": {},
   "source": [
    "### Exemplo do método title()"
   ]
  },
  {
   "cell_type": "code",
   "execution_count": 12,
   "id": "21c73967-0747-4563-9239-ea3e70861475",
   "metadata": {},
   "outputs": [
    {
     "name": "stdout",
     "output_type": "stream",
     "text": [
      "A Linguagem De Programação Python\n"
     ]
    }
   ],
   "source": [
    "# .title() - Retorna uma cópia da string com letras minúsculas convertidas em maiúsculas e vice-versa \n",
    "titulo = \"a linguagEm de programação pyThon\"\n",
    "novo_titulo = titulo.title()\n",
    "print(novo_titulo)"
   ]
  },
  {
   "cell_type": "markdown",
   "id": "5b3ccef4-da13-4303-986d-2a6bada14fbd",
   "metadata": {},
   "source": [
    "### Exemplo do método zfill()"
   ]
  },
  {
   "cell_type": "code",
   "execution_count": null,
   "id": "46be30ac-c758-4ee7-bb8b-154a0c00cba5",
   "metadata": {},
   "outputs": [],
   "source": []
  },
  {
   "cell_type": "code",
   "execution_count": 16,
   "id": "bf8582d8-189d-4a94-b8e4-86bdfed486d2",
   "metadata": {},
   "outputs": [
    {
     "data": {
      "text/plain": [
       "'000123'"
      ]
     },
     "execution_count": 16,
     "metadata": {},
     "output_type": "execute_result"
    }
   ],
   "source": [
    "# .zfill() - Retorna uma cópia da string preenchida com 0s (zeros) à esquerda\n",
    "cod_prod1 = \"123\".zfill(6)\n",
    "cod_prod1"
   ]
  },
  {
   "cell_type": "code",
   "execution_count": 17,
   "id": "a4c20855-c4f6-4f7c-b12c-2dd2f50fe923",
   "metadata": {},
   "outputs": [
    {
     "data": {
      "text/plain": [
       "'00000234'"
      ]
     },
     "execution_count": 17,
     "metadata": {},
     "output_type": "execute_result"
    }
   ],
   "source": [
    "cod_prod2 = \"234\".zfill(8)\n",
    "cod_prod2"
   ]
  },
  {
   "cell_type": "code",
   "execution_count": 18,
   "id": "a6e5c6db-d66b-48de-8fe0-a0616c17a6a5",
   "metadata": {},
   "outputs": [
    {
     "data": {
      "text/plain": [
       "'123456'"
      ]
     },
     "execution_count": 18,
     "metadata": {},
     "output_type": "execute_result"
    }
   ],
   "source": [
    "cod_prod3 = \"123456\".zfill(5) # Como o string é maior do que o tamanho do string que pedimos para retornar, ele retorna o ramanho orignal do string\n",
    "cod_prod3"
   ]
  }
 ],
 "metadata": {
  "kernelspec": {
   "display_name": "Python 3 (ipykernel)",
   "language": "python",
   "name": "python3"
  },
  "language_info": {
   "codemirror_mode": {
    "name": "ipython",
    "version": 3
   },
   "file_extension": ".py",
   "mimetype": "text/x-python",
   "name": "python",
   "nbconvert_exporter": "python",
   "pygments_lexer": "ipython3",
   "version": "3.11.7"
  }
 },
 "nbformat": 4,
 "nbformat_minor": 5
}
